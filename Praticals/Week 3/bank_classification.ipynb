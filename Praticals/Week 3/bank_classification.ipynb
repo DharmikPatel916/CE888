{
  "nbformat": 4,
  "nbformat_minor": 0,
  "metadata": {
    "colab": {
      "name": "bank_classification.ipynb",
      "provenance": [],
      "collapsed_sections": [],
      "authorship_tag": "ABX9TyOMY98rLvnSCFmJghyRcOjz",
      "include_colab_link": true
    },
    "kernelspec": {
      "name": "python3",
      "display_name": "Python 3"
    }
  },
  "cells": [
    {
      "cell_type": "markdown",
      "metadata": {
        "id": "view-in-github",
        "colab_type": "text"
      },
      "source": [
        "<a href=\"https://colab.research.google.com/github/DharmikPatel916/CE888/blob/main/Praticals/Week%203/bank_classification.ipynb\" target=\"_parent\"><img src=\"https://colab.research.google.com/assets/colab-badge.svg\" alt=\"Open In Colab\"/></a>"
      ]
    },
    {
      "cell_type": "code",
      "metadata": {
        "id": "AXyAs4MkoWXK"
      },
      "source": [
        "#Loading the Libraries\n",
        "%matplotlib inline\n",
        "import matplotlib\n",
        "import numpy as np\n",
        "import matplotlib.pyplot as plt\n",
        "import pandas as pd\n",
        "import seaborn as sns\n",
        "import itertools\n",
        "\n",
        "from sklearn.tree import DecisionTreeRegressor\n",
        "from sklearn.ensemble import RandomForestClassifier, ExtraTreesClassifier\n",
        "from sklearn.model_selection import cross_val_score,cross_val_predict\n",
        "from sklearn.metrics import mean_squared_error as mse\n",
        "from sklearn.metrics import mean_absolute_error as mae\n",
        "from sklearn.metrics import accuracy_score as acc\n",
        "from sklearn.metrics import make_scorer, confusion_matrix\n",
        "from sklearn.dummy import DummyRegressor, DummyClassifier\n",
        "from sklearn.preprocessing import LabelEncoder\n",
        "from sklearn.model_selection import GridSearchCV"
      ],
      "execution_count": null,
      "outputs": []
    },
    {
      "cell_type": "code",
      "metadata": {
        "colab": {
          "base_uri": "https://localhost:8080/",
          "height": 224
        },
        "id": "EAXZj-oGn6vu",
        "outputId": "854add5f-b3ea-49fd-a3da-439ddcda955e"
      },
      "source": [
        "# Load the data\n",
        "df = pd.read_csv('https://raw.githubusercontent.com/albanda/CE888/master/lab3/bank-additional-full.csv', delimiter=\";\")\n",
        "df.head()"
      ],
      "execution_count": null,
      "outputs": [
        {
          "output_type": "execute_result",
          "data": {
            "text/html": [
              "<div>\n",
              "<style scoped>\n",
              "    .dataframe tbody tr th:only-of-type {\n",
              "        vertical-align: middle;\n",
              "    }\n",
              "\n",
              "    .dataframe tbody tr th {\n",
              "        vertical-align: top;\n",
              "    }\n",
              "\n",
              "    .dataframe thead th {\n",
              "        text-align: right;\n",
              "    }\n",
              "</style>\n",
              "<table border=\"1\" class=\"dataframe\">\n",
              "  <thead>\n",
              "    <tr style=\"text-align: right;\">\n",
              "      <th></th>\n",
              "      <th>age</th>\n",
              "      <th>job</th>\n",
              "      <th>marital</th>\n",
              "      <th>education</th>\n",
              "      <th>default</th>\n",
              "      <th>housing</th>\n",
              "      <th>loan</th>\n",
              "      <th>contact</th>\n",
              "      <th>month</th>\n",
              "      <th>day_of_week</th>\n",
              "      <th>duration</th>\n",
              "      <th>campaign</th>\n",
              "      <th>pdays</th>\n",
              "      <th>previous</th>\n",
              "      <th>poutcome</th>\n",
              "      <th>emp.var.rate</th>\n",
              "      <th>cons.price.idx</th>\n",
              "      <th>cons.conf.idx</th>\n",
              "      <th>euribor3m</th>\n",
              "      <th>nr.employed</th>\n",
              "      <th>y</th>\n",
              "    </tr>\n",
              "  </thead>\n",
              "  <tbody>\n",
              "    <tr>\n",
              "      <th>0</th>\n",
              "      <td>56</td>\n",
              "      <td>housemaid</td>\n",
              "      <td>married</td>\n",
              "      <td>basic.4y</td>\n",
              "      <td>no</td>\n",
              "      <td>no</td>\n",
              "      <td>no</td>\n",
              "      <td>telephone</td>\n",
              "      <td>may</td>\n",
              "      <td>mon</td>\n",
              "      <td>261</td>\n",
              "      <td>1</td>\n",
              "      <td>999</td>\n",
              "      <td>0</td>\n",
              "      <td>nonexistent</td>\n",
              "      <td>1.1</td>\n",
              "      <td>93.994</td>\n",
              "      <td>-36.4</td>\n",
              "      <td>4.857</td>\n",
              "      <td>5191.0</td>\n",
              "      <td>no</td>\n",
              "    </tr>\n",
              "    <tr>\n",
              "      <th>1</th>\n",
              "      <td>57</td>\n",
              "      <td>services</td>\n",
              "      <td>married</td>\n",
              "      <td>high.school</td>\n",
              "      <td>unknown</td>\n",
              "      <td>no</td>\n",
              "      <td>no</td>\n",
              "      <td>telephone</td>\n",
              "      <td>may</td>\n",
              "      <td>mon</td>\n",
              "      <td>149</td>\n",
              "      <td>1</td>\n",
              "      <td>999</td>\n",
              "      <td>0</td>\n",
              "      <td>nonexistent</td>\n",
              "      <td>1.1</td>\n",
              "      <td>93.994</td>\n",
              "      <td>-36.4</td>\n",
              "      <td>4.857</td>\n",
              "      <td>5191.0</td>\n",
              "      <td>no</td>\n",
              "    </tr>\n",
              "    <tr>\n",
              "      <th>2</th>\n",
              "      <td>37</td>\n",
              "      <td>services</td>\n",
              "      <td>married</td>\n",
              "      <td>high.school</td>\n",
              "      <td>no</td>\n",
              "      <td>yes</td>\n",
              "      <td>no</td>\n",
              "      <td>telephone</td>\n",
              "      <td>may</td>\n",
              "      <td>mon</td>\n",
              "      <td>226</td>\n",
              "      <td>1</td>\n",
              "      <td>999</td>\n",
              "      <td>0</td>\n",
              "      <td>nonexistent</td>\n",
              "      <td>1.1</td>\n",
              "      <td>93.994</td>\n",
              "      <td>-36.4</td>\n",
              "      <td>4.857</td>\n",
              "      <td>5191.0</td>\n",
              "      <td>no</td>\n",
              "    </tr>\n",
              "    <tr>\n",
              "      <th>3</th>\n",
              "      <td>40</td>\n",
              "      <td>admin.</td>\n",
              "      <td>married</td>\n",
              "      <td>basic.6y</td>\n",
              "      <td>no</td>\n",
              "      <td>no</td>\n",
              "      <td>no</td>\n",
              "      <td>telephone</td>\n",
              "      <td>may</td>\n",
              "      <td>mon</td>\n",
              "      <td>151</td>\n",
              "      <td>1</td>\n",
              "      <td>999</td>\n",
              "      <td>0</td>\n",
              "      <td>nonexistent</td>\n",
              "      <td>1.1</td>\n",
              "      <td>93.994</td>\n",
              "      <td>-36.4</td>\n",
              "      <td>4.857</td>\n",
              "      <td>5191.0</td>\n",
              "      <td>no</td>\n",
              "    </tr>\n",
              "    <tr>\n",
              "      <th>4</th>\n",
              "      <td>56</td>\n",
              "      <td>services</td>\n",
              "      <td>married</td>\n",
              "      <td>high.school</td>\n",
              "      <td>no</td>\n",
              "      <td>no</td>\n",
              "      <td>yes</td>\n",
              "      <td>telephone</td>\n",
              "      <td>may</td>\n",
              "      <td>mon</td>\n",
              "      <td>307</td>\n",
              "      <td>1</td>\n",
              "      <td>999</td>\n",
              "      <td>0</td>\n",
              "      <td>nonexistent</td>\n",
              "      <td>1.1</td>\n",
              "      <td>93.994</td>\n",
              "      <td>-36.4</td>\n",
              "      <td>4.857</td>\n",
              "      <td>5191.0</td>\n",
              "      <td>no</td>\n",
              "    </tr>\n",
              "  </tbody>\n",
              "</table>\n",
              "</div>"
            ],
            "text/plain": [
              "   age        job  marital  ... euribor3m nr.employed   y\n",
              "0   56  housemaid  married  ...     4.857      5191.0  no\n",
              "1   57   services  married  ...     4.857      5191.0  no\n",
              "2   37   services  married  ...     4.857      5191.0  no\n",
              "3   40     admin.  married  ...     4.857      5191.0  no\n",
              "4   56   services  married  ...     4.857      5191.0  no\n",
              "\n",
              "[5 rows x 21 columns]"
            ]
          },
          "metadata": {
            "tags": []
          },
          "execution_count": 2
        }
      ]
    },
    {
      "cell_type": "code",
      "metadata": {
        "id": "Z0IwqjLKpy7D"
      },
      "source": [
        "# converting label into numbers\n",
        "df[[\"y\"]] = df[[\"y\"]].apply(LabelEncoder().fit_transform)"
      ],
      "execution_count": null,
      "outputs": []
    },
    {
      "cell_type": "code",
      "metadata": {
        "colab": {
          "base_uri": "https://localhost:8080/"
        },
        "id": "ypba5-8eyrzn",
        "outputId": "11c231ad-1503-4e25-d0e6-3638899e447f"
      },
      "source": [
        "#Creating dummies to convert the categorical columns to numerical columns\n",
        "df_dummies = pd.get_dummies(df)\n",
        "print(df_dummies)"
      ],
      "execution_count": null,
      "outputs": [
        {
          "output_type": "stream",
          "text": [
            "       age  duration  ...  poutcome_nonexistent  poutcome_success\n",
            "0       56       261  ...                     1                 0\n",
            "1       57       149  ...                     1                 0\n",
            "2       37       226  ...                     1                 0\n",
            "3       40       151  ...                     1                 0\n",
            "4       56       307  ...                     1                 0\n",
            "...    ...       ...  ...                   ...               ...\n",
            "41183   73       334  ...                     1                 0\n",
            "41184   46       383  ...                     1                 0\n",
            "41185   56       189  ...                     1                 0\n",
            "41186   44       442  ...                     1                 0\n",
            "41187   74       239  ...                     0                 0\n",
            "\n",
            "[41188 rows x 64 columns]\n"
          ],
          "name": "stdout"
        }
      ]
    },
    {
      "cell_type": "code",
      "metadata": {
        "id": "1Zaj1v7B2KLG"
      },
      "source": [
        "#Dropping the duration column\n",
        "df_dummies.drop(['duration'],axis = 1, inplace = True)"
      ],
      "execution_count": null,
      "outputs": []
    },
    {
      "cell_type": "code",
      "metadata": {
        "colab": {
          "base_uri": "https://localhost:8080/"
        },
        "id": "dMV2g_WN0vLi",
        "outputId": "e1792fca-e44c-4f4a-80b1-6635625dcb20"
      },
      "source": [
        "print(df_dummies.columns)"
      ],
      "execution_count": null,
      "outputs": [
        {
          "output_type": "stream",
          "text": [
            "Index(['age', 'campaign', 'pdays', 'previous', 'emp.var.rate',\n",
            "       'cons.price.idx', 'cons.conf.idx', 'euribor3m', 'nr.employed', 'y',\n",
            "       'job_admin.', 'job_blue-collar', 'job_entrepreneur', 'job_housemaid',\n",
            "       'job_management', 'job_retired', 'job_self-employed', 'job_services',\n",
            "       'job_student', 'job_technician', 'job_unemployed', 'job_unknown',\n",
            "       'marital_divorced', 'marital_married', 'marital_single',\n",
            "       'marital_unknown', 'education_basic.4y', 'education_basic.6y',\n",
            "       'education_basic.9y', 'education_high.school', 'education_illiterate',\n",
            "       'education_professional.course', 'education_university.degree',\n",
            "       'education_unknown', 'default_no', 'default_unknown', 'default_yes',\n",
            "       'housing_no', 'housing_unknown', 'housing_yes', 'loan_no',\n",
            "       'loan_unknown', 'loan_yes', 'contact_cellular', 'contact_telephone',\n",
            "       'month_apr', 'month_aug', 'month_dec', 'month_jul', 'month_jun',\n",
            "       'month_mar', 'month_may', 'month_nov', 'month_oct', 'month_sep',\n",
            "       'day_of_week_fri', 'day_of_week_mon', 'day_of_week_thu',\n",
            "       'day_of_week_tue', 'day_of_week_wed', 'poutcome_failure',\n",
            "       'poutcome_nonexistent', 'poutcome_success'],\n",
            "      dtype='object')\n"
          ],
          "name": "stdout"
        }
      ]
    },
    {
      "cell_type": "code",
      "metadata": {
        "id": "aC_B2_w225dW",
        "colab": {
          "base_uri": "https://localhost:8080/"
        },
        "outputId": "660ff171-ec04-4025-eaea-77ee7e998c00"
      },
      "source": [
        "#Checking for missing values\n",
        "df_dummies.isnull().sum()   \n",
        "#Since there are no missing values no rows are dropped"
      ],
      "execution_count": null,
      "outputs": [
        {
          "output_type": "execute_result",
          "data": {
            "text/plain": [
              "age                     0\n",
              "campaign                0\n",
              "pdays                   0\n",
              "previous                0\n",
              "emp.var.rate            0\n",
              "                       ..\n",
              "day_of_week_tue         0\n",
              "day_of_week_wed         0\n",
              "poutcome_failure        0\n",
              "poutcome_nonexistent    0\n",
              "poutcome_success        0\n",
              "Length: 63, dtype: int64"
            ]
          },
          "metadata": {
            "tags": []
          },
          "execution_count": 7
        }
      ]
    },
    {
      "cell_type": "code",
      "metadata": {
        "colab": {
          "base_uri": "https://localhost:8080/",
          "height": 279
        },
        "id": "_ZobQmAhBMtC",
        "outputId": "38b7e930-6eed-4324-e1ad-0b7e86c3905e"
      },
      "source": [
        "#Histogram plot of the label\n",
        "sns_plot = sns.histplot(df_dummies['y'])"
      ],
      "execution_count": null,
      "outputs": [
        {
          "output_type": "display_data",
          "data": {
            "image/png": "[encoded data removed]",
            "text/plain": [
              "<Figure size 432x288 with 1 Axes>"
            ]
          },
          "metadata": {
            "tags": [],
            "needs_background": "light"
          }
        }
      ]
    },
    {
      "cell_type": "code",
      "metadata": {
        "colab": {
          "base_uri": "https://localhost:8080/"
        },
        "id": "pNwi2ZziD4_P",
        "outputId": "f8cf0a80-041f-4b69-945c-7dbd5a0c1895"
      },
      "source": [
        "#Calculating the imbalance in the dataset\n",
        "values=df_dummies['y'].value_counts()\n",
        "values"
      ],
      "execution_count": null,
      "outputs": [
        {
          "output_type": "execute_result",
          "data": {
            "text/plain": [
              "0    36548\n",
              "1     4640\n",
              "Name: y, dtype: int64"
            ]
          },
          "metadata": {
            "tags": []
          },
          "execution_count": 9
        }
      ]
    },
    {
      "cell_type": "code",
      "metadata": {
        "colab": {
          "base_uri": "https://localhost:8080/"
        },
        "id": "To4afWxZEPTe",
        "outputId": "ac80e234-11f4-4950-94e9-75e3c71733b1"
      },
      "source": [
        "values[0]"
      ],
      "execution_count": null,
      "outputs": [
        {
          "output_type": "execute_result",
          "data": {
            "text/plain": [
              "36548"
            ]
          },
          "metadata": {
            "tags": []
          },
          "execution_count": 10
        }
      ]
    },
    {
      "cell_type": "code",
      "metadata": {
        "colab": {
          "base_uri": "https://localhost:8080/"
        },
        "id": "xg8M04zrESm2",
        "outputId": "8e0d1e14-950b-4e6b-bb1a-7821b40988e3"
      },
      "source": [
        "values[1]"
      ],
      "execution_count": null,
      "outputs": [
        {
          "output_type": "execute_result",
          "data": {
            "text/plain": [
              "4640"
            ]
          },
          "metadata": {
            "tags": []
          },
          "execution_count": 11
        }
      ]
    },
    {
      "cell_type": "code",
      "metadata": {
        "colab": {
          "base_uri": "https://localhost:8080/"
        },
        "id": "uVpxFdz6D66q",
        "outputId": "06d14dac-5279-4f9d-b9cf-d4608019e539"
      },
      "source": [
        "Imbalance=(values[1]/values[0])\n",
        "Imbalance"
      ],
      "execution_count": null,
      "outputs": [
        {
          "output_type": "execute_result",
          "data": {
            "text/plain": [
              "0.126956331399803"
            ]
          },
          "metadata": {
            "tags": []
          },
          "execution_count": 12
        }
      ]
    },
    {
      "cell_type": "code",
      "metadata": {
        "colab": {
          "base_uri": "https://localhost:8080/"
        },
        "id": "C2SpgnvYENoI",
        "outputId": "3215e9d8-bc7d-4945-a413-8feaa62eb8d6"
      },
      "source": [
        "Imbalance_1=(values[1]/values)\n",
        "Imbalance_1"
      ],
      "execution_count": null,
      "outputs": [
        {
          "output_type": "execute_result",
          "data": {
            "text/plain": [
              "0    0.126956\n",
              "1    1.000000\n",
              "Name: y, dtype: float64"
            ]
          },
          "metadata": {
            "tags": []
          },
          "execution_count": 13
        }
      ]
    },
    {
      "cell_type": "code",
      "metadata": {
        "id": "4zrV0eUKEWCc"
      },
      "source": [
        "#split dataset in features and target variable\n",
        "X = df_dummies.drop('y',axis=1) # Features\n",
        "y = df_dummies.y # Target variable"
      ],
      "execution_count": null,
      "outputs": []
    },
    {
      "cell_type": "code",
      "metadata": {
        "id": "4pHLgPEEE1Kc"
      },
      "source": [
        "#Spliting the data into test and train set\n",
        "from sklearn.model_selection import train_test_split\n",
        "X_train, X_test, y_train, y_test = train_test_split(X, y,stratify=y,test_size=0.20,random_state=50)"
      ],
      "execution_count": null,
      "outputs": []
    },
    {
      "cell_type": "code",
      "metadata": {
        "colab": {
          "base_uri": "https://localhost:8080/"
        },
        "id": "uYeEeQV3E7e4",
        "outputId": "c1ae680b-6110-4bb9-e996-76b7bf77f98f"
      },
      "source": [
        "from sklearn.metrics import f1_score\n",
        "# Fitting Random Forest Classifier to the dataset \n",
        "#Create a Random Forest Classifier\n",
        "RF_Classifier = RandomForestClassifier(n_estimators=100,max_depth=3)\n",
        "\n",
        "#Train the model using the training sets\n",
        "RF_Classifier.fit(X_train, y_train)\n",
        "\n",
        "#Predict the response for test dataset\n",
        "y_pred = RF_Classifier.predict(X_test)\n",
        "\n",
        "print(\"F1 score:\", f1_score(y_test, y_pred))"
      ],
      "execution_count": null,
      "outputs": [
        {
          "output_type": "stream",
          "text": [
            "F1 score: 0.2920962199312715\n"
          ],
          "name": "stdout"
        }
      ]
    },
    {
      "cell_type": "code",
      "metadata": {
        "colab": {
          "base_uri": "https://localhost:8080/"
        },
        "id": "a5HcJJOtE_AS",
        "outputId": "56d9294a-d7ec-400c-d75b-84d2966db7c5"
      },
      "source": [
        "import sklearn\n",
        "sorted(sklearn.metrics.SCORERS.keys())"
      ],
      "execution_count": null,
      "outputs": [
        {
          "output_type": "execute_result",
          "data": {
            "text/plain": [
              "['accuracy',\n",
              " 'adjusted_mutual_info_score',\n",
              " 'adjusted_rand_score',\n",
              " 'average_precision',\n",
              " 'balanced_accuracy',\n",
              " 'completeness_score',\n",
              " 'explained_variance',\n",
              " 'f1',\n",
              " 'f1_macro',\n",
              " 'f1_micro',\n",
              " 'f1_samples',\n",
              " 'f1_weighted',\n",
              " 'fowlkes_mallows_score',\n",
              " 'homogeneity_score',\n",
              " 'jaccard',\n",
              " 'jaccard_macro',\n",
              " 'jaccard_micro',\n",
              " 'jaccard_samples',\n",
              " 'jaccard_weighted',\n",
              " 'max_error',\n",
              " 'mutual_info_score',\n",
              " 'neg_brier_score',\n",
              " 'neg_log_loss',\n",
              " 'neg_mean_absolute_error',\n",
              " 'neg_mean_gamma_deviance',\n",
              " 'neg_mean_poisson_deviance',\n",
              " 'neg_mean_squared_error',\n",
              " 'neg_mean_squared_log_error',\n",
              " 'neg_median_absolute_error',\n",
              " 'neg_root_mean_squared_error',\n",
              " 'normalized_mutual_info_score',\n",
              " 'precision',\n",
              " 'precision_macro',\n",
              " 'precision_micro',\n",
              " 'precision_samples',\n",
              " 'precision_weighted',\n",
              " 'r2',\n",
              " 'recall',\n",
              " 'recall_macro',\n",
              " 'recall_micro',\n",
              " 'recall_samples',\n",
              " 'recall_weighted',\n",
              " 'roc_auc',\n",
              " 'roc_auc_ovo',\n",
              " 'roc_auc_ovo_weighted',\n",
              " 'roc_auc_ovr',\n",
              " 'roc_auc_ovr_weighted',\n",
              " 'v_measure_score']"
            ]
          },
          "metadata": {
            "tags": []
          },
          "execution_count": 45
        }
      ]
    },
    {
      "cell_type": "code",
      "metadata": {
        "colab": {
          "base_uri": "https://localhost:8080/"
        },
        "id": "a4qTaDLyFC6s",
        "outputId": "39653c9c-cd65-47ef-cfb8-a58bd7efa085"
      },
      "source": [
        "from sklearn.metrics import f1_score\n",
        "#Checking the cross validation scores and prediction\n",
        "score=cross_val_score(RF_Classifier, X_train, y_train, cv=10,)\n",
        "print('cross_val_score=',score)\n",
        "predictions = cross_val_predict(RF_Classifier, X_train, y_train, cv=10)\n",
        "f1_score_clf = f1_score(y_train,predictions)\n",
        "print('Cross-Predicted f1_score:', f1_score_clf)"
      ],
      "execution_count": null,
      "outputs": [
        {
          "output_type": "stream",
          "text": [
            "cross_val_score= [0.89408194 0.90045524 0.89499241 0.90015175 0.89347496 0.90136571\n",
            " 0.90531108 0.89802731 0.89772382 0.89499241]\n",
            "Cross-Predicted f1_score: 0.23652016311735388\n"
          ],
          "name": "stdout"
        }
      ]
    },
    {
      "cell_type": "code",
      "metadata": {
        "colab": {
          "base_uri": "https://localhost:8080/"
        },
        "id": "EeEqVh5VFH9v",
        "outputId": "5047698a-d9bb-4ae7-ba61-960204e2618e"
      },
      "source": [
        "#Checking the cross validation average scores\n",
        "score=cross_val_score(RF_Classifier, X_train, y_train, cv=10,scoring=\"f1\")\n",
        "print('cross_val_mean:', score.mean())"
      ],
      "execution_count": null,
      "outputs": [
        {
          "output_type": "stream",
          "text": [
            "cross_val_mean: 0.24443340898240296\n"
          ],
          "name": "stdout"
        }
      ]
    },
    {
      "cell_type": "code",
      "metadata": {
        "colab": {
          "base_uri": "https://localhost:8080/"
        },
        "id": "c8Mtlpq8FPXu",
        "outputId": "2c850b05-6f09-4439-f758-b817811a1eeb"
      },
      "source": [
        "dummy_clf = DummyClassifier(strategy='stratified')\n",
        "dummy_clf.fit(X_train, y_train)\n",
        "print(\"Dummy f1_score: \" , f1_score(y_test, dummy_clf.predict(X_test)))"
      ],
      "execution_count": null,
      "outputs": [
        {
          "output_type": "stream",
          "text": [
            "Dummy f1_score:  0.11516111991547807\n"
          ],
          "name": "stdout"
        }
      ]
    },
    {
      "cell_type": "code",
      "metadata": {
        "colab": {
          "base_uri": "https://localhost:8080/"
        },
        "id": "b095OmPHFS3_",
        "outputId": "929bf854-27b4-41f3-cc72-d39613aa96f1"
      },
      "source": [
        "#Using the Grid search CV we can tune the hyperparameters\n",
        "# defining parameter range \n",
        "param_grid = { \n",
        "    'n_estimators': [100,200,500], \n",
        "    'max_features': ['auto'],\n",
        "    'max_depth' : [5,10,15,20,25,30],\n",
        "    'criterion' :['gini', 'entropy']\n",
        "}\n",
        "grid_search = GridSearchCV(estimator=RF_Classifier, param_grid=param_grid, cv= 5)\n",
        "# fitting the model for grid search \n",
        "grid_search.fit(X_train, y_train)"
      ],
      "execution_count": null,
      "outputs": [
        {
          "output_type": "stream",
          "text": [
            "{'criterion': 'entropy', 'max_depth': 10, 'max_features': 'auto', 'n_estimators': 500}\n"
          ],
          "name": "stdout"
        }
      ]
    },
    {
      "cell_type": "code",
      "metadata": {
        "colab": {
          "base_uri": "https://localhost:8080/"
        },
        "id": "wHh1ayfchzTG",
        "outputId": "6a2ac01c-d9ba-4a9a-8021-b6bf403c4d3e"
      },
      "source": [
        "# print best parameter after tuning \n",
        "print(grid_search.best_params_)"
      ],
      "execution_count": null,
      "outputs": [
        {
          "output_type": "stream",
          "text": [
            "{'criterion': 'entropy', 'max_depth': 10, 'max_features': 'auto', 'n_estimators': 500}\n"
          ],
          "name": "stdout"
        }
      ]
    },
    {
      "cell_type": "code",
      "metadata": {
        "colab": {
          "base_uri": "https://localhost:8080/"
        },
        "id": "Mzlf2NYYFgEp",
        "outputId": "543d5d16-aad4-4c29-9d08-8bd63b29639c"
      },
      "source": [
        "# Fitting Random Forest Classifier to the dataset after hyperparameter tuning\n",
        "#Create a Random Forest Classifier\n",
        "RF_Classifier = RandomForestClassifier(n_estimators=200,max_depth=10,max_features='auto',criterion='entropy')\n",
        "\n",
        "#Train the model using the training sets\n",
        "RF_Classifier.fit(X_train, y_train)\n",
        "\n",
        "#Predict the response for test dataset\n",
        "y_pred = RF_Classifier.predict(X_test)\n",
        "\n",
        "print(\"F1 score:\", f1_score(y_test, y_pred,average='weighted'))"
      ],
      "execution_count": null,
      "outputs": [
        {
          "output_type": "stream",
          "text": [
            "F1 score: 0.8801280039874685\n"
          ],
          "name": "stdout"
        }
      ]
    },
    {
      "cell_type": "code",
      "metadata": {
        "colab": {
          "base_uri": "https://localhost:8080/"
        },
        "id": "hK1EeBokFjjl",
        "outputId": "0e9f0554-1523-459b-f4c7-5c87466a9a5c"
      },
      "source": [
        "from sklearn.metrics import f1_score\n",
        "#Checking the cross validation scores and prediction\n",
        "score=cross_val_score(RF_Classifier, X_train, y_train, cv=10,)\n",
        "print('cross_val_score=',score)\n",
        "predictions = cross_val_predict(RF_Classifier, X_train, y_train, cv=10)\n",
        "f1_score_clf = f1_score(y_train,predictions,average='weighted')\n",
        "print('Cross-Predicted f1_score:', f1_score_clf)"
      ],
      "execution_count": null,
      "outputs": [
        {
          "output_type": "stream",
          "text": [
            "cross_val_score= [0.89984825 0.90318665 0.89650986 0.90075873 0.89317147 0.90409712\n",
            " 0.91016692 0.89802731 0.90075873 0.89802731]\n",
            "Cross-Predicted f1_score: 0.8771938864749234\n"
          ],
          "name": "stdout"
        }
      ]
    },
    {
      "cell_type": "code",
      "metadata": {
        "colab": {
          "base_uri": "https://localhost:8080/"
        },
        "id": "NwvbiMHOFnCF",
        "outputId": "60384da8-cb3f-43cb-ec39-b85030caa8c5"
      },
      "source": [
        "#Checking the cross validation average scores\n",
        "score=cross_val_score(RF_Classifier, X_train, y_train, cv=10,scoring=\"f1\")\n",
        "print('cross_val_mean:', score.mean())"
      ],
      "execution_count": null,
      "outputs": [
        {
          "output_type": "stream",
          "text": [
            "cross_val_mean: 0.3343822018601462\n"
          ],
          "name": "stdout"
        }
      ]
    },
    {
      "cell_type": "code",
      "metadata": {
        "id": "JiCznQwnFqR2"
      },
      "source": [
        "#Assigning the column names to features\n",
        "features=['age', 'campaign', 'pdays', 'previous', 'emp.var.rate',\n",
        "       'cons.price.idx', 'cons.conf.idx', 'euribor3m', 'nr.employed', 'y',\n",
        "       'job_admin.', 'job_blue-collar', 'job_entrepreneur', 'job_housemaid',\n",
        "       'job_management', 'job_retired', 'job_self-employed', 'job_services',\n",
        "       'job_student', 'job_technician', 'job_unemployed', 'job_unknown',\n",
        "       'marital_divorced', 'marital_married', 'marital_single',\n",
        "       'marital_unknown', 'education_basic.4y', 'education_basic.6y',\n",
        "       'education_basic.9y', 'education_high.school', 'education_illiterate',\n",
        "       'education_professional.course', 'education_university.degree',\n",
        "       'education_unknown', 'default_no', 'default_unknown', 'default_yes',\n",
        "       'housing_no', 'housing_unknown', 'housing_yes', 'loan_no',\n",
        "       'loan_unknown', 'loan_yes', 'contact_cellular', 'contact_telephone',\n",
        "       'month_apr', 'month_aug', 'month_dec', 'month_jul', 'month_jun',\n",
        "       'month_mar', 'month_may', 'month_nov', 'month_oct', 'month_sep',\n",
        "       'day_of_week_fri', 'day_of_week_mon', 'day_of_week_thu',\n",
        "       'day_of_week_tue', 'day_of_week_wed', 'poutcome_failure',\n",
        "       'poutcome_nonexistent', 'poutcome_success']"
      ],
      "execution_count": null,
      "outputs": []
    },
    {
      "cell_type": "code",
      "metadata": {
        "colab": {
          "base_uri": "https://localhost:8080/",
          "height": 1000
        },
        "id": "Zw5do7UBFuUN",
        "outputId": "48b9160d-f550-41b6-dd7d-1ffb5c37fffc"
      },
      "source": [
        "#Feature importance\n",
        "importances = RF_Classifier.feature_importances_\n",
        "std = np.std([tree.feature_importances_ for tree in RF_Classifier.estimators_],\n",
        "             axis=0)\n",
        "indices = np.argsort(importances)[::-1]\n",
        "print(indices)\n",
        "\n",
        "# Print the feature ranking\n",
        "print(\"Feature ranking:\")\n",
        "\n",
        "for f in range(X.shape[1]):\n",
        "    print(\"%d. %s (%f)\" % (f + 1, features[indices[f]],  importances[indices[f]]))\n",
        "\n",
        "# Plot the feature importances of the forest\n",
        "fig = plt.figure()\n",
        "plt.title(\"Feature importances\")\n",
        "plt.bar(range(X.shape[1]), importances[indices],\n",
        "       color=\"r\", yerr=std[indices], align=\"center\")\n",
        "plt.xticks(range(X.shape[1]), np.array(features)[indices])\n",
        "plt.xlim([-1, X.shape[1]])\n",
        "plt.ylim([0, None])\n",
        "\n",
        "fig.set_size_inches(15, 8)\n",
        "\n",
        "# plt.savefig(\"importances.pdf\", bbox_inches='tight')"
      ],
      "execution_count": null,
      "outputs": [
        {
          "output_type": "stream",
          "text": [
            "[ 7  8  4  2  6  5 61  0  3 43  1 50 60 42 59 52 49 33 44 55 34 48 31 10\n",
            " 56 54 23 36 38 57 22 58 28 39  9 27 14 41 18 30 25 21 17 53 32 16 47 13\n",
            " 51 45 26 12 15 19 37 40 11 20 46 24 29 35]\n",
            "Feature ranking:\n",
            "1. euribor3m (0.157934)\n",
            "2. nr.employed (0.132247)\n",
            "3. emp.var.rate (0.105489)\n",
            "4. pdays (0.068389)\n",
            "5. cons.conf.idx (0.062581)\n",
            "6. cons.price.idx (0.062434)\n",
            "7. poutcome_nonexistent (0.050206)\n",
            "8. age (0.042752)\n",
            "9. previous (0.022131)\n",
            "10. contact_cellular (0.019870)\n",
            "11. campaign (0.018933)\n",
            "12. month_mar (0.017126)\n",
            "13. poutcome_failure (0.016361)\n",
            "14. loan_yes (0.015834)\n",
            "15. day_of_week_wed (0.014922)\n",
            "16. month_nov (0.012216)\n",
            "17. month_jun (0.011014)\n",
            "18. education_unknown (0.007968)\n",
            "19. contact_telephone (0.007878)\n",
            "20. day_of_week_fri (0.007571)\n",
            "21. default_no (0.007275)\n",
            "22. month_jul (0.006389)\n",
            "23. education_professional.course (0.006108)\n",
            "24. job_admin. (0.005651)\n",
            "25. day_of_week_mon (0.005361)\n",
            "26. month_sep (0.005351)\n",
            "27. marital_married (0.005248)\n",
            "28. default_yes (0.005021)\n",
            "29. housing_unknown (0.004889)\n",
            "30. day_of_week_thu (0.004854)\n",
            "31. marital_divorced (0.004655)\n",
            "32. day_of_week_tue (0.004469)\n",
            "33. education_basic.9y (0.004373)\n",
            "34. housing_yes (0.004066)\n",
            "35. y (0.004065)\n",
            "36. education_basic.6y (0.004005)\n",
            "37. job_management (0.003968)\n",
            "38. loan_unknown (0.003964)\n",
            "39. job_student (0.003838)\n",
            "40. education_illiterate (0.003586)\n",
            "41. marital_unknown (0.003558)\n",
            "42. job_unknown (0.003471)\n",
            "43. job_services (0.003372)\n",
            "44. month_oct (0.003338)\n",
            "45. education_university.degree (0.003095)\n",
            "46. job_self-employed (0.003083)\n",
            "47. month_dec (0.002813)\n",
            "48. job_housemaid (0.002791)\n",
            "49. month_may (0.002691)\n",
            "50. month_apr (0.002685)\n",
            "51. education_basic.4y (0.002388)\n",
            "52. job_entrepreneur (0.002309)\n",
            "53. job_retired (0.002309)\n",
            "54. job_technician (0.002042)\n",
            "55. housing_no (0.002037)\n",
            "56. loan_no (0.001768)\n",
            "57. job_blue-collar (0.001764)\n",
            "58. job_unemployed (0.001530)\n",
            "59. month_aug (0.001145)\n",
            "60. marital_single (0.000664)\n",
            "61. education_high.school (0.000156)\n",
            "62. default_unknown (0.000000)\n"
          ],
          "name": "stdout"
        },
        {
          "output_type": "display_data",
          "data": {
            "image/png": "[encoded data removed]",
            "text/plain": [
              "<Figure size 1080x576 with 1 Axes>"
            ]
          },
          "metadata": {
            "tags": [],
            "needs_background": "light"
          }
        }
      ]
    },
    {
      "cell_type": "markdown",
      "metadata": {
        "id": "LEWyBW5QZPV4"
      },
      "source": [
        "# For Moodle Quiz"
      ]
    },
    {
      "cell_type": "code",
      "metadata": {
        "colab": {
          "base_uri": "https://localhost:8080/"
        },
        "id": "7kpfHBQvZYzu",
        "outputId": "5ef063a3-84da-4c8d-b6ea-58d391aa9e05"
      },
      "source": [
        "#For n_estimators=300,max_depth=6\n",
        "from sklearn.metrics import f1_score\n",
        "# Fitting Random Forest Classifier to the dataset \n",
        "#Create a Random Forest Classifier\n",
        "RF_Classifier = RandomForestClassifier(n_estimators=300,max_depth=6)\n",
        "\n",
        "#Train the model using the training sets\n",
        "RF_Classifier.fit(X_train, y_train)\n",
        "\n",
        "#Predict the response for test dataset\n",
        "y_pred = RF_Classifier.predict(X_test)\n",
        "\n",
        "print(\"F1 score:\", f1_score(y_test, y_pred))"
      ],
      "execution_count": null,
      "outputs": [
        {
          "output_type": "stream",
          "text": [
            "F1 score: 0.3089840470193115\n"
          ],
          "name": "stdout"
        }
      ]
    },
    {
      "cell_type": "code",
      "metadata": {
        "colab": {
          "base_uri": "https://localhost:8080/"
        },
        "id": "6k9QaHrKZdBF",
        "outputId": "6f5a55f4-5bcf-4c15-bc7d-5608fa36c0a7"
      },
      "source": [
        "from sklearn.metrics import f1_score\n",
        "#Checking the cross validation scores and prediction\n",
        "score=cross_val_score(RF_Classifier, X_train, y_train, cv=10,)\n",
        "print('cross_val_score=',score)\n",
        "predictions = cross_val_predict(RF_Classifier, X_train, y_train, cv=10)\n",
        "f1_score_clf = f1_score(y_train,predictions)\n",
        "print('Cross-Predicted f1_score:', f1_score_clf)"
      ],
      "execution_count": null,
      "outputs": [
        {
          "output_type": "stream",
          "text": [
            "cross_val_score= [0.89559939 0.90318665 0.89468892 0.89984825 0.89438543 0.90349014\n",
            " 0.91016692 0.89681335 0.89924127 0.89772382]\n",
            "Cross-Predicted f1_score: 0.282561661618347\n"
          ],
          "name": "stdout"
        }
      ]
    },
    {
      "cell_type": "code",
      "metadata": {
        "colab": {
          "base_uri": "https://localhost:8080/"
        },
        "id": "pFNqlW4KZfeU",
        "outputId": "87754afc-a101-4a0b-db94-141ec7dfa8e6"
      },
      "source": [
        "#Checking the cross validation average scores\n",
        "score=cross_val_score(RF_Classifier, X_train, y_train, cv=10,scoring=\"f1\")\n",
        "print('cross_val_mean:', score.mean())"
      ],
      "execution_count": null,
      "outputs": [
        {
          "output_type": "stream",
          "text": [
            "cross_val_mean: 0.28239704828613826\n"
          ],
          "name": "stdout"
        }
      ]
    },
    {
      "cell_type": "code",
      "metadata": {
        "colab": {
          "base_uri": "https://localhost:8080/"
        },
        "id": "xIrqp_GCZh-W",
        "outputId": "c842fa1a-933d-40fe-e88f-4f732a7ab10c"
      },
      "source": [
        "#For n_estimators=200,max_depth=8\n",
        "from sklearn.metrics import f1_score\n",
        "# Fitting Random Forest Classifier to the dataset \n",
        "#Create a Random Forest Classifier\n",
        "RF_Classifier = RandomForestClassifier(n_estimators=200,max_depth=8)\n",
        "\n",
        "#Train the model using the training sets\n",
        "RF_Classifier.fit(X_train, y_train)\n",
        "\n",
        "#Predict the response for test dataset\n",
        "y_pred = RF_Classifier.predict(X_test)\n",
        "\n",
        "print(\"F1 score:\", f1_score(y_test, y_pred))"
      ],
      "execution_count": null,
      "outputs": [
        {
          "output_type": "stream",
          "text": [
            "F1 score: 0.3371150729335494\n"
          ],
          "name": "stdout"
        }
      ]
    },
    {
      "cell_type": "code",
      "metadata": {
        "colab": {
          "base_uri": "https://localhost:8080/"
        },
        "id": "RAn5iB7DZlEP",
        "outputId": "b70ecf6f-0e08-47cc-ca5f-829b4d37bd93"
      },
      "source": [
        "from sklearn.metrics import f1_score\n",
        "#Checking the cross validation scores and prediction\n",
        "score=cross_val_score(RF_Classifier, X_train, y_train, cv=10,)\n",
        "print('cross_val_score=',score)\n",
        "predictions = cross_val_predict(RF_Classifier, X_train, y_train, cv=10)\n",
        "f1_score_clf = f1_score(y_train,predictions)\n",
        "print('Cross-Predicted f1_score:', f1_score_clf)"
      ],
      "execution_count": null,
      "outputs": [
        {
          "output_type": "stream",
          "text": [
            "cross_val_score= [0.89742033 0.90227618 0.89590288 0.89893778 0.89438543 0.90379363\n",
            " 0.91168437 0.89650986 0.90015175 0.89711684]\n",
            "Cross-Predicted f1_score: 0.3014799154334038\n"
          ],
          "name": "stdout"
        }
      ]
    },
    {
      "cell_type": "code",
      "metadata": {
        "colab": {
          "base_uri": "https://localhost:8080/"
        },
        "id": "pozhgdixZpT_",
        "outputId": "e87a59f8-10e8-4a19-9f34-da915caaad06"
      },
      "source": [
        "#Checking the cross validation average scores\n",
        "score=cross_val_score(RF_Classifier, X_train, y_train, cv=10,scoring=\"f1\")\n",
        "print('cross_val_mean:', score.mean())"
      ],
      "execution_count": null,
      "outputs": [
        {
          "output_type": "stream",
          "text": [
            "cross_val_mean: 0.3009932554645471\n"
          ],
          "name": "stdout"
        }
      ]
    },
    {
      "cell_type": "code",
      "metadata": {
        "id": "GVsOKUiuXCtF"
      },
      "source": [
        "#For n_estimators=400,max_depth=6,random_state=60 generalisation error\n",
        "from sklearn.metrics import f1_score\n",
        "# Fitting Random Forest Classifier to the dataset \n",
        "#Create a Random Forest Classifier\n",
        "RF_Classifier = RandomForestClassifier(n_estimators=400,max_depth=6,random_state=60)\n",
        "\n",
        "#Train the model using the training sets\n",
        "RF_Classifier.fit(X_train, y_train)\n",
        "\n",
        "#Predict the response for test dataset\n",
        "y_pred = RF_Classifier.predict(X_test)\n",
        "\n",
        "print(\"F1 score:\", f1_score(y_test, y_pred))"
      ],
      "execution_count": null,
      "outputs": []
    },
    {
      "cell_type": "code",
      "metadata": {
        "colab": {
          "base_uri": "https://localhost:8080/"
        },
        "id": "E3sYSMd-ZtNj",
        "outputId": "22f2ab72-dfb8-4d89-b4ea-404c52585f1f"
      },
      "source": [
        "#For n_estimators=750,max_depth=6,random_state=60 top 3 features\n",
        "from sklearn.metrics import f1_score\n",
        "# Fitting Random Forest Classifier to the dataset \n",
        "#Create a Random Forest Classifier\n",
        "RF_Classifier = RandomForestClassifier(n_estimators=750,max_depth=6,random_state=60)\n",
        "\n",
        "#Train the model using the training sets\n",
        "RF_Classifier.fit(X_train, y_train)\n",
        "\n",
        "#Predict the response for test dataset\n",
        "y_pred = RF_Classifier.predict(X_test)\n",
        "\n",
        "print(\"F1 score:\", f1_score(y_test, y_pred))\n"
      ],
      "execution_count": null,
      "outputs": [
        {
          "output_type": "stream",
          "text": [
            "F1 score: 0.30846605196982396\n"
          ],
          "name": "stdout"
        }
      ]
    },
    {
      "cell_type": "code",
      "metadata": {
        "colab": {
          "base_uri": "https://localhost:8080/",
          "height": 1000
        },
        "id": "ChjCqaJvZv2y",
        "outputId": "5881aa50-ff8f-46c5-9f6f-930db071b297"
      },
      "source": [
        "#Feature importance for n_estimators=750,max_depth=6,random_state=60\n",
        "importances = RF_Classifier.feature_importances_\n",
        "std = np.std([tree.feature_importances_ for tree in RF_Classifier.estimators_],\n",
        "             axis=0)\n",
        "indices = np.argsort(importances)[::-1]\n",
        "print(indices)\n",
        "\n",
        "# Print the feature ranking\n",
        "print(\"Feature ranking:\")\n",
        "\n",
        "for f in range(X.shape[1]):\n",
        "    print(\"%d. %s (%f)\" % (f + 1, features[indices[f]],  importances[indices[f]]))\n",
        "\n",
        "# Plot the feature importances of the forest\n",
        "fig = plt.figure()\n",
        "plt.title(\"Feature importances\")\n",
        "plt.bar(range(X.shape[1]), importances[indices],\n",
        "       color=\"r\", yerr=std[indices], align=\"center\")\n",
        "plt.xticks(range(X.shape[1]), np.array(features)[indices])\n",
        "plt.xlim([-1, X.shape[1]])\n",
        "plt.ylim([0, None])\n",
        "\n",
        "fig.set_size_inches(15, 8)\n",
        "\n",
        "# plt.savefig(\"importances.pdf\", bbox_inches='tight')"
      ],
      "execution_count": null,
      "outputs": [
        {
          "output_type": "stream",
          "text": [
            "[ 8  7  2 61  4  6  5  3  0 60 49 59 52 50 42 43 44 53 48  1 33 55 34 17\n",
            " 10 14 31 45 56 23 46 57 51 47 58 27 54 22 28 18 30 36 38  9 39 41 16 32\n",
            " 25 21 15 20 13 19 26 11 37 40 12 24 29 35]\n",
            "Feature ranking:\n",
            "1. nr.employed (0.187520)\n",
            "2. euribor3m (0.146777)\n",
            "3. pdays (0.114164)\n",
            "4. poutcome_nonexistent (0.099274)\n",
            "5. emp.var.rate (0.085325)\n",
            "6. cons.conf.idx (0.075486)\n",
            "7. cons.price.idx (0.059134)\n",
            "8. previous (0.027865)\n",
            "9. age (0.025772)\n",
            "10. poutcome_failure (0.019180)\n",
            "11. month_jun (0.017644)\n",
            "12. day_of_week_wed (0.015765)\n",
            "13. month_nov (0.015425)\n",
            "14. month_mar (0.013593)\n",
            "15. loan_yes (0.012608)\n",
            "16. contact_cellular (0.011195)\n",
            "17. contact_telephone (0.007116)\n",
            "18. month_oct (0.005444)\n",
            "19. month_jul (0.004910)\n",
            "20. campaign (0.004351)\n",
            "21. education_unknown (0.003925)\n",
            "22. day_of_week_fri (0.003591)\n",
            "23. default_no (0.003377)\n",
            "24. job_services (0.003221)\n",
            "25. job_admin. (0.002988)\n",
            "26. job_management (0.002521)\n",
            "27. education_professional.course (0.001995)\n",
            "28. month_apr (0.001604)\n",
            "29. day_of_week_mon (0.001560)\n",
            "30. marital_married (0.001560)\n",
            "31. month_aug (0.001473)\n",
            "32. day_of_week_thu (0.001369)\n",
            "33. month_may (0.001293)\n",
            "34. month_dec (0.001291)\n",
            "35. day_of_week_tue (0.001256)\n",
            "36. education_basic.6y (0.001199)\n",
            "37. month_sep (0.001174)\n",
            "38. marital_divorced (0.001143)\n",
            "39. education_basic.9y (0.001106)\n",
            "40. job_student (0.000915)\n",
            "41. education_illiterate (0.000900)\n",
            "42. default_yes (0.000897)\n",
            "43. housing_unknown (0.000868)\n",
            "44. y (0.000867)\n",
            "45. housing_yes (0.000844)\n",
            "46. loan_unknown (0.000804)\n",
            "47. job_self-employed (0.000737)\n",
            "48. education_university.degree (0.000710)\n",
            "49. marital_unknown (0.000685)\n",
            "50. job_unknown (0.000685)\n",
            "51. job_retired (0.000656)\n",
            "52. job_unemployed (0.000578)\n",
            "53. job_housemaid (0.000550)\n",
            "54. job_technician (0.000547)\n",
            "55. education_basic.4y (0.000542)\n",
            "56. job_blue-collar (0.000471)\n",
            "57. housing_no (0.000435)\n",
            "58. loan_no (0.000419)\n",
            "59. job_entrepreneur (0.000394)\n",
            "60. marital_single (0.000233)\n",
            "61. education_high.school (0.000069)\n",
            "62. default_unknown (0.000000)\n"
          ],
          "name": "stdout"
        },
        {
          "output_type": "display_data",
          "data": {
            "image/png": "[encoded data removed]",
            "text/plain": [
              "<Figure size 1080x576 with 1 Axes>"
            ]
          },
          "metadata": {
            "tags": [],
            "needs_background": "light"
          }
        }
      ]
    }
  ]
}