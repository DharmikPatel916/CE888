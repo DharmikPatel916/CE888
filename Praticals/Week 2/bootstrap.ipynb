{
  "nbformat": 4,
  "nbformat_minor": 0,
  "metadata": {
    "colab": {
      "name": "bootstrap.ipynb",
      "provenance": [],
      "collapsed_sections": [],
      "include_colab_link": true
    },
    "kernelspec": {
      "display_name": "Python 3",
      "language": "python",
      "name": "python3"
    },
    "language_info": {
      "codemirror_mode": {
        "name": "ipython",
        "version": 3
      },
      "file_extension": ".py",
      "mimetype": "text/x-python",
      "name": "python",
      "nbconvert_exporter": "python",
      "pygments_lexer": "ipython3",
      "version": "3.7.6"
    },
    "pycharm": {
      "stem_cell": {
        "cell_type": "raw",
        "metadata": {
          "collapsed": false
        },
        "source": []
      }
    }
  },
  "cells": [
    {
      "cell_type": "markdown",
      "metadata": {
        "id": "view-in-github",
        "colab_type": "text"
      },
      "source": [
        "<a href=\"https://colab.research.google.com/github/DharmikPatel916/CE888/blob/main/Praticals/Week%202/bootstrap.ipynb\" target=\"_parent\"><img src=\"https://colab.research.google.com/assets/colab-badge.svg\" alt=\"Open In Colab\"/></a>"
      ]
    },
    {
      "cell_type": "markdown",
      "metadata": {
        "id": "nCi_99yMYIb1"
      },
      "source": [
        "In this notebook you'll create your own bootstrap function following the bootstrap algorithm (check the lecture notes!)"
      ]
    },
    {
      "cell_type": "code",
      "metadata": {
        "id": "LY5zujI2YC37",
        "pycharm": {
          "name": "#%%# Imports\n"
        }
      },
      "source": [
        "import matplotlib\n",
        "import pandas as pd\n",
        "import seaborn as sns\n",
        "import numpy as np\n",
        "import statistics as st\n"
      ],
      "execution_count": null,
      "outputs": []
    },
    {
      "cell_type": "code",
      "metadata": {
        "id": "Eqkwj4SMY38t"
      },
      "source": [
        "# Load the data\n",
        "df = pd.read_csv('https://raw.githubusercontent.com/albanda/CE888/master/lab2%20-%20bootstrap/customers.csv')\n",
        "data = df.values.T[1]"
      ],
      "execution_count": null,
      "outputs": []
    },
    {
      "cell_type": "code",
      "metadata": {
        "id": "Gxvc_bScYC4H",
        "pycharm": {
          "name": "#%%\n"
        }
      },
      "source": [
        "# Checking the notes from the lecture, create here your own bootstrap function:\n",
        "# 1. Sample from the input array x to create an array of samples of shape (n_bootstraps, sample_size)\n",
        "# Hint: Check the function random.choice() on Numpy\n",
        "# 2. Calculate and save the mean of the array (this is \"data_mean\" that is returned by the function)\n",
        "# 3. Calculate the mean from each bootstrap (i.e., row) and store it.\n",
        "# (This should be an array of n_bootstraps values)\n",
        "# 4. Calculate the lower and upper bounds for a 95% CI (hint: check the percentile function on Numpy)\n",
        "# 5. Return data_mean, and the lower and upper bounds of your interval\n",
        "def bootstrap_mean(x, sample_size, n_bootstraps):\n",
        "\t# <---INSERT YOUR CODE HERE--->\n",
        "  sam=np.random.choice(x, size=(n_bootstraps, sample_size), replace=True, p=None)\n",
        "  data_mean=np.mean(sam)\n",
        "  av= np.mean(sam, axis=1)\n",
        "  per=np.percentile(av, [(100-95)/2,100-((100-95)/2)], axis=None, out=None) \n",
        "  lower=per[0]\n",
        "  upper=per[len(per)-1]\n",
        "  return data_mean, lower, upper"
      ],
      "execution_count": null,
      "outputs": []
    },
    {
      "cell_type": "code",
      "metadata": {
        "id": "AN7sEOcMYC4P",
        "pycharm": {
          "name": "#%%\n"
        },
        "colab": {
          "base_uri": "https://localhost:8080/",
          "height": 454
        },
        "outputId": "0da26d3c-ed91-4a8c-95d2-fc8a0915118a"
      },
      "source": [
        "# Call your bootstrap function and plot the results\n",
        "\n",
        "boots = []\n",
        "for i in range(100, 50000, 1000):\n",
        "    boot = bootstrap_mean(data, data.shape[0], i)\n",
        "    boots.append([i, boot[0], \"mean\"])\n",
        "    boots.append([i, boot[1], \"lower\"])\n",
        "    boots.append([i, boot[2], \"upper\"])\n",
        "\n",
        "df_boot = pd.DataFrame(boots, columns=['Bootstrap Iterations', 'Mean', \"Value\"])\n",
        "sns_plot = sns.lmplot(df_boot.columns[0], df_boot.columns[1], data=df_boot, fit_reg=False, hue=\"Value\")\n",
        "\n",
        "sns_plot.axes[0, 0].set_ylim(0,)\n",
        "sns_plot.axes[0, 0].set_xlim(0, 100000)"
      ],
      "execution_count": null,
      "outputs": [
        {
          "output_type": "stream",
          "text": [
            "/usr/local/lib/python3.6/dist-packages/seaborn/_decorators.py:43: FutureWarning: Pass the following variables as keyword args: x, y. From version 0.12, the only valid positional argument will be `data`, and passing other arguments without an explicit keyword will result in an error or misinterpretation.\n",
            "  FutureWarning\n"
          ],
          "name": "stderr"
        },
        {
          "output_type": "execute_result",
          "data": {
            "text/plain": [
              "(0.0, 100000.0)"
            ]
          },
          "metadata": {
            "tags": []
          },
          "execution_count": 4
        },
        {
          "output_type": "display_data",
          "data": {
            "image/png": "[encoded data removed]",
            "text/plain": [
              "<Figure size 425.125x360 with 1 Axes>"
            ]
          },
          "metadata": {
            "tags": [],
            "needs_background": "light"
          }
        }
      ]
    },
    {
      "cell_type": "markdown",
      "metadata": {
        "id": "MjtP4e2_YC4V"
      },
      "source": [
        "\n",
        "Now, modify the bootstrap function you created above so that you can pass your desired confidence interval as a parameter.\n",
        "\n"
      ]
    },
    {
      "cell_type": "code",
      "metadata": {
        "id": "3K9j0FuGYhHs"
      },
      "source": [
        "def bootstrap_mean_ci(sample, sample_size, n_bootstraps, ci):\n",
        "\t# <---INSERT YOUR CODE HERE--->\n",
        "  sam=np.random.choice(sample, size=(n_bootstraps, sample_size), replace=True, p=None)\n",
        "  data_mean=np.mean(sam)\n",
        "  av= np.mean(sam, axis=1)\n",
        "  per=np.percentile(av, [(100-ci)/2,100-((100-ci)/2)], axis=None, out=None)\n",
        "\n",
        "#standard deviation\n",
        "  # data_std= np.std(sam)                        \n",
        "  # std_row= np.std(sam, axis=1)\n",
        "  #per=np.percentile(std_row, [(100-ci)/2,100-((100-ci)/2)], axis=None, out=None) \n",
        "  \n",
        "  lower=per[0]\n",
        "  upper=per[len(per)-1]\n",
        "  print(per)\n",
        "  return data_mean, lower, upper      #while using standard deviation return change with data_std\n",
        "\n",
        "\t"
      ],
      "execution_count": null,
      "outputs": []
    },
    {
      "cell_type": "code",
      "metadata": {
        "id": "uDnjq08GYl-C",
        "colab": {
          "base_uri": "https://localhost:8080/",
          "height": 828
        },
        "outputId": "48207bb0-bd63-4d83-bd23-dd69d9dd4997"
      },
      "source": [
        "boots = []\n",
        "for i in range(1, 10002, 1000):\n",
        "    print(i)\n",
        "    boot = bootstrap_mean_ci(data, data.shape[0], i, 85)\n",
        "    boots.append([i, boot[0], \"mean\"])\n",
        "    boots.append([i, boot[1], \"lower\"])\n",
        "    boots.append([i, boot[2], \"upper\"])\n",
        "\n",
        "df_boot = pd.DataFrame(boots, columns=['Boostrap Iterations', 'Mean', \"Value\"])\n",
        "sns_plot = sns.lmplot(df_boot.columns[0], df_boot.columns[1], data=df_boot, fit_reg=False, hue=\"Value\")\n",
        "\n",
        "sns_plot.axes[0, 0].set_ylim(0,)\n",
        "sns_plot.axes[0, 0].set_xlim(0, 100000)\n",
        "\n",
        "#sns_plot.savefig(\"bootstrap_confidence_80.pdf\", bbox_inches='tight')\n"
      ],
      "execution_count": null,
      "outputs": [
        {
          "output_type": "stream",
          "text": [
            "1\n",
            "[7.5 7.5]\n",
            "1001\n",
            "[ 7.21428571 11.57142857]\n",
            "2001\n",
            "[ 7.14285714 11.42857143]\n",
            "3001\n",
            "[ 7.  11.5]\n",
            "4001\n",
            "[ 7.07142857 11.42857143]\n",
            "5001\n",
            "[ 7.07142857 11.42857143]\n",
            "6001\n",
            "[ 7.14285714 11.5       ]\n",
            "7001\n",
            "[ 7.         11.42857143]\n",
            "8001\n",
            "[ 7.07142857 11.42857143]\n",
            "9001\n",
            "[ 7.07142857 11.5       ]\n",
            "10001\n",
            "[ 7.07142857 11.5       ]\n"
          ],
          "name": "stdout"
        },
        {
          "output_type": "stream",
          "text": [
            "/usr/local/lib/python3.6/dist-packages/seaborn/_decorators.py:43: FutureWarning: Pass the following variables as keyword args: x, y. From version 0.12, the only valid positional argument will be `data`, and passing other arguments without an explicit keyword will result in an error or misinterpretation.\n",
            "  FutureWarning\n"
          ],
          "name": "stderr"
        },
        {
          "output_type": "execute_result",
          "data": {
            "text/plain": [
              "(0.0, 100000.0)"
            ]
          },
          "metadata": {
            "tags": []
          },
          "execution_count": 6
        },
        {
          "output_type": "display_data",
          "data": {
            "image/png": "[encoded data removed]",
            "text/plain": [
              "<Figure size 425.125x360 with 1 Axes>"
            ]
          },
          "metadata": {
            "tags": [],
            "needs_background": "light"
          }
        }
      ]
    },
    {
      "cell_type": "markdown",
      "metadata": {
        "id": "qjNgXW6wdd7r"
      },
      "source": [
        "# Vehicles dataset\n",
        "\n",
        "Now let's work on a different dataset, which is stored in the vehicles.csv file.\n"
      ]
    },
    {
      "cell_type": "code",
      "metadata": {
        "id": "avWv4ipFdpka"
      },
      "source": [
        "# Load and visualise the vehicles dataset\n",
        "# To load the dataset: https://neptune.ai/blog/google-colab-dealing-with-files (check section \"Load individual files directly from GitHub\")\n",
        "\n",
        "\n",
        "# Note that the current and new fleets are in different columns and have different lengths, so bear this in mind when you're plotting.\n",
        "# You can create separate scatterplots for the two fleets, as you would with the histograms, \n",
        "# or plot them both in one plot (but not one against the other).\n",
        "# <---INSERT YOUR CODE HERE--->\n",
        "# Note: you can add more cells as needed to organise your code and your plots\n"
      ],
      "execution_count": null,
      "outputs": []
    },
    {
      "cell_type": "code",
      "metadata": {
        "id": "j3nW-dqRMoTf"
      },
      "source": [
        "df = pd.read_csv('https://raw.githubusercontent.com/albanda/CE888/master/lab2%20-%20bootstrap/vehicles.csv')\r\n",
        "data_f1 = df.values.T[0]\r\n",
        "data_f2t = df.values.T[1]\r\n",
        "data_f2=data_f2t[:79]"
      ],
      "execution_count": null,
      "outputs": []
    },
    {
      "cell_type": "code",
      "metadata": {
        "colab": {
          "base_uri": "https://localhost:8080/"
        },
        "id": "z5vunXckq9q_",
        "outputId": "a1ce175d-e74a-4a37-e167-77e62a2565bf"
      },
      "source": [
        "boots = []\n",
        "for i in range(1, 10002, 1000):\n",
        "    print(i)\n",
        "    boot = bootstrap_mean_ci(data_f1, data_f1.shape[0], i, 73)\n",
        "    boots.append([i, boot[0], \"mean\"])\n",
        "    boots.append([i, boot[1], \"lower\"])\n",
        "    boots.append([i, boot[2], \"upper\"])"
      ],
      "execution_count": null,
      "outputs": [
        {
          "output_type": "stream",
          "text": [
            "1\n",
            "[6.64523336 6.64523336]\n",
            "1001\n",
            "[6.06699053 6.71307695]\n",
            "2001\n",
            "[6.05636605 6.67409225]\n",
            "3001\n",
            "[6.0540407 6.6969747]\n",
            "4001\n",
            "[6.06438735 6.70356316]\n",
            "5001\n",
            "[6.05447228 6.69047136]\n",
            "6001\n",
            "[6.05078692 6.69591494]\n",
            "7001\n",
            "[6.05915901 6.70565606]\n",
            "8001\n",
            "[6.05934533 6.69675795]\n",
            "9001\n",
            "[6.06139457 6.70999853]\n",
            "10001\n",
            "[6.06673265 6.70058628]\n"
          ],
          "name": "stdout"
        }
      ]
    },
    {
      "cell_type": "code",
      "metadata": {
        "id": "_1ekMvn-U8EF"
      },
      "source": [
        "x=[]\r\n",
        "for i in range(249):\r\n",
        "  x.append(i)"
      ],
      "execution_count": null,
      "outputs": []
    },
    {
      "cell_type": "code",
      "metadata": {
        "colab": {
          "base_uri": "https://localhost:8080/",
          "height": 266
        },
        "id": "NGQjFEhEWWka",
        "outputId": "b520d632-8bdf-4a08-d268-87d2bc0e5116"
      },
      "source": [
        "import matplotlib.pyplot as plt\r\n",
        "plt.scatter(x, data_f1)\r\n",
        "plt.show()"
      ],
      "execution_count": null,
      "outputs": [
        {
          "output_type": "display_data",
          "data": {
            "image/png": "[encoded data removed]",
            "text/plain": [
              "<Figure size 432x288 with 1 Axes>"
            ]
          },
          "metadata": {
            "tags": [],
            "needs_background": "light"
          }
        }
      ]
    },
    {
      "cell_type": "code",
      "metadata": {
        "colab": {
          "base_uri": "https://localhost:8080/",
          "height": 265
        },
        "id": "265-VWN_WnV5",
        "outputId": "be19555e-98bc-478d-b7ab-7232cf3aae3f"
      },
      "source": [
        "plt.scatter(x, data_f2t)\r\n",
        "plt.show()"
      ],
      "execution_count": null,
      "outputs": [
        {
          "output_type": "display_data",
          "data": {
            "image/png": "[encoded data removed]",
            "text/plain": [
              "<Figure size 432x288 with 1 Axes>"
            ]
          },
          "metadata": {
            "tags": [],
            "needs_background": "light"
          }
        }
      ]
    },
    {
      "cell_type": "markdown",
      "metadata": {
        "id": "B5d0tXDpIEj8"
      },
      "source": [
        "## Compare the two fleets\r\n",
        "\r\n",
        "The business analysts come up a comparison algorithm that requires the upper and lower bounds for the mean in order to say which fleet is better.\r\n",
        "1. Calculate the mean of both samples.\r\n",
        "2. Using the bootstrap function that you created:\r\n",
        "    - Construct the 95% CI of the mean of the current fleet.\r\n",
        "    - Construct the 95% CI of the mean of the new fleet.\r\n",
        "    - Are they comparable? (i.e., is one better than the other?) -- you can do this with a permutation test (check the lecture notes!)"
      ]
    },
    {
      "cell_type": "code",
      "metadata": {
        "id": "po4mp6zRHC0m",
        "colab": {
          "base_uri": "https://localhost:8080/"
        },
        "outputId": "ad953ceb-ca9c-4cf6-cf18-95e2262defbd"
      },
      "source": [
        "# <---INSERT YOUR CODE HERE--->\n",
        "mf1=np.mean(data_f1)\n",
        "mf2=np.mean(data_f2)\n",
        "bf1=bootstrap_mean_ci(data_f1, data_f1.shape[0], 100, 95)\n",
        "bf2=bootstrap_mean_ci(data_f2, data_f2.shape[0], 100, 95)"
      ],
      "execution_count": null,
      "outputs": [
        {
          "output_type": "stream",
          "text": [
            "[19.26285141 20.93985944]\n",
            "[29.30981013 31.56677215]\n"
          ],
          "name": "stdout"
        }
      ]
    },
    {
      "cell_type": "code",
      "metadata": {
        "id": "MkxvDZG4HC0n"
      },
      "source": [
        "# Create your own function for a permutation test here (you will need it for the lab quiz!):\n",
        "def permut_test(sample1, sample2, n_permutations):\n",
        "    \"\"\"\n",
        "    sample1: 1D array\n",
        "    sample2: 1D array (note that the size of the two arrays can be different)\n",
        "    n_permutations: number of permutations to calculate the p-value\n",
        "    \"\"\"\n",
        "    c=0\n",
        "    to=np.mean(sample2)-np.mean(sample1)\n",
        "    # print(np.mean(sample1))\n",
        "    # print(np.mean(sample2))\n",
        "    # print(to)\n",
        "    concat = np.concatenate((sample1, sample2))\n",
        "    for i in range(n_permutations):\n",
        "      perm = np.random.permutation(concat)\n",
        "      psample1 = perm[:int(len(sample1))]\n",
        "      psample2 = perm[int(len(sample1)):]\n",
        "      tp=np.mean(psample2)-np.mean(psample1)\n",
        "      # print(tp)\n",
        "      if tp>to:\n",
        "        c+=1\n",
        "    pvalue=c/n_permutations\n",
        "    # print(pvalue)\n",
        "    return pvalue"
      ],
      "execution_count": null,
      "outputs": []
    },
    {
      "cell_type": "code",
      "metadata": {
        "id": "E2jErWkiY03S"
      },
      "source": [
        "p=permut_test(data_f1,data_f2,30000)"
      ],
      "execution_count": null,
      "outputs": []
    },
    {
      "cell_type": "code",
      "metadata": {
        "id": "lO6-EVThjn-K"
      },
      "source": [
        "#voting_data.py \n",
        "# The variables below represent the percentages of democratic votes in Pennsylvania and Ohio (one value for each state).\n",
        "dem_share_PA = [60.08, 40.64, 36.07, 41.21, 31.04, 43.78, 44.08, 46.85, 44.71, 46.15, 63.10, 52.20, 43.18, 40.24, 39.92, 47.87, 37.77, 40.11, 49.85, 48.61, 38.62, 54.25, 34.84, 47.75, 43.82, 55.97, 58.23, 42.97, 42.38, 36.11, 37.53, 42.65, 50.96, 47.43, 56.24, 45.60, 46.39, 35.22, 48.56, 32.97, 57.88, 36.05, 37.72, 50.36, 32.12, 41.55, 54.66, 57.81, 54.58, 32.88, 54.37, 40.45, 47.61, 60.49, 43.11, 27.32, 44.03, 33.56, 37.26, 54.64, 43.12, 25.34, 49.79, 83.56, 40.09, 60.81, 49.81]\n",
        "dem_share_OH = [56.94, 50.46, 65.99, 45.88, 42.23, 45.26, 57.01, 53.61, 59.10, 61.48, 43.43, 44.69, 54.59, 48.36, 45.89, 48.62, 43.92, 38.23, 28.79, 63.57, 38.07, 40.18, 43.05, 41.56, 42.49, 36.06, 52.76, 46.07, 39.43, 39.26, 47.47, 27.92, 38.01, 45.45, 29.07, 28.94, 51.28, 50.10, 39.84, 36.43, 35.71, 31.47, 47.01, 40.10, 48.76, 31.56, 39.86, 45.31, 35.47, 51.38, 46.33, 48.73, 41.77, 41.32, 48.46, 53.14, 34.01, 54.74, 40.67, 38.96, 46.29, 38.25, 6.80, 31.75, 46.33, 44.90, 33.57, 38.10, 39.67, 40.47, 49.44, 37.62, 36.71, 46.73, 42.20, 53.16, 52.40, 58.36, 68.02, 38.53, 34.58, 69.64, 60.50, 53.53, 36.54, 49.58, 41.97, 38.11]"
      ],
      "execution_count": null,
      "outputs": []
    },
    {
      "cell_type": "code",
      "metadata": {
        "colab": {
          "base_uri": "https://localhost:8080/"
        },
        "id": "Xz_jFHGd_ULY",
        "outputId": "83af6188-55fe-417b-ab27-59b68afbd184"
      },
      "source": [
        "print(len(dem_share_PA))\r\n",
        "print(len(dem_share_OH))"
      ],
      "execution_count": null,
      "outputs": [
        {
          "output_type": "stream",
          "text": [
            "67\n",
            "88\n"
          ],
          "name": "stdout"
        }
      ]
    },
    {
      "cell_type": "code",
      "metadata": {
        "colab": {
          "base_uri": "https://localhost:8080/"
        },
        "id": "RSv9N0GMA3Ce",
        "outputId": "72a886ae-509a-4a0e-bad7-08b92f460ca3"
      },
      "source": [
        "print(np.mean(dem_share_PA))\r\n",
        "print(np.mean(dem_share_OH))"
      ],
      "execution_count": null,
      "outputs": [
        {
          "output_type": "stream",
          "text": [
            "45.476417910447765\n",
            "44.31818181818182\n"
          ],
          "name": "stdout"
        }
      ]
    },
    {
      "cell_type": "code",
      "metadata": {
        "colab": {
          "base_uri": "https://localhost:8080/"
        },
        "id": "FBZPzB0RBFCO",
        "outputId": "bfb1ab62-4951-4e71-95ee-c505902a42e4"
      },
      "source": [
        "boots = []\r\n",
        "for i in range(1, 100002 , 1000):\r\n",
        "    print(i)\r\n",
        "    boot = bootstrap_mean_ci(np.array(dem_share_PA), np.array(dem_share_PA).shape[0], i, 98)\r\n",
        "    boots.append([i, boot[0], \"mean\"])\r\n",
        "    boots.append([i, boot[1], \"lower\"])\r\n",
        "    boots.append([i, boot[2], \"upper\"])"
      ],
      "execution_count": null,
      "outputs": [
        {
          "output_type": "stream",
          "text": [
            "1\n",
            "[44.95597015 44.95597015]\n",
            "1001\n",
            "[42.84074627 48.27701493]\n",
            "2001\n",
            "[42.86925373 48.22507463]\n",
            "3001\n",
            "[42.82746269 48.49865672]\n",
            "4001\n",
            "[42.86970149 48.24029851]\n",
            "5001\n",
            "[42.85537313 48.32970149]\n",
            "6001\n",
            "[42.78895522 48.30447761]\n",
            "7001\n",
            "[42.87014925 48.4019403 ]\n",
            "8001\n",
            "[42.81970149 48.42447761]\n",
            "9001\n",
            "[42.79       48.34238806]\n",
            "10001\n",
            "[42.74343284 48.3541791 ]\n",
            "11001\n",
            "[42.72283582 48.25358209]\n",
            "12001\n",
            "[42.78373134 48.36014925]\n",
            "13001\n",
            "[42.75731343 48.39955224]\n",
            "14001\n",
            "[42.7958209  48.31671642]\n",
            "15001\n",
            "[42.80746269 48.2458209 ]\n",
            "16001\n",
            "[42.79985075 48.28746269]\n",
            "17001\n",
            "[42.83149254 48.34701493]\n",
            "18001\n",
            "[42.79313433 48.28223881]\n",
            "19001\n",
            "[42.81686567 48.39835821]\n",
            "20001\n",
            "[42.77597015 48.31746269]\n",
            "21001\n",
            "[42.79626866 48.36268657]\n",
            "22001\n",
            "[42.80970149 48.29537313]\n",
            "23001\n",
            "[42.80268657 48.31029851]\n",
            "24001\n",
            "[42.80447761 48.34373134]\n",
            "25001\n",
            "[42.79164179 48.30208955]\n",
            "26001\n",
            "[42.79134328 48.27835821]\n",
            "27001\n",
            "[42.84492537 48.35059701]\n",
            "28001\n",
            "[42.76671642 48.37149254]\n",
            "29001\n",
            "[42.82179104 48.30328358]\n",
            "30001\n",
            "[42.79104478 48.37746269]\n",
            "31001\n",
            "[42.81432836 48.35253731]\n",
            "32001\n",
            "[42.79253731 48.34223881]\n",
            "33001\n",
            "[42.81328358 48.33597015]\n",
            "34001\n",
            "[42.76835821 48.2941791 ]\n",
            "35001\n",
            "[42.82029851 48.28104478]\n",
            "36001\n",
            "[42.7938806  48.36985075]\n",
            "37001\n",
            "[42.79253731 48.2761194 ]\n",
            "38001\n",
            "[42.7819403  48.30880597]\n",
            "39001\n",
            "[42.80865672 48.36776119]\n",
            "40001\n",
            "[42.80373134 48.31044776]\n",
            "41001\n",
            "[42.80134328 48.33641791]\n",
            "42001\n",
            "[42.81343284 48.34313433]\n",
            "43001\n",
            "[42.80626866 48.31701493]\n",
            "44001\n",
            "[42.78910448 48.32522388]\n",
            "45001\n",
            "[42.78492537 48.30074627]\n",
            "46001\n",
            "[42.80402985 48.32686567]\n",
            "47001\n",
            "[42.78880597 48.36835821]\n",
            "48001\n",
            "[42.80880597 48.31955224]\n",
            "49001\n",
            "[42.78253731 48.33641791]\n",
            "50001\n",
            "[42.81552239 48.34313433]\n",
            "51001\n",
            "[42.80358209 48.27925373]\n",
            "52001\n",
            "[42.79791045 48.34313433]\n",
            "53001\n",
            "[42.8361194  48.33776119]\n",
            "54001\n",
            "[42.76492537 48.34970149]\n",
            "55001\n",
            "[42.80731343 48.33776119]\n",
            "56001\n",
            "[42.77343284 48.33298507]\n",
            "57001\n",
            "[42.79507463 48.34746269]\n",
            "58001\n",
            "[42.78313433 48.32985075]\n",
            "59001\n",
            "[42.81910448 48.33238806]\n",
            "60001\n",
            "[42.80179104 48.3338806 ]\n",
            "61001\n",
            "[42.80820896 48.32      ]\n",
            "62001\n",
            "[42.80761194 48.34268657]\n",
            "63001\n",
            "[42.78776119 48.34716418]\n",
            "64001\n",
            "[42.77358209 48.33447761]\n",
            "65001\n",
            "[42.8161194  48.35179104]\n",
            "66001\n",
            "[42.79089552 48.3138806 ]\n",
            "67001\n",
            "[42.79238806 48.29253731]\n",
            "68001\n",
            "[42.82014925 48.35149254]\n",
            "69001\n",
            "[42.78716418 48.32149254]\n",
            "70001\n",
            "[42.76507463 48.38238806]\n",
            "71001\n",
            "[42.82313433 48.31865672]\n",
            "72001\n",
            "[42.79552239 48.32134328]\n",
            "73001\n",
            "[42.78298507 48.31104478]\n",
            "74001\n",
            "[42.80029851 48.33955224]\n",
            "75001\n",
            "[42.81925373 48.31970149]\n",
            "76001\n",
            "[42.75328358 48.3119403 ]\n",
            "77001\n",
            "[42.75865672 48.34701493]\n",
            "78001\n",
            "[42.75343284 48.32283582]\n",
            "79001\n",
            "[42.7819403  48.32716418]\n",
            "80001\n",
            "[42.78671642 48.35238806]\n",
            "81001\n",
            "[42.82179104 48.36940299]\n",
            "82001\n",
            "[42.80208955 48.32074627]\n",
            "83001\n",
            "[42.80283582 48.29253731]\n",
            "84001\n",
            "[42.78567164 48.35746269]\n",
            "85001\n",
            "[42.80686567 48.3158209 ]\n",
            "86001\n",
            "[42.78985075 48.3358209 ]\n",
            "87001\n",
            "[42.78716418 48.32701493]\n",
            "88001\n",
            "[42.76791045 48.31552239]\n",
            "89001\n",
            "[42.8080597  48.32955224]\n",
            "90001\n",
            "[42.81328358 48.32865672]\n",
            "91001\n",
            "[42.79746269 48.31507463]\n",
            "92001\n",
            "[42.80044776 48.3258209 ]\n",
            "93001\n",
            "[42.79373134 48.35044776]\n",
            "94001\n",
            "[42.79373134 48.34731343]\n",
            "95001\n",
            "[42.80537313 48.3138806 ]\n",
            "96001\n",
            "[42.78940299 48.3338806 ]\n",
            "97001\n",
            "[42.80940299 48.32522388]\n",
            "98001\n",
            "[42.78477612 48.33      ]\n",
            "99001\n",
            "[42.76776119 48.35373134]\n",
            "100001\n",
            "[42.81686567 48.34119403]\n"
          ],
          "name": "stdout"
        }
      ]
    },
    {
      "cell_type": "code",
      "metadata": {
        "colab": {
          "base_uri": "https://localhost:8080/"
        },
        "id": "g2yxIT2jCkQN",
        "outputId": "d10326f8-1106-4095-f2e6-172cdf935e6f"
      },
      "source": [
        "boots = []\r\n",
        "for i in range(1, 100002 , 1000):\r\n",
        "    print(i)\r\n",
        "    boot = bootstrap_mean_ci(np.array(dem_share_OH), np.array(dem_share_OH).shape[0], i, 98)\r\n",
        "    boots.append([i, boot[0], \"mean\"])\r\n",
        "    boots.append([i, boot[1], \"lower\"])\r\n",
        "    boots.append([i, boot[2], \"upper\"])"
      ],
      "execution_count": null,
      "outputs": [
        {
          "output_type": "stream",
          "text": [
            "1\n",
            "[42.655 42.655]\n",
            "1001\n",
            "[42.10943182 46.8125    ]\n",
            "2001\n",
            "[41.78863636 46.81704545]\n",
            "3001\n",
            "[41.79704545 46.68977273]\n",
            "4001\n",
            "[41.90102273 46.73284091]\n",
            "5001\n",
            "[41.79602273 46.75704545]\n",
            "6001\n",
            "[41.82136364 46.77011364]\n",
            "7001\n",
            "[41.90011364 46.75136364]\n",
            "8001\n",
            "[41.95761364 46.80204545]\n",
            "9001\n",
            "[41.89602273 46.78409091]\n",
            "10001\n",
            "[41.86306818 46.72329545]\n",
            "11001\n",
            "[41.83090909 46.70136364]\n",
            "12001\n",
            "[41.86784091 46.72147727]\n",
            "13001\n",
            "[41.86238636 46.76829545]\n",
            "14001\n",
            "[41.88590909 46.74386364]\n",
            "15001\n",
            "[41.84159091 46.71147727]\n",
            "16001\n",
            "[41.87806818 46.76352273]\n",
            "17001\n",
            "[41.85715909 46.76159091]\n",
            "18001\n",
            "[41.88909091 46.73659091]\n",
            "19001\n",
            "[41.89613636 46.70988636]\n",
            "20001\n",
            "[41.84363636 46.73920455]\n",
            "21001\n",
            "[41.91386364 46.75068182]\n",
            "22001\n",
            "[41.88204545 46.71738636]\n",
            "23001\n",
            "[41.86454545 46.71272727]\n",
            "24001\n",
            "[41.86852273 46.73386364]\n",
            "25001\n",
            "[41.86431818 46.68568182]\n",
            "26001\n",
            "[41.88261364 46.77068182]\n",
            "27001\n",
            "[41.85545455 46.77931818]\n",
            "28001\n",
            "[41.89136364 46.73113636]\n",
            "29001\n",
            "[41.82659091 46.76      ]\n",
            "30001\n",
            "[41.86943182 46.79170455]\n",
            "31001\n",
            "[41.87011364 46.72579545]\n",
            "32001\n",
            "[41.90602273 46.74784091]\n",
            "33001\n",
            "[41.88454545 46.7325    ]\n",
            "34001\n",
            "[41.85636364 46.76875   ]\n",
            "35001\n",
            "[41.86727273 46.73693182]\n",
            "36001\n",
            "[41.85375    46.74465909]\n",
            "37001\n",
            "[41.88102273 46.78556818]\n",
            "38001\n",
            "[41.86011364 46.72545455]\n",
            "39001\n",
            "[41.88988636 46.76431818]\n",
            "40001\n",
            "[41.87204545 46.75568182]\n",
            "41001\n",
            "[41.88352273 46.74011364]\n",
            "42001\n",
            "[41.86625 46.75875]\n",
            "43001\n",
            "[41.87284091 46.75840909]\n",
            "44001\n",
            "[41.91261364 46.76579545]\n",
            "45001\n",
            "[41.86329545 46.75363636]\n",
            "46001\n",
            "[41.86068182 46.77397727]\n",
            "47001\n",
            "[41.85363636 46.73420455]\n",
            "48001\n",
            "[41.85613636 46.76329545]\n",
            "49001\n",
            "[41.89215909 46.77      ]\n",
            "50001\n",
            "[41.86329545 46.74090909]\n",
            "51001\n",
            "[41.86431818 46.77      ]\n",
            "52001\n",
            "[41.85852273 46.74886364]\n",
            "53001\n",
            "[41.85431818 46.78840909]\n",
            "54001\n",
            "[41.85511364 46.76306818]\n",
            "55001\n",
            "[41.88818182 46.76897727]\n",
            "56001\n",
            "[41.86545455 46.75681818]\n",
            "57001\n",
            "[41.84102273 46.78193182]\n",
            "58001\n",
            "[41.88625    46.75738636]\n",
            "59001\n",
            "[41.85795455 46.74431818]\n",
            "60001\n",
            "[41.86659091 46.75875   ]\n",
            "61001\n",
            "[41.86340909 46.75681818]\n",
            "62001\n",
            "[41.86761364 46.76329545]\n",
            "63001\n",
            "[41.865   46.75125]\n",
            "64001\n",
            "[41.88534091 46.78545455]\n",
            "65001\n",
            "[41.87965909 46.73840909]\n",
            "66001\n",
            "[41.85909091 46.77443182]\n",
            "67001\n",
            "[41.88295455 46.79204545]\n",
            "68001\n",
            "[41.86375    46.76886364]\n",
            "69001\n",
            "[41.85806818 46.74193182]\n",
            "70001\n",
            "[41.86397727 46.73068182]\n",
            "71001\n",
            "[41.85920455 46.73784091]\n",
            "72001\n",
            "[41.88181818 46.75227273]\n",
            "73001\n",
            "[41.87681818 46.74556818]\n",
            "74001\n",
            "[41.86681818 46.73181818]\n",
            "75001\n",
            "[41.84943182 46.74477273]\n",
            "76001\n",
            "[41.8625     46.73693182]\n",
            "77001\n",
            "[41.87568182 46.74613636]\n",
            "78001\n",
            "[41.88579545 46.76772727]\n",
            "79001\n",
            "[41.88181818 46.75284091]\n",
            "80001\n",
            "[41.89704545 46.74784091]\n",
            "81001\n",
            "[41.84386364 46.75511364]\n",
            "82001\n",
            "[41.86522727 46.76238636]\n",
            "83001\n",
            "[41.85613636 46.76670455]\n",
            "84001\n",
            "[41.84727273 46.77079545]\n",
            "85001\n",
            "[41.86875    46.74715909]\n",
            "86001\n",
            "[41.86590909 46.74613636]\n",
            "87001\n",
            "[41.83931818 46.76659091]\n",
            "88001\n",
            "[41.87477273 46.78045455]\n",
            "89001\n",
            "[41.87545455 46.75272727]\n",
            "90001\n",
            "[41.87556818 46.75613636]\n",
            "91001\n",
            "[41.86045455 46.74977273]\n",
            "92001\n",
            "[41.87931818 46.73590909]\n",
            "93001\n",
            "[41.86272727 46.74670455]\n",
            "94001\n",
            "[41.87613636 46.76397727]\n",
            "95001\n",
            "[41.86204545 46.72988636]\n",
            "96001\n",
            "[41.85375    46.75215909]\n",
            "97001\n",
            "[41.86125    46.75602273]\n",
            "98001\n",
            "[41.86227273 46.73409091]\n",
            "99001\n",
            "[41.87375    46.73670455]\n",
            "100001\n",
            "[41.86875    46.74511364]\n"
          ],
          "name": "stdout"
        }
      ]
    },
    {
      "cell_type": "code",
      "metadata": {
        "colab": {
          "base_uri": "https://localhost:8080/"
        },
        "id": "2f_9U-cWBbuJ",
        "outputId": "30ac5da7-b775-4754-843a-eaa85e618a51"
      },
      "source": [
        "print(permut_test(dem_share_PA,dem_share_OH,30000))"
      ],
      "execution_count": null,
      "outputs": [
        {
          "output_type": "stream",
          "text": [
            "0.7622\n"
          ],
          "name": "stdout"
        }
      ]
    },
    {
      "cell_type": "code",
      "metadata": {
        "id": "meY3eSP2B1Oi"
      },
      "source": [
        ""
      ],
      "execution_count": null,
      "outputs": []
    }
  ]
}