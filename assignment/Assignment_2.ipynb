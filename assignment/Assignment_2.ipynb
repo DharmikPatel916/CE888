{
  "nbformat": 4,
  "nbformat_minor": 0,
  "metadata": {
    "kernelspec": {
      "display_name": "Python 3",
      "language": "python",
      "name": "python3"
    },
    "language_info": {
      "codemirror_mode": {
        "name": "ipython",
        "version": 3
      },
      "file_extension": ".py",
      "mimetype": "text/x-python",
      "name": "python",
      "nbconvert_exporter": "python",
      "pygments_lexer": "ipython3",
      "version": "3.7.6"
    },
    "colab": {
      "name": "Bias_Identification.ipynb",
      "provenance": [],
      "collapsed_sections": [],
      "include_colab_link": true
    }
  },
  "cells": [
    {
      "cell_type": "markdown",
      "metadata": {
        "id": "view-in-github",
        "colab_type": "text"
      },
      "source": [
        "<a href=\"https://colab.research.google.com/github/DharmikPatel916/CE888/blob/main/assignment/Assignment_2.ipynb\" target=\"_parent\"><img src=\"https://colab.research.google.com/assets/colab-badge.svg\" alt=\"Open In Colab\"/></a>"
      ]
    },
    {
      "cell_type": "code",
      "metadata": {
        "id": "Q4t_UYhp0qGI"
      },
      "source": [
        "import numpy as np\n",
        "import pandas as pd\n",
        "from sklearn.preprocessing import LabelEncoder\n",
        "import warnings\n",
        "warnings.filterwarnings(\"ignore\")"
      ],
      "execution_count": 1,
      "outputs": []
    },
    {
      "cell_type": "code",
      "metadata": {
        "colab": {
          "base_uri": "https://localhost:8080/",
          "height": 391
        },
        "id": "onTbA7Iw02PZ",
        "outputId": "bb443e8f-31f5-43c3-9c9c-bf0495410919"
      },
      "source": [
        "#Load the Data\n",
        "essex = pd.read_csv('https://raw.githubusercontent.com/DharmikPatel916/CE888/main/assignment/data/2020-essex__final.csv')\n",
        "essex.head()"
      ],
      "execution_count": 2,
      "outputs": [
        {
          "output_type": "execute_result",
          "data": {
            "text/html": [
              "<div>\n",
              "<style scoped>\n",
              "    .dataframe tbody tr th:only-of-type {\n",
              "        vertical-align: middle;\n",
              "    }\n",
              "\n",
              "    .dataframe tbody tr th {\n",
              "        vertical-align: top;\n",
              "    }\n",
              "\n",
              "    .dataframe thead th {\n",
              "        text-align: right;\n",
              "    }\n",
              "</style>\n",
              "<table border=\"1\" class=\"dataframe\">\n",
              "  <thead>\n",
              "    <tr style=\"text-align: right;\">\n",
              "      <th></th>\n",
              "      <th>Unnamed: 0</th>\n",
              "      <th>Type</th>\n",
              "      <th>Date</th>\n",
              "      <th>City</th>\n",
              "      <th>Officer-defined ethnicity</th>\n",
              "      <th>Self-defined ethnicity</th>\n",
              "      <th>Gender</th>\n",
              "      <th>Age range</th>\n",
              "      <th>Removal of more than just outer clothing</th>\n",
              "      <th>Outcome</th>\n",
              "    </tr>\n",
              "  </thead>\n",
              "  <tbody>\n",
              "    <tr>\n",
              "      <th>0</th>\n",
              "      <td>0</td>\n",
              "      <td>Person search</td>\n",
              "      <td>2020-01</td>\n",
              "      <td>Colchester</td>\n",
              "      <td>White</td>\n",
              "      <td>White - English/Welsh/Scottish/Northern Irish/...</td>\n",
              "      <td>Male</td>\n",
              "      <td>10-17</td>\n",
              "      <td>False</td>\n",
              "      <td>Community resolution</td>\n",
              "    </tr>\n",
              "    <tr>\n",
              "      <th>1</th>\n",
              "      <td>1</td>\n",
              "      <td>Person search</td>\n",
              "      <td>2020-01</td>\n",
              "      <td>Colchester</td>\n",
              "      <td>White</td>\n",
              "      <td>White - English/Welsh/Scottish/Northern Irish/...</td>\n",
              "      <td>Male</td>\n",
              "      <td>10-17</td>\n",
              "      <td>False</td>\n",
              "      <td>Community resolution</td>\n",
              "    </tr>\n",
              "    <tr>\n",
              "      <th>2</th>\n",
              "      <td>2</td>\n",
              "      <td>Person search</td>\n",
              "      <td>2020-01</td>\n",
              "      <td>Colchester</td>\n",
              "      <td>White</td>\n",
              "      <td>White - English/Welsh/Scottish/Northern Irish/...</td>\n",
              "      <td>Male</td>\n",
              "      <td>10-17</td>\n",
              "      <td>False</td>\n",
              "      <td>Community resolution</td>\n",
              "    </tr>\n",
              "    <tr>\n",
              "      <th>3</th>\n",
              "      <td>3</td>\n",
              "      <td>Person search</td>\n",
              "      <td>2020-01</td>\n",
              "      <td>Colchester</td>\n",
              "      <td>White</td>\n",
              "      <td>White - English/Welsh/Scottish/Northern Irish/...</td>\n",
              "      <td>Male</td>\n",
              "      <td>18-24</td>\n",
              "      <td>False</td>\n",
              "      <td>Khat or Cannabis warning</td>\n",
              "    </tr>\n",
              "    <tr>\n",
              "      <th>4</th>\n",
              "      <td>4</td>\n",
              "      <td>Person search</td>\n",
              "      <td>2020-01</td>\n",
              "      <td>Colchester</td>\n",
              "      <td>White</td>\n",
              "      <td>White - English/Welsh/Scottish/Northern Irish/...</td>\n",
              "      <td>Male</td>\n",
              "      <td>25-34</td>\n",
              "      <td>False</td>\n",
              "      <td>Khat or Cannabis warning</td>\n",
              "    </tr>\n",
              "  </tbody>\n",
              "</table>\n",
              "</div>"
            ],
            "text/plain": [
              "   Unnamed: 0  ...                   Outcome\n",
              "0           0  ...      Community resolution\n",
              "1           1  ...      Community resolution\n",
              "2           2  ...      Community resolution\n",
              "3           3  ...  Khat or Cannabis warning\n",
              "4           4  ...  Khat or Cannabis warning\n",
              "\n",
              "[5 rows x 10 columns]"
            ]
          },
          "metadata": {
            "tags": []
          },
          "execution_count": 2
        }
      ]
    },
    {
      "cell_type": "code",
      "metadata": {
        "colab": {
          "base_uri": "https://localhost:8080/"
        },
        "id": "bjkWueP70qGX",
        "outputId": "e996fa6e-d91e-4f55-fa01-6ed46c3e038e"
      },
      "source": [
        "essex.shape"
      ],
      "execution_count": 3,
      "outputs": [
        {
          "output_type": "execute_result",
          "data": {
            "text/plain": [
              "(15872, 10)"
            ]
          },
          "metadata": {
            "tags": []
          },
          "execution_count": 3
        }
      ]
    },
    {
      "cell_type": "code",
      "metadata": {
        "colab": {
          "base_uri": "https://localhost:8080/",
          "height": 391
        },
        "id": "t-FubKqi0qGY",
        "outputId": "fd0bd037-5ea2-4027-a6f0-fa80071013f7"
      },
      "source": [
        "#Getting subset and remove nan row\n",
        "df= pd.concat([essex])\n",
        "new = df[['Type','Date','City','Officer-defined ethnicity','Self-defined ethnicity','Gender','Age range','Removal of more than just outer clothing','Outcome']]\n",
        "new_df = new.dropna()\n",
        "new_df = new_df.reset_index(drop=True)\n",
        "new_df.head()"
      ],
      "execution_count": 4,
      "outputs": [
        {
          "output_type": "execute_result",
          "data": {
            "text/html": [
              "<div>\n",
              "<style scoped>\n",
              "    .dataframe tbody tr th:only-of-type {\n",
              "        vertical-align: middle;\n",
              "    }\n",
              "\n",
              "    .dataframe tbody tr th {\n",
              "        vertical-align: top;\n",
              "    }\n",
              "\n",
              "    .dataframe thead th {\n",
              "        text-align: right;\n",
              "    }\n",
              "</style>\n",
              "<table border=\"1\" class=\"dataframe\">\n",
              "  <thead>\n",
              "    <tr style=\"text-align: right;\">\n",
              "      <th></th>\n",
              "      <th>Type</th>\n",
              "      <th>Date</th>\n",
              "      <th>City</th>\n",
              "      <th>Officer-defined ethnicity</th>\n",
              "      <th>Self-defined ethnicity</th>\n",
              "      <th>Gender</th>\n",
              "      <th>Age range</th>\n",
              "      <th>Removal of more than just outer clothing</th>\n",
              "      <th>Outcome</th>\n",
              "    </tr>\n",
              "  </thead>\n",
              "  <tbody>\n",
              "    <tr>\n",
              "      <th>0</th>\n",
              "      <td>Person search</td>\n",
              "      <td>2020-01</td>\n",
              "      <td>Colchester</td>\n",
              "      <td>White</td>\n",
              "      <td>White - English/Welsh/Scottish/Northern Irish/...</td>\n",
              "      <td>Male</td>\n",
              "      <td>10-17</td>\n",
              "      <td>False</td>\n",
              "      <td>Community resolution</td>\n",
              "    </tr>\n",
              "    <tr>\n",
              "      <th>1</th>\n",
              "      <td>Person search</td>\n",
              "      <td>2020-01</td>\n",
              "      <td>Colchester</td>\n",
              "      <td>White</td>\n",
              "      <td>White - English/Welsh/Scottish/Northern Irish/...</td>\n",
              "      <td>Male</td>\n",
              "      <td>10-17</td>\n",
              "      <td>False</td>\n",
              "      <td>Community resolution</td>\n",
              "    </tr>\n",
              "    <tr>\n",
              "      <th>2</th>\n",
              "      <td>Person search</td>\n",
              "      <td>2020-01</td>\n",
              "      <td>Colchester</td>\n",
              "      <td>White</td>\n",
              "      <td>White - English/Welsh/Scottish/Northern Irish/...</td>\n",
              "      <td>Male</td>\n",
              "      <td>10-17</td>\n",
              "      <td>False</td>\n",
              "      <td>Community resolution</td>\n",
              "    </tr>\n",
              "    <tr>\n",
              "      <th>3</th>\n",
              "      <td>Person search</td>\n",
              "      <td>2020-01</td>\n",
              "      <td>Colchester</td>\n",
              "      <td>White</td>\n",
              "      <td>White - English/Welsh/Scottish/Northern Irish/...</td>\n",
              "      <td>Male</td>\n",
              "      <td>18-24</td>\n",
              "      <td>False</td>\n",
              "      <td>Khat or Cannabis warning</td>\n",
              "    </tr>\n",
              "    <tr>\n",
              "      <th>4</th>\n",
              "      <td>Person search</td>\n",
              "      <td>2020-01</td>\n",
              "      <td>Colchester</td>\n",
              "      <td>White</td>\n",
              "      <td>White - English/Welsh/Scottish/Northern Irish/...</td>\n",
              "      <td>Male</td>\n",
              "      <td>25-34</td>\n",
              "      <td>False</td>\n",
              "      <td>Khat or Cannabis warning</td>\n",
              "    </tr>\n",
              "  </tbody>\n",
              "</table>\n",
              "</div>"
            ],
            "text/plain": [
              "            Type  ...                   Outcome\n",
              "0  Person search  ...      Community resolution\n",
              "1  Person search  ...      Community resolution\n",
              "2  Person search  ...      Community resolution\n",
              "3  Person search  ...  Khat or Cannabis warning\n",
              "4  Person search  ...  Khat or Cannabis warning\n",
              "\n",
              "[5 rows x 9 columns]"
            ]
          },
          "metadata": {
            "tags": []
          },
          "execution_count": 4
        }
      ]
    },
    {
      "cell_type": "code",
      "metadata": {
        "colab": {
          "base_uri": "https://localhost:8080/"
        },
        "id": "i_rICJmp0qGZ",
        "outputId": "c0edd398-fbc2-442d-c188-0fc16fad14eb"
      },
      "source": [
        "new_df.shape"
      ],
      "execution_count": 5,
      "outputs": [
        {
          "output_type": "execute_result",
          "data": {
            "text/plain": [
              "(15872, 9)"
            ]
          },
          "metadata": {
            "tags": []
          },
          "execution_count": 5
        }
      ]
    },
    {
      "cell_type": "code",
      "metadata": {
        "colab": {
          "base_uri": "https://localhost:8080/",
          "height": 224
        },
        "id": "r5kF0b2v0qGb",
        "outputId": "7102ae9f-f540-4415-b1c3-fb0edff6ed50"
      },
      "source": [
        "#Checking the info of the dataframe\n",
        "new_df.describe()"
      ],
      "execution_count": 6,
      "outputs": [
        {
          "output_type": "execute_result",
          "data": {
            "text/html": [
              "<div>\n",
              "<style scoped>\n",
              "    .dataframe tbody tr th:only-of-type {\n",
              "        vertical-align: middle;\n",
              "    }\n",
              "\n",
              "    .dataframe tbody tr th {\n",
              "        vertical-align: top;\n",
              "    }\n",
              "\n",
              "    .dataframe thead th {\n",
              "        text-align: right;\n",
              "    }\n",
              "</style>\n",
              "<table border=\"1\" class=\"dataframe\">\n",
              "  <thead>\n",
              "    <tr style=\"text-align: right;\">\n",
              "      <th></th>\n",
              "      <th>Type</th>\n",
              "      <th>Date</th>\n",
              "      <th>City</th>\n",
              "      <th>Officer-defined ethnicity</th>\n",
              "      <th>Self-defined ethnicity</th>\n",
              "      <th>Gender</th>\n",
              "      <th>Age range</th>\n",
              "      <th>Removal of more than just outer clothing</th>\n",
              "      <th>Outcome</th>\n",
              "    </tr>\n",
              "  </thead>\n",
              "  <tbody>\n",
              "    <tr>\n",
              "      <th>count</th>\n",
              "      <td>15872</td>\n",
              "      <td>15872</td>\n",
              "      <td>15872</td>\n",
              "      <td>15872</td>\n",
              "      <td>15872</td>\n",
              "      <td>15872</td>\n",
              "      <td>15872</td>\n",
              "      <td>15872</td>\n",
              "      <td>15872</td>\n",
              "    </tr>\n",
              "    <tr>\n",
              "      <th>unique</th>\n",
              "      <td>2</td>\n",
              "      <td>8</td>\n",
              "      <td>1</td>\n",
              "      <td>4</td>\n",
              "      <td>17</td>\n",
              "      <td>2</td>\n",
              "      <td>5</td>\n",
              "      <td>2</td>\n",
              "      <td>7</td>\n",
              "    </tr>\n",
              "    <tr>\n",
              "      <th>top</th>\n",
              "      <td>Person search</td>\n",
              "      <td>2020-05</td>\n",
              "      <td>Colchester</td>\n",
              "      <td>White</td>\n",
              "      <td>White - English/Welsh/Scottish/Northern Irish/...</td>\n",
              "      <td>Male</td>\n",
              "      <td>18-24</td>\n",
              "      <td>False</td>\n",
              "      <td>A no further action disposal</td>\n",
              "    </tr>\n",
              "    <tr>\n",
              "      <th>freq</th>\n",
              "      <td>11846</td>\n",
              "      <td>2973</td>\n",
              "      <td>15872</td>\n",
              "      <td>12981</td>\n",
              "      <td>11278</td>\n",
              "      <td>13965</td>\n",
              "      <td>6282</td>\n",
              "      <td>15519</td>\n",
              "      <td>12029</td>\n",
              "    </tr>\n",
              "  </tbody>\n",
              "</table>\n",
              "</div>"
            ],
            "text/plain": [
              "                 Type  ...                       Outcome\n",
              "count           15872  ...                         15872\n",
              "unique              2  ...                             7\n",
              "top     Person search  ...  A no further action disposal\n",
              "freq            11846  ...                         12029\n",
              "\n",
              "[4 rows x 9 columns]"
            ]
          },
          "metadata": {
            "tags": []
          },
          "execution_count": 6
        }
      ]
    },
    {
      "cell_type": "code",
      "metadata": {
        "colab": {
          "base_uri": "https://localhost:8080/"
        },
        "id": "HlqunFf40qGc",
        "outputId": "7a2e4e3b-7ec8-43a0-d7b1-c268175e59dd"
      },
      "source": [
        "new_df.info()"
      ],
      "execution_count": 7,
      "outputs": [
        {
          "output_type": "stream",
          "text": [
            "<class 'pandas.core.frame.DataFrame'>\n",
            "RangeIndex: 15872 entries, 0 to 15871\n",
            "Data columns (total 9 columns):\n",
            " #   Column                                    Non-Null Count  Dtype \n",
            "---  ------                                    --------------  ----- \n",
            " 0   Type                                      15872 non-null  object\n",
            " 1   Date                                      15872 non-null  object\n",
            " 2   City                                      15872 non-null  object\n",
            " 3   Officer-defined ethnicity                 15872 non-null  object\n",
            " 4   Self-defined ethnicity                    15872 non-null  object\n",
            " 5   Gender                                    15872 non-null  object\n",
            " 6   Age range                                 15872 non-null  object\n",
            " 7   Removal of more than just outer clothing  15872 non-null  bool  \n",
            " 8   Outcome                                   15872 non-null  object\n",
            "dtypes: bool(1), object(8)\n",
            "memory usage: 1007.6+ KB\n"
          ],
          "name": "stdout"
        }
      ]
    },
    {
      "cell_type": "markdown",
      "metadata": {
        "id": "mSKnSdwi0qGd"
      },
      "source": [
        "**There are no null values in the dataset, we can skip the cleaning part.**"
      ]
    },
    {
      "cell_type": "code",
      "metadata": {
        "colab": {
          "base_uri": "https://localhost:8080/"
        },
        "id": "CU0ZDDvQ0qGe",
        "outputId": "34b3a184-fe2f-482f-dd6e-e95c5e74d1a5"
      },
      "source": [
        "#checking the null values in dataframe\n",
        "new_df.isnull().any()"
      ],
      "execution_count": 8,
      "outputs": [
        {
          "output_type": "execute_result",
          "data": {
            "text/plain": [
              "Type                                        False\n",
              "Date                                        False\n",
              "City                                        False\n",
              "Officer-defined ethnicity                   False\n",
              "Self-defined ethnicity                      False\n",
              "Gender                                      False\n",
              "Age range                                   False\n",
              "Removal of more than just outer clothing    False\n",
              "Outcome                                     False\n",
              "dtype: bool"
            ]
          },
          "metadata": {
            "tags": []
          },
          "execution_count": 8
        }
      ]
    },
    {
      "cell_type": "code",
      "metadata": {
        "colab": {
          "base_uri": "https://localhost:8080/"
        },
        "id": "yaqO9wjE0qGf",
        "outputId": "16fb8e16-d889-49a5-e2ec-f79e3a9f1751"
      },
      "source": [
        "#By Age\n",
        "df['Age range'].value_counts()"
      ],
      "execution_count": 10,
      "outputs": [
        {
          "output_type": "execute_result",
          "data": {
            "text/plain": [
              "18-24       6282\n",
              "10-17       3508\n",
              "25-34       3323\n",
              "over 34     2757\n",
              "under 10       2\n",
              "Name: Age range, dtype: int64"
            ]
          },
          "metadata": {
            "tags": []
          },
          "execution_count": 10
        }
      ]
    },
    {
      "cell_type": "code",
      "metadata": {
        "colab": {
          "base_uri": "https://localhost:8080/"
        },
        "id": "6vF08tVu0qGg",
        "outputId": "5fa63f46-a1be-4ebc-a142-fdf2f8be23e0"
      },
      "source": [
        "#Number of officers By Race\n",
        "df[\"Officer-defined ethnicity\"].value_counts()"
      ],
      "execution_count": 11,
      "outputs": [
        {
          "output_type": "execute_result",
          "data": {
            "text/plain": [
              "White    12981\n",
              "Black     1512\n",
              "Asian      781\n",
              "Other      598\n",
              "Name: Officer-defined ethnicity, dtype: int64"
            ]
          },
          "metadata": {
            "tags": []
          },
          "execution_count": 11
        }
      ]
    },
    {
      "cell_type": "code",
      "metadata": {
        "colab": {
          "base_uri": "https://localhost:8080/"
        },
        "id": "-JoAbL-20qGh",
        "outputId": "67f21f12-2d12-45a4-9e7a-5061385d1da1"
      },
      "source": [
        "#Stops By Gender\n",
        "df[\"Gender\"].value_counts()"
      ],
      "execution_count": 12,
      "outputs": [
        {
          "output_type": "execute_result",
          "data": {
            "text/plain": [
              "Male      13965\n",
              "Female     1907\n",
              "Name: Gender, dtype: int64"
            ]
          },
          "metadata": {
            "tags": []
          },
          "execution_count": 12
        }
      ]
    },
    {
      "cell_type": "code",
      "metadata": {
        "colab": {
          "base_uri": "https://localhost:8080/"
        },
        "id": "XeAp-y0V0qGi",
        "outputId": "a1f8037e-cb83-4fa5-cb8b-87f85523069e"
      },
      "source": [
        "#frequency distribution of categorical data\n",
        "new_df['Self-defined ethnicity'].value_counts()"
      ],
      "execution_count": 13,
      "outputs": [
        {
          "output_type": "execute_result",
          "data": {
            "text/plain": [
              "White - English/Welsh/Scottish/Northern Irish/British                                   11278\n",
              "Other ethnic group - Not stated                                                          1378\n",
              "White - Any other White background                                                        732\n",
              "Black/African/Caribbean/Black British - African                                           524\n",
              "Black/African/Caribbean/Black British - Any other Black/African/Caribbean background      468\n",
              "Asian/Asian British - Any other Asian background                                          414\n",
              "Black/African/Caribbean/Black British - Caribbean                                         284\n",
              "Mixed/Multiple ethnic groups - Any other Mixed/Multiple ethnic background                 212\n",
              "Mixed/Multiple ethnic groups - White and Black Caribbean                                  118\n",
              "Asian/Asian British - Pakistani                                                            92\n",
              "Asian/Asian British - Indian                                                               84\n",
              "White - Irish                                                                              83\n",
              "Asian/Asian British - Bangladeshi                                                          68\n",
              "Mixed/Multiple ethnic groups - White and Black African                                     43\n",
              "Other ethnic group - Any other ethnic group                                                43\n",
              "Mixed/Multiple ethnic groups - White and Asian                                             37\n",
              "Asian/Asian British - Chinese                                                              14\n",
              "Name: Self-defined ethnicity, dtype: int64"
            ]
          },
          "metadata": {
            "tags": []
          },
          "execution_count": 13
        }
      ]
    },
    {
      "cell_type": "code",
      "metadata": {
        "id": "QayxBY1z0qGj"
      },
      "source": [
        "#The Self-defined ethnicity column can be simplified and can have race values simillar to officer's race\n",
        "new_df['Self-defined ethnicity'] = new_df['Self-defined ethnicity'].str.replace('White - English/Welsh/Scottish/Northern Irish/British','White')\n",
        "new_df['Self-defined ethnicity'] = new_df['Self-defined ethnicity'].str.replace('Other ethnic group - Not stated','Other')\n",
        "new_df['Self-defined ethnicity'] = new_df['Self-defined ethnicity'].str.replace('White - Any other White background','White')\n",
        "new_df['Self-defined ethnicity'] = new_df['Self-defined ethnicity'].str.replace('Black/African/Caribbean/Black British - African','Black')\n",
        "new_df['Self-defined ethnicity'] = new_df['Self-defined ethnicity'].str.replace('Black/African/Caribbean/Black British - Any other Black/African/Caribbean background','Black')\n",
        "new_df['Self-defined ethnicity'] = new_df['Self-defined ethnicity'].str.replace('Asian/Asian British - Any other Asian background','Asian')\n",
        "new_df['Self-defined ethnicity'] = new_df['Self-defined ethnicity'].str.replace('Black/African/Caribbean/Black British - Caribbean','Black')\n",
        "new_df['Self-defined ethnicity'] = new_df['Self-defined ethnicity'].str.replace('Asian/Asian British - Pakistani','Asian')\n",
        "new_df['Self-defined ethnicity'] = new_df['Self-defined ethnicity'].str.replace('Asian/Asian British - Indian','Asian')\n",
        "new_df['Self-defined ethnicity'] = new_df['Self-defined ethnicity'].str.replace('White - Irish','White')\n",
        "new_df['Self-defined ethnicity'] = new_df['Self-defined ethnicity'].str.replace('Asian/Asian British - Bangladeshi','Asian')\n",
        "new_df['Self-defined ethnicity'] = new_df['Self-defined ethnicity'].str.replace('Asian/Asian British - Chinese','Asian')\n",
        "                                           \n",
        "                                          \n",
        "#We are left with below race as they are mixed and can't be categorized only in one race.                                         \n",
        "##Mixed/Multiple ethnic groups - White and Black Caribbean                                                                                                                     \n",
        "#Other ethnic group - Any other ethnic group                                               \n",
        "#Mixed/Multiple ethnic groups - White and Black African                                    \n",
        "#Mixed/Multiple ethnic groups - White and Asian\n"
      ],
      "execution_count": 14,
      "outputs": []
    },
    {
      "cell_type": "code",
      "metadata": {
        "colab": {
          "base_uri": "https://localhost:8080/"
        },
        "id": "z03J1esa0qGk",
        "outputId": "035e162c-9e9e-47ca-b7ef-726562f53cab"
      },
      "source": [
        "#So the new frequency distribution of categorical data\n",
        "new_df['Self-defined ethnicity'].value_counts()"
      ],
      "execution_count": 15,
      "outputs": [
        {
          "output_type": "execute_result",
          "data": {
            "text/plain": [
              "White                                                                        12093\n",
              "Other                                                                         1378\n",
              "Black                                                                         1276\n",
              "Asian                                                                          672\n",
              "Mixed/Multiple ethnic groups - Any other Mixed/Multiple ethnic background      212\n",
              "Mixed/Multiple ethnic groups - White and Black Caribbean                       118\n",
              "Mixed/Multiple ethnic groups - White and Black African                          43\n",
              "Other ethnic group - Any other ethnic group                                     43\n",
              "Mixed/Multiple ethnic groups - White and Asian                                  37\n",
              "Name: Self-defined ethnicity, dtype: int64"
            ]
          },
          "metadata": {
            "tags": []
          },
          "execution_count": 15
        }
      ]
    },
    {
      "cell_type": "code",
      "metadata": {
        "colab": {
          "base_uri": "https://localhost:8080/"
        },
        "id": "H6GveRCf0qGl",
        "outputId": "7a79258a-dbb3-40fe-b7e5-25dcdd92aec5"
      },
      "source": [
        "new_df['Outcome'].value_counts()"
      ],
      "execution_count": 16,
      "outputs": [
        {
          "output_type": "execute_result",
          "data": {
            "text/plain": [
              "A no further action disposal       12029\n",
              "Arrest                              1536\n",
              "Khat or Cannabis warning            1299\n",
              "Community resolution                 750\n",
              "Caution (simple or conditional)      185\n",
              "Summons / charged by post             69\n",
              "Penalty Notice for Disorder            4\n",
              "Name: Outcome, dtype: int64"
            ]
          },
          "metadata": {
            "tags": []
          },
          "execution_count": 16
        }
      ]
    },
    {
      "cell_type": "code",
      "metadata": {
        "colab": {
          "base_uri": "https://localhost:8080/",
          "height": 488
        },
        "id": "Elf4l7fN0qGm",
        "outputId": "141bb067-a96a-4116-c97b-a0e9e4f0b9ad"
      },
      "source": [
        "ax = new_df['Gender'].value_counts().plot(kind='bar', figsize=(10,7));\n",
        "ax.set_title(\"Frequency Distribution of Police Officers\", fontsize=12)\n",
        "ax.set_ylabel('Number of Occurrences in policing', fontsize=12)\n",
        "ax.set_xlabel('Police', fontsize=12)\n",
        "# create a list to collect the plt.patches data\n",
        "y = []\n",
        "# find the values and append to list\n",
        "for i in ax.patches:\n",
        "    y.append(i.get_height())\n",
        "# set individual bar lables using above list\n",
        "y = sum(y)"
      ],
      "execution_count": 17,
      "outputs": [
        {
          "output_type": "display_data",
          "data": {
            "image/png": "[encoded data removed]",
            "text/plain": [
              "<Figure size 720x504 with 1 Axes>"
            ]
          },
          "metadata": {
            "tags": [],
            "needs_background": "light"
          }
        }
      ]
    },
    {
      "cell_type": "code",
      "metadata": {
        "colab": {
          "base_uri": "https://localhost:8080/",
          "height": 497
        },
        "id": "ZfbYDc_U0qGn",
        "outputId": "ec728a02-11ad-4e0b-d087-9821cbb31722"
      },
      "source": [
        "ax = new_df['Age range'].value_counts().plot(kind='bar', figsize=(10,7));\n",
        "ax.set_title(\"Frequency Distribution of Police Officers\", fontsize=12)\n",
        "ax.set_ylabel('Number of Occurrences in policing', fontsize=12)\n",
        "ax.set_xlabel('Police', fontsize=12)\n",
        "# create a list to collect the plt.patches data\n",
        "y = []\n",
        "# find the values and append to list\n",
        "for i in ax.patches:\n",
        "    y.append(i.get_height())\n",
        "# set individual bar lables using above list\n",
        "y = sum(y)"
      ],
      "execution_count": 18,
      "outputs": [
        {
          "output_type": "display_data",
          "data": {
            "image/png": "[encoded data removed]",
            "text/plain": [
              "<Figure size 720x504 with 1 Axes>"
            ]
          },
          "metadata": {
            "tags": [],
            "needs_background": "light"
          }
        }
      ]
    },
    {
      "cell_type": "code",
      "metadata": {
        "colab": {
          "base_uri": "https://localhost:8080/",
          "height": 481
        },
        "id": "wtTfxKLy0qGo",
        "outputId": "f5fb4c55-9901-4bdd-96b6-e3797c54f6de"
      },
      "source": [
        "ax = new_df['Officer-defined ethnicity'].value_counts().plot(kind='bar', figsize=(10,7));\n",
        "ax.set_title(\"Frequency Distribution of Police Officers\", fontsize=12)\n",
        "ax.set_ylabel('Number of Occurrences in policing', fontsize=12)\n",
        "ax.set_xlabel('Police', fontsize=12)\n",
        "# create a list to collect the plt.patches data\n",
        "y = []\n",
        "# find the values and append to list\n",
        "for i in ax.patches:\n",
        "    y.append(i.get_height())\n",
        "# set individual bar lables using above list\n",
        "y = sum(y)"
      ],
      "execution_count": 19,
      "outputs": [
        {
          "output_type": "display_data",
          "data": {
            "image/png": "[encoded data removed]",
            "text/plain": [
              "<Figure size 720x504 with 1 Axes>"
            ]
          },
          "metadata": {
            "tags": [],
            "needs_background": "light"
          }
        }
      ]
    },
    {
      "cell_type": "code",
      "metadata": {
        "colab": {
          "base_uri": "https://localhost:8080/",
          "height": 477
        },
        "id": "G_tsGyHr0qGp",
        "outputId": "86d0a6ab-a746-4489-da88-1b77f66a50a4"
      },
      "source": [
        "bx = new_df['Removal of more than just outer clothing'].value_counts().plot(kind='bar', figsize=(10,7));\n",
        "bx.set_title(\"Frequency Distribution of Arrests\", fontsize=12)\n",
        "bx.set_ylabel('Number of Occurrences in policing', fontsize=12)\n",
        "bx.set_xlabel('Arrests', fontsize=12)\n",
        "# create a list to collect the plt.patches data\n",
        "y = []\n",
        "# find the values and append to list\n",
        "for i in bx.patches:\n",
        "    y.append(i.get_height())\n",
        "# set individual bar lables using above list\n",
        "y = sum(y)"
      ],
      "execution_count": 20,
      "outputs": [
        {
          "output_type": "display_data",
          "data": {
            "image/png": "[encoded data removed]",
            "text/plain": [
              "<Figure size 720x504 with 1 Axes>"
            ]
          },
          "metadata": {
            "tags": [],
            "needs_background": "light"
          }
        }
      ]
    },
    {
      "cell_type": "code",
      "metadata": {
        "colab": {
          "base_uri": "https://localhost:8080/"
        },
        "id": "j2Ir_FYQ0qGq",
        "outputId": "3bff4554-d8ec-49f1-e2cf-1ace53f9287c"
      },
      "source": [
        "# set individual bar lables using above list\n",
        "print(\"percentage of while, black , asian and other police:\")\n",
        "for i in ax.patches:\n",
        "    # get_x pulls left or right; get_height pushes up or down\n",
        "    a = str(round((i.get_height()/y)*100, 2))\n",
        "    print(a)"
      ],
      "execution_count": 21,
      "outputs": [
        {
          "output_type": "stream",
          "text": [
            "percentage of while, black , asian and other police:\n",
            "81.79\n",
            "9.53\n",
            "4.92\n",
            "3.77\n"
          ],
          "name": "stdout"
        }
      ]
    },
    {
      "cell_type": "code",
      "metadata": {
        "colab": {
          "base_uri": "https://localhost:8080/",
          "height": 827
        },
        "id": "r6bjnZmF0qGr",
        "outputId": "841d4915-cfcf-4bdf-f561-d46555f72a00"
      },
      "source": [
        "cx = new_df['Self-defined ethnicity'].value_counts().plot(kind='bar', figsize=(10,7));\n",
        "cx.set_alpha(0.8)\n",
        "cx.set_title(\"Stop for Search\", fontsize=12)\n",
        "cx.set_ylabel('Ethnicity of people who was searched', fontsize=12)\n",
        "cx.set_xlabel('Ethnicity of searched', fontsize=12)\n",
        "# create a list to collect the plt.patches data\n",
        "y = []\n",
        "# find the values and append to list\n",
        "for i in cx.patches:\n",
        "    y.append(i.get_height())\n",
        "# set individual bar lables using above list\n",
        "y = sum(y)"
      ],
      "execution_count": 22,
      "outputs": [
        {
          "output_type": "display_data",
          "data": {
            "image/png": "[encoded data removed]",
            "text/plain": [
              "<Figure size 720x504 with 1 Axes>"
            ]
          },
          "metadata": {
            "tags": [],
            "needs_background": "light"
          }
        }
      ]
    },
    {
      "cell_type": "code",
      "metadata": {
        "colab": {
          "base_uri": "https://localhost:8080/",
          "height": 204
        },
        "id": "GNYhvLaN0qGs",
        "outputId": "fc3a530a-9f49-4d16-9be9-955140a5b158"
      },
      "source": [
        "df2 = new_df[[\"Officer-defined ethnicity\",\"Self-defined ethnicity\",\"Removal of more than just outer clothing\"]]\n",
        "df2.head()"
      ],
      "execution_count": 23,
      "outputs": [
        {
          "output_type": "execute_result",
          "data": {
            "text/html": [
              "<div>\n",
              "<style scoped>\n",
              "    .dataframe tbody tr th:only-of-type {\n",
              "        vertical-align: middle;\n",
              "    }\n",
              "\n",
              "    .dataframe tbody tr th {\n",
              "        vertical-align: top;\n",
              "    }\n",
              "\n",
              "    .dataframe thead th {\n",
              "        text-align: right;\n",
              "    }\n",
              "</style>\n",
              "<table border=\"1\" class=\"dataframe\">\n",
              "  <thead>\n",
              "    <tr style=\"text-align: right;\">\n",
              "      <th></th>\n",
              "      <th>Officer-defined ethnicity</th>\n",
              "      <th>Self-defined ethnicity</th>\n",
              "      <th>Removal of more than just outer clothing</th>\n",
              "    </tr>\n",
              "  </thead>\n",
              "  <tbody>\n",
              "    <tr>\n",
              "      <th>0</th>\n",
              "      <td>White</td>\n",
              "      <td>White</td>\n",
              "      <td>False</td>\n",
              "    </tr>\n",
              "    <tr>\n",
              "      <th>1</th>\n",
              "      <td>White</td>\n",
              "      <td>White</td>\n",
              "      <td>False</td>\n",
              "    </tr>\n",
              "    <tr>\n",
              "      <th>2</th>\n",
              "      <td>White</td>\n",
              "      <td>White</td>\n",
              "      <td>False</td>\n",
              "    </tr>\n",
              "    <tr>\n",
              "      <th>3</th>\n",
              "      <td>White</td>\n",
              "      <td>White</td>\n",
              "      <td>False</td>\n",
              "    </tr>\n",
              "    <tr>\n",
              "      <th>4</th>\n",
              "      <td>White</td>\n",
              "      <td>White</td>\n",
              "      <td>False</td>\n",
              "    </tr>\n",
              "  </tbody>\n",
              "</table>\n",
              "</div>"
            ],
            "text/plain": [
              "  Officer-defined ethnicity  ... Removal of more than just outer clothing\n",
              "0                     White  ...                                    False\n",
              "1                     White  ...                                    False\n",
              "2                     White  ...                                    False\n",
              "3                     White  ...                                    False\n",
              "4                     White  ...                                    False\n",
              "\n",
              "[5 rows x 3 columns]"
            ]
          },
          "metadata": {
            "tags": []
          },
          "execution_count": 23
        }
      ]
    },
    {
      "cell_type": "code",
      "metadata": {
        "colab": {
          "base_uri": "https://localhost:8080/"
        },
        "id": "VOxhgEzm0qGt",
        "outputId": "511e03d3-525b-4123-a4b4-7d3a13ad2f5d"
      },
      "source": [
        "labelencoder = LabelEncoder()\n",
        "df2['Removal of more than just outer clothing'] = labelencoder.fit_transform(df2['Removal of more than just outer clothing'])\n",
        "\n",
        "df2 = pd.get_dummies(df2, columns=['Self-defined ethnicity'], prefix = ['self'])\n",
        "print(df2.head())"
      ],
      "execution_count": 24,
      "outputs": [
        {
          "output_type": "stream",
          "text": [
            "  Officer-defined ethnicity  ...  self_White\n",
            "0                     White  ...           1\n",
            "1                     White  ...           1\n",
            "2                     White  ...           1\n",
            "3                     White  ...           1\n",
            "4                     White  ...           1\n",
            "\n",
            "[5 rows x 11 columns]\n"
          ],
          "name": "stdout"
        }
      ]
    },
    {
      "cell_type": "code",
      "metadata": {
        "colab": {
          "base_uri": "https://localhost:8080/"
        },
        "id": "lxtDWD950qGt",
        "outputId": "8f4bcded-48f1-42eb-f9ed-06a45df431a4"
      },
      "source": [
        "#helper function\n",
        "def compute_outcome_stats(dfdf):\n",
        "    \"\"\"Compute statistics regarding the relative quanties of arrests, warnings, and citations\"\"\"\n",
        "    n_total = len(dfdf)\n",
        "    n_warnings = len(dfdf[dfdf['Outcome'] == 'Khat or Cannabis warning'])\n",
        "    n_penalty = len(dfdf[dfdf['Outcome'] == 'Penalty Notice for Disorder'])\n",
        "    n_arrests = len(dfdf[dfdf['Outcome'] == 'Arrest'])\n",
        "    penalty_per_warning = n_penalty / n_warnings\n",
        "    arrest_rate = n_arrests / n_total\n",
        "\n",
        "    return(pd.Series(data = {\n",
        "        'n_total': n_total,\n",
        "        'n_warnings': n_warnings,\n",
        "        'n_penalty': n_penalty,\n",
        "        'n_arrests': n_arrests,\n",
        "        'penalty_per_warning': penalty_per_warning,\n",
        "        'arrest_rate': arrest_rate\n",
        "    }))\n",
        "compute_outcome_stats(df)"
      ],
      "execution_count": 25,
      "outputs": [
        {
          "output_type": "execute_result",
          "data": {
            "text/plain": [
              "n_total                15872.000000\n",
              "n_warnings              1299.000000\n",
              "n_penalty                  4.000000\n",
              "n_arrests               1536.000000\n",
              "penalty_per_warning        0.003079\n",
              "arrest_rate                0.096774\n",
              "dtype: float64"
            ]
          },
          "metadata": {
            "tags": []
          },
          "execution_count": 25
        }
      ]
    },
    {
      "cell_type": "code",
      "metadata": {
        "colab": {
          "base_uri": "https://localhost:8080/",
          "height": 142
        },
        "id": "WpsWjsIs0qGu",
        "outputId": "34182df5-5351-428b-8095-097349b16cdb"
      },
      "source": [
        "#breakdown by gender (using helper function)\n",
        "new_df.groupby('Gender').apply(compute_outcome_stats)"
      ],
      "execution_count": 26,
      "outputs": [
        {
          "output_type": "execute_result",
          "data": {
            "text/html": [
              "<div>\n",
              "<style scoped>\n",
              "    .dataframe tbody tr th:only-of-type {\n",
              "        vertical-align: middle;\n",
              "    }\n",
              "\n",
              "    .dataframe tbody tr th {\n",
              "        vertical-align: top;\n",
              "    }\n",
              "\n",
              "    .dataframe thead th {\n",
              "        text-align: right;\n",
              "    }\n",
              "</style>\n",
              "<table border=\"1\" class=\"dataframe\">\n",
              "  <thead>\n",
              "    <tr style=\"text-align: right;\">\n",
              "      <th></th>\n",
              "      <th>n_total</th>\n",
              "      <th>n_warnings</th>\n",
              "      <th>n_penalty</th>\n",
              "      <th>n_arrests</th>\n",
              "      <th>penalty_per_warning</th>\n",
              "      <th>arrest_rate</th>\n",
              "    </tr>\n",
              "    <tr>\n",
              "      <th>Gender</th>\n",
              "      <th></th>\n",
              "      <th></th>\n",
              "      <th></th>\n",
              "      <th></th>\n",
              "      <th></th>\n",
              "      <th></th>\n",
              "    </tr>\n",
              "  </thead>\n",
              "  <tbody>\n",
              "    <tr>\n",
              "      <th>Female</th>\n",
              "      <td>1907.0</td>\n",
              "      <td>129.0</td>\n",
              "      <td>0.0</td>\n",
              "      <td>116.0</td>\n",
              "      <td>0.000000</td>\n",
              "      <td>0.060829</td>\n",
              "    </tr>\n",
              "    <tr>\n",
              "      <th>Male</th>\n",
              "      <td>13965.0</td>\n",
              "      <td>1170.0</td>\n",
              "      <td>4.0</td>\n",
              "      <td>1420.0</td>\n",
              "      <td>0.003419</td>\n",
              "      <td>0.101683</td>\n",
              "    </tr>\n",
              "  </tbody>\n",
              "</table>\n",
              "</div>"
            ],
            "text/plain": [
              "        n_total  n_warnings  ...  penalty_per_warning  arrest_rate\n",
              "Gender                       ...                                  \n",
              "Female   1907.0       129.0  ...             0.000000     0.060829\n",
              "Male    13965.0      1170.0  ...             0.003419     0.101683\n",
              "\n",
              "[2 rows x 6 columns]"
            ]
          },
          "metadata": {
            "tags": []
          },
          "execution_count": 26
        }
      ]
    },
    {
      "cell_type": "code",
      "metadata": {
        "colab": {
          "base_uri": "https://localhost:8080/",
          "height": 204
        },
        "id": "ZGNmwA8H0qGv",
        "outputId": "9f544f28-bb1b-4c57-da7b-4a13ce9b0eac"
      },
      "source": [
        "#breakdown by race (using helper function)\n",
        "new_df.groupby('Officer-defined ethnicity').apply(compute_outcome_stats)"
      ],
      "execution_count": 27,
      "outputs": [
        {
          "output_type": "execute_result",
          "data": {
            "text/html": [
              "<div>\n",
              "<style scoped>\n",
              "    .dataframe tbody tr th:only-of-type {\n",
              "        vertical-align: middle;\n",
              "    }\n",
              "\n",
              "    .dataframe tbody tr th {\n",
              "        vertical-align: top;\n",
              "    }\n",
              "\n",
              "    .dataframe thead th {\n",
              "        text-align: right;\n",
              "    }\n",
              "</style>\n",
              "<table border=\"1\" class=\"dataframe\">\n",
              "  <thead>\n",
              "    <tr style=\"text-align: right;\">\n",
              "      <th></th>\n",
              "      <th>n_total</th>\n",
              "      <th>n_warnings</th>\n",
              "      <th>n_penalty</th>\n",
              "      <th>n_arrests</th>\n",
              "      <th>penalty_per_warning</th>\n",
              "      <th>arrest_rate</th>\n",
              "    </tr>\n",
              "    <tr>\n",
              "      <th>Officer-defined ethnicity</th>\n",
              "      <th></th>\n",
              "      <th></th>\n",
              "      <th></th>\n",
              "      <th></th>\n",
              "      <th></th>\n",
              "      <th></th>\n",
              "    </tr>\n",
              "  </thead>\n",
              "  <tbody>\n",
              "    <tr>\n",
              "      <th>Asian</th>\n",
              "      <td>781.0</td>\n",
              "      <td>72.0</td>\n",
              "      <td>0.0</td>\n",
              "      <td>90.0</td>\n",
              "      <td>0.000000</td>\n",
              "      <td>0.115237</td>\n",
              "    </tr>\n",
              "    <tr>\n",
              "      <th>Black</th>\n",
              "      <td>1512.0</td>\n",
              "      <td>129.0</td>\n",
              "      <td>1.0</td>\n",
              "      <td>202.0</td>\n",
              "      <td>0.007752</td>\n",
              "      <td>0.133598</td>\n",
              "    </tr>\n",
              "    <tr>\n",
              "      <th>Other</th>\n",
              "      <td>598.0</td>\n",
              "      <td>44.0</td>\n",
              "      <td>0.0</td>\n",
              "      <td>54.0</td>\n",
              "      <td>0.000000</td>\n",
              "      <td>0.090301</td>\n",
              "    </tr>\n",
              "    <tr>\n",
              "      <th>White</th>\n",
              "      <td>12981.0</td>\n",
              "      <td>1054.0</td>\n",
              "      <td>3.0</td>\n",
              "      <td>1190.0</td>\n",
              "      <td>0.002846</td>\n",
              "      <td>0.091672</td>\n",
              "    </tr>\n",
              "  </tbody>\n",
              "</table>\n",
              "</div>"
            ],
            "text/plain": [
              "                           n_total  ...  arrest_rate\n",
              "Officer-defined ethnicity           ...             \n",
              "Asian                        781.0  ...     0.115237\n",
              "Black                       1512.0  ...     0.133598\n",
              "Other                        598.0  ...     0.090301\n",
              "White                      12981.0  ...     0.091672\n",
              "\n",
              "[4 rows x 6 columns]"
            ]
          },
          "metadata": {
            "tags": []
          },
          "execution_count": 27
        }
      ]
    },
    {
      "cell_type": "code",
      "metadata": {
        "id": "FI4leiKa0qGv"
      },
      "source": [
        "#Racial bias\n",
        "privileged_group = new_df[new_df[\"Officer-defined ethnicity\"] == \"White\"]\n",
        "underprivileged_group = new_df[new_df[\"Officer-defined ethnicity\"] != \"White\"]"
      ],
      "execution_count": 28,
      "outputs": []
    },
    {
      "cell_type": "code",
      "metadata": {
        "id": "E_Cw49IY0qGw"
      },
      "source": [
        "#Gender bias\n",
        "privileged_group_Female = new_df[new_df[\"Gender\"] == \"Female\"]\n",
        "underprivileged_group_Male = new_df[new_df[\"Gender\"] == \"Male\"]"
      ],
      "execution_count": 29,
      "outputs": []
    },
    {
      "cell_type": "markdown",
      "metadata": {
        "id": "5jdjj2920qGw"
      },
      "source": [
        "### Analysis of the Priviledge Officers"
      ]
    },
    {
      "cell_type": "code",
      "metadata": {
        "colab": {
          "base_uri": "https://localhost:8080/",
          "height": 306
        },
        "id": "oPBh6DcY0qGx",
        "outputId": "da295464-fa37-4238-f36b-e6cc96333281"
      },
      "source": [
        "privileged_group.head()"
      ],
      "execution_count": 30,
      "outputs": [
        {
          "output_type": "execute_result",
          "data": {
            "text/html": [
              "<div>\n",
              "<style scoped>\n",
              "    .dataframe tbody tr th:only-of-type {\n",
              "        vertical-align: middle;\n",
              "    }\n",
              "\n",
              "    .dataframe tbody tr th {\n",
              "        vertical-align: top;\n",
              "    }\n",
              "\n",
              "    .dataframe thead th {\n",
              "        text-align: right;\n",
              "    }\n",
              "</style>\n",
              "<table border=\"1\" class=\"dataframe\">\n",
              "  <thead>\n",
              "    <tr style=\"text-align: right;\">\n",
              "      <th></th>\n",
              "      <th>Type</th>\n",
              "      <th>Date</th>\n",
              "      <th>City</th>\n",
              "      <th>Officer-defined ethnicity</th>\n",
              "      <th>Self-defined ethnicity</th>\n",
              "      <th>Gender</th>\n",
              "      <th>Age range</th>\n",
              "      <th>Removal of more than just outer clothing</th>\n",
              "      <th>Outcome</th>\n",
              "    </tr>\n",
              "  </thead>\n",
              "  <tbody>\n",
              "    <tr>\n",
              "      <th>0</th>\n",
              "      <td>Person search</td>\n",
              "      <td>2020-01</td>\n",
              "      <td>Colchester</td>\n",
              "      <td>White</td>\n",
              "      <td>White</td>\n",
              "      <td>Male</td>\n",
              "      <td>10-17</td>\n",
              "      <td>False</td>\n",
              "      <td>Community resolution</td>\n",
              "    </tr>\n",
              "    <tr>\n",
              "      <th>1</th>\n",
              "      <td>Person search</td>\n",
              "      <td>2020-01</td>\n",
              "      <td>Colchester</td>\n",
              "      <td>White</td>\n",
              "      <td>White</td>\n",
              "      <td>Male</td>\n",
              "      <td>10-17</td>\n",
              "      <td>False</td>\n",
              "      <td>Community resolution</td>\n",
              "    </tr>\n",
              "    <tr>\n",
              "      <th>2</th>\n",
              "      <td>Person search</td>\n",
              "      <td>2020-01</td>\n",
              "      <td>Colchester</td>\n",
              "      <td>White</td>\n",
              "      <td>White</td>\n",
              "      <td>Male</td>\n",
              "      <td>10-17</td>\n",
              "      <td>False</td>\n",
              "      <td>Community resolution</td>\n",
              "    </tr>\n",
              "    <tr>\n",
              "      <th>3</th>\n",
              "      <td>Person search</td>\n",
              "      <td>2020-01</td>\n",
              "      <td>Colchester</td>\n",
              "      <td>White</td>\n",
              "      <td>White</td>\n",
              "      <td>Male</td>\n",
              "      <td>18-24</td>\n",
              "      <td>False</td>\n",
              "      <td>Khat or Cannabis warning</td>\n",
              "    </tr>\n",
              "    <tr>\n",
              "      <th>4</th>\n",
              "      <td>Person search</td>\n",
              "      <td>2020-01</td>\n",
              "      <td>Colchester</td>\n",
              "      <td>White</td>\n",
              "      <td>White</td>\n",
              "      <td>Male</td>\n",
              "      <td>25-34</td>\n",
              "      <td>False</td>\n",
              "      <td>Khat or Cannabis warning</td>\n",
              "    </tr>\n",
              "  </tbody>\n",
              "</table>\n",
              "</div>"
            ],
            "text/plain": [
              "            Type  ...                   Outcome\n",
              "0  Person search  ...      Community resolution\n",
              "1  Person search  ...      Community resolution\n",
              "2  Person search  ...      Community resolution\n",
              "3  Person search  ...  Khat or Cannabis warning\n",
              "4  Person search  ...  Khat or Cannabis warning\n",
              "\n",
              "[5 rows x 9 columns]"
            ]
          },
          "metadata": {
            "tags": []
          },
          "execution_count": 30
        }
      ]
    },
    {
      "cell_type": "code",
      "metadata": {
        "colab": {
          "base_uri": "https://localhost:8080/",
          "height": 207
        },
        "id": "ay4-Tr4A0qGx",
        "outputId": "efbf7543-3885-42d1-e662-16457885da35"
      },
      "source": [
        "privileged_group.describe()"
      ],
      "execution_count": 31,
      "outputs": [
        {
          "output_type": "execute_result",
          "data": {
            "text/html": [
              "<div>\n",
              "<style scoped>\n",
              "    .dataframe tbody tr th:only-of-type {\n",
              "        vertical-align: middle;\n",
              "    }\n",
              "\n",
              "    .dataframe tbody tr th {\n",
              "        vertical-align: top;\n",
              "    }\n",
              "\n",
              "    .dataframe thead th {\n",
              "        text-align: right;\n",
              "    }\n",
              "</style>\n",
              "<table border=\"1\" class=\"dataframe\">\n",
              "  <thead>\n",
              "    <tr style=\"text-align: right;\">\n",
              "      <th></th>\n",
              "      <th>Type</th>\n",
              "      <th>Date</th>\n",
              "      <th>City</th>\n",
              "      <th>Officer-defined ethnicity</th>\n",
              "      <th>Self-defined ethnicity</th>\n",
              "      <th>Gender</th>\n",
              "      <th>Age range</th>\n",
              "      <th>Removal of more than just outer clothing</th>\n",
              "      <th>Outcome</th>\n",
              "    </tr>\n",
              "  </thead>\n",
              "  <tbody>\n",
              "    <tr>\n",
              "      <th>count</th>\n",
              "      <td>12981</td>\n",
              "      <td>12981</td>\n",
              "      <td>12981</td>\n",
              "      <td>12981</td>\n",
              "      <td>12981</td>\n",
              "      <td>12981</td>\n",
              "      <td>12981</td>\n",
              "      <td>12981</td>\n",
              "      <td>12981</td>\n",
              "    </tr>\n",
              "    <tr>\n",
              "      <th>unique</th>\n",
              "      <td>2</td>\n",
              "      <td>8</td>\n",
              "      <td>1</td>\n",
              "      <td>1</td>\n",
              "      <td>8</td>\n",
              "      <td>2</td>\n",
              "      <td>5</td>\n",
              "      <td>2</td>\n",
              "      <td>7</td>\n",
              "    </tr>\n",
              "    <tr>\n",
              "      <th>top</th>\n",
              "      <td>Person search</td>\n",
              "      <td>2020-05</td>\n",
              "      <td>Colchester</td>\n",
              "      <td>White</td>\n",
              "      <td>White</td>\n",
              "      <td>Male</td>\n",
              "      <td>18-24</td>\n",
              "      <td>False</td>\n",
              "      <td>A no further action disposal</td>\n",
              "    </tr>\n",
              "    <tr>\n",
              "      <th>freq</th>\n",
              "      <td>9951</td>\n",
              "      <td>2426</td>\n",
              "      <td>12981</td>\n",
              "      <td>12981</td>\n",
              "      <td>12069</td>\n",
              "      <td>11293</td>\n",
              "      <td>4858</td>\n",
              "      <td>12762</td>\n",
              "      <td>9889</td>\n",
              "    </tr>\n",
              "  </tbody>\n",
              "</table>\n",
              "</div>"
            ],
            "text/plain": [
              "                 Type  ...                       Outcome\n",
              "count           12981  ...                         12981\n",
              "unique              2  ...                             7\n",
              "top     Person search  ...  A no further action disposal\n",
              "freq             9951  ...                          9889\n",
              "\n",
              "[4 rows x 9 columns]"
            ]
          },
          "metadata": {
            "tags": []
          },
          "execution_count": 31
        }
      ]
    },
    {
      "cell_type": "code",
      "metadata": {
        "colab": {
          "base_uri": "https://localhost:8080/",
          "height": 827
        },
        "id": "2wQ7huUt0qGy",
        "outputId": "6791fa1f-058a-4520-bcfb-1601e1cca897"
      },
      "source": [
        "cx = privileged_group['Self-defined ethnicity'].value_counts().plot(kind='bar', figsize=(10,7));\n",
        "cx.set_alpha(0.8)\n",
        "cx.set_title(\"Stop for Search\", fontsize=12)\n",
        "cx.set_ylabel('Ethnicity of people who was searched', fontsize=12)\n",
        "cx.set_xlabel('Ethnicity of searched', fontsize=12)\n",
        "# create a list to collect the plt.patches data\n",
        "y = []\n",
        "# find the values and append to list\n",
        "for i in cx.patches:\n",
        "    y.append(i.get_height())\n",
        "# set individual bar lables using above list\n",
        "y = sum(y)"
      ],
      "execution_count": 32,
      "outputs": [
        {
          "output_type": "display_data",
          "data": {
            "image/png": "[encoded data removed]",
            "text/plain": [
              "<Figure size 720x504 with 1 Axes>"
            ]
          },
          "metadata": {
            "tags": [],
            "needs_background": "light"
          }
        }
      ]
    },
    {
      "cell_type": "code",
      "metadata": {
        "colab": {
          "base_uri": "https://localhost:8080/",
          "height": 306
        },
        "id": "LwosAhqh0qGz",
        "outputId": "e35e4fdb-3078-4fd8-b974-0e1abfa32e39"
      },
      "source": [
        "privileged_group.head()"
      ],
      "execution_count": 33,
      "outputs": [
        {
          "output_type": "execute_result",
          "data": {
            "text/html": [
              "<div>\n",
              "<style scoped>\n",
              "    .dataframe tbody tr th:only-of-type {\n",
              "        vertical-align: middle;\n",
              "    }\n",
              "\n",
              "    .dataframe tbody tr th {\n",
              "        vertical-align: top;\n",
              "    }\n",
              "\n",
              "    .dataframe thead th {\n",
              "        text-align: right;\n",
              "    }\n",
              "</style>\n",
              "<table border=\"1\" class=\"dataframe\">\n",
              "  <thead>\n",
              "    <tr style=\"text-align: right;\">\n",
              "      <th></th>\n",
              "      <th>Type</th>\n",
              "      <th>Date</th>\n",
              "      <th>City</th>\n",
              "      <th>Officer-defined ethnicity</th>\n",
              "      <th>Self-defined ethnicity</th>\n",
              "      <th>Gender</th>\n",
              "      <th>Age range</th>\n",
              "      <th>Removal of more than just outer clothing</th>\n",
              "      <th>Outcome</th>\n",
              "    </tr>\n",
              "  </thead>\n",
              "  <tbody>\n",
              "    <tr>\n",
              "      <th>0</th>\n",
              "      <td>Person search</td>\n",
              "      <td>2020-01</td>\n",
              "      <td>Colchester</td>\n",
              "      <td>White</td>\n",
              "      <td>White</td>\n",
              "      <td>Male</td>\n",
              "      <td>10-17</td>\n",
              "      <td>False</td>\n",
              "      <td>Community resolution</td>\n",
              "    </tr>\n",
              "    <tr>\n",
              "      <th>1</th>\n",
              "      <td>Person search</td>\n",
              "      <td>2020-01</td>\n",
              "      <td>Colchester</td>\n",
              "      <td>White</td>\n",
              "      <td>White</td>\n",
              "      <td>Male</td>\n",
              "      <td>10-17</td>\n",
              "      <td>False</td>\n",
              "      <td>Community resolution</td>\n",
              "    </tr>\n",
              "    <tr>\n",
              "      <th>2</th>\n",
              "      <td>Person search</td>\n",
              "      <td>2020-01</td>\n",
              "      <td>Colchester</td>\n",
              "      <td>White</td>\n",
              "      <td>White</td>\n",
              "      <td>Male</td>\n",
              "      <td>10-17</td>\n",
              "      <td>False</td>\n",
              "      <td>Community resolution</td>\n",
              "    </tr>\n",
              "    <tr>\n",
              "      <th>3</th>\n",
              "      <td>Person search</td>\n",
              "      <td>2020-01</td>\n",
              "      <td>Colchester</td>\n",
              "      <td>White</td>\n",
              "      <td>White</td>\n",
              "      <td>Male</td>\n",
              "      <td>18-24</td>\n",
              "      <td>False</td>\n",
              "      <td>Khat or Cannabis warning</td>\n",
              "    </tr>\n",
              "    <tr>\n",
              "      <th>4</th>\n",
              "      <td>Person search</td>\n",
              "      <td>2020-01</td>\n",
              "      <td>Colchester</td>\n",
              "      <td>White</td>\n",
              "      <td>White</td>\n",
              "      <td>Male</td>\n",
              "      <td>25-34</td>\n",
              "      <td>False</td>\n",
              "      <td>Khat or Cannabis warning</td>\n",
              "    </tr>\n",
              "  </tbody>\n",
              "</table>\n",
              "</div>"
            ],
            "text/plain": [
              "            Type  ...                   Outcome\n",
              "0  Person search  ...      Community resolution\n",
              "1  Person search  ...      Community resolution\n",
              "2  Person search  ...      Community resolution\n",
              "3  Person search  ...  Khat or Cannabis warning\n",
              "4  Person search  ...  Khat or Cannabis warning\n",
              "\n",
              "[5 rows x 9 columns]"
            ]
          },
          "metadata": {
            "tags": []
          },
          "execution_count": 33
        }
      ]
    },
    {
      "cell_type": "code",
      "metadata": {
        "colab": {
          "base_uri": "https://localhost:8080/",
          "height": 235
        },
        "id": "ccp1JESP0qG4",
        "outputId": "44383f55-fea8-49b6-debc-57c37c877bd1"
      },
      "source": [
        "privileged_group_1 =privileged_group.pivot_table(values='Outcome', index=['Officer-defined ethnicity','Age range'],aggfunc='count')\n",
        "privileged_group_1\n"
      ],
      "execution_count": 34,
      "outputs": [
        {
          "output_type": "execute_result",
          "data": {
            "text/html": [
              "<div>\n",
              "<style scoped>\n",
              "    .dataframe tbody tr th:only-of-type {\n",
              "        vertical-align: middle;\n",
              "    }\n",
              "\n",
              "    .dataframe tbody tr th {\n",
              "        vertical-align: top;\n",
              "    }\n",
              "\n",
              "    .dataframe thead th {\n",
              "        text-align: right;\n",
              "    }\n",
              "</style>\n",
              "<table border=\"1\" class=\"dataframe\">\n",
              "  <thead>\n",
              "    <tr style=\"text-align: right;\">\n",
              "      <th></th>\n",
              "      <th></th>\n",
              "      <th>Outcome</th>\n",
              "    </tr>\n",
              "    <tr>\n",
              "      <th>Officer-defined ethnicity</th>\n",
              "      <th>Age range</th>\n",
              "      <th></th>\n",
              "    </tr>\n",
              "  </thead>\n",
              "  <tbody>\n",
              "    <tr>\n",
              "      <th rowspan=\"5\" valign=\"top\">White</th>\n",
              "      <th>10-17</th>\n",
              "      <td>3035</td>\n",
              "    </tr>\n",
              "    <tr>\n",
              "      <th>18-24</th>\n",
              "      <td>4858</td>\n",
              "    </tr>\n",
              "    <tr>\n",
              "      <th>25-34</th>\n",
              "      <td>2643</td>\n",
              "    </tr>\n",
              "    <tr>\n",
              "      <th>over 34</th>\n",
              "      <td>2443</td>\n",
              "    </tr>\n",
              "    <tr>\n",
              "      <th>under 10</th>\n",
              "      <td>2</td>\n",
              "    </tr>\n",
              "  </tbody>\n",
              "</table>\n",
              "</div>"
            ],
            "text/plain": [
              "                                     Outcome\n",
              "Officer-defined ethnicity Age range         \n",
              "White                     10-17         3035\n",
              "                          18-24         4858\n",
              "                          25-34         2643\n",
              "                          over 34       2443\n",
              "                          under 10         2"
            ]
          },
          "metadata": {
            "tags": []
          },
          "execution_count": 34
        }
      ]
    },
    {
      "cell_type": "code",
      "metadata": {
        "colab": {
          "base_uri": "https://localhost:8080/",
          "height": 297
        },
        "id": "qCo09iL-0qG6",
        "outputId": "68ea13c5-919d-4344-a730-8ca906f19256"
      },
      "source": [
        "privileged_group_1 =privileged_group.pivot_table(values='Self-defined ethnicity', index=['Outcome'],aggfunc='count')\n",
        "privileged_group_1"
      ],
      "execution_count": 35,
      "outputs": [
        {
          "output_type": "execute_result",
          "data": {
            "text/html": [
              "<div>\n",
              "<style scoped>\n",
              "    .dataframe tbody tr th:only-of-type {\n",
              "        vertical-align: middle;\n",
              "    }\n",
              "\n",
              "    .dataframe tbody tr th {\n",
              "        vertical-align: top;\n",
              "    }\n",
              "\n",
              "    .dataframe thead th {\n",
              "        text-align: right;\n",
              "    }\n",
              "</style>\n",
              "<table border=\"1\" class=\"dataframe\">\n",
              "  <thead>\n",
              "    <tr style=\"text-align: right;\">\n",
              "      <th></th>\n",
              "      <th>Self-defined ethnicity</th>\n",
              "    </tr>\n",
              "    <tr>\n",
              "      <th>Outcome</th>\n",
              "      <th></th>\n",
              "    </tr>\n",
              "  </thead>\n",
              "  <tbody>\n",
              "    <tr>\n",
              "      <th>A no further action disposal</th>\n",
              "      <td>9889</td>\n",
              "    </tr>\n",
              "    <tr>\n",
              "      <th>Arrest</th>\n",
              "      <td>1190</td>\n",
              "    </tr>\n",
              "    <tr>\n",
              "      <th>Caution (simple or conditional)</th>\n",
              "      <td>150</td>\n",
              "    </tr>\n",
              "    <tr>\n",
              "      <th>Community resolution</th>\n",
              "      <td>639</td>\n",
              "    </tr>\n",
              "    <tr>\n",
              "      <th>Khat or Cannabis warning</th>\n",
              "      <td>1054</td>\n",
              "    </tr>\n",
              "    <tr>\n",
              "      <th>Penalty Notice for Disorder</th>\n",
              "      <td>3</td>\n",
              "    </tr>\n",
              "    <tr>\n",
              "      <th>Summons / charged by post</th>\n",
              "      <td>56</td>\n",
              "    </tr>\n",
              "  </tbody>\n",
              "</table>\n",
              "</div>"
            ],
            "text/plain": [
              "                                 Self-defined ethnicity\n",
              "Outcome                                                \n",
              "A no further action disposal                       9889\n",
              "Arrest                                             1190\n",
              "Caution (simple or conditional)                     150\n",
              "Community resolution                                639\n",
              "Khat or Cannabis warning                           1054\n",
              "Penalty Notice for Disorder                           3\n",
              "Summons / charged by post                            56"
            ]
          },
          "metadata": {
            "tags": []
          },
          "execution_count": 35
        }
      ]
    },
    {
      "cell_type": "code",
      "metadata": {
        "scrolled": true,
        "colab": {
          "base_uri": "https://localhost:8080/",
          "height": 514
        },
        "id": "IZQ-PwNN0qG8",
        "outputId": "0d822313-46bd-4292-e104-f6c067449ba4"
      },
      "source": [
        "privileged_group_1 =privileged_group.pivot_table(values='Self-defined ethnicity', index=['Outcome','Removal of more than just outer clothing'],aggfunc='count')\n",
        "privileged_group_1"
      ],
      "execution_count": 36,
      "outputs": [
        {
          "output_type": "execute_result",
          "data": {
            "text/html": [
              "<div>\n",
              "<style scoped>\n",
              "    .dataframe tbody tr th:only-of-type {\n",
              "        vertical-align: middle;\n",
              "    }\n",
              "\n",
              "    .dataframe tbody tr th {\n",
              "        vertical-align: top;\n",
              "    }\n",
              "\n",
              "    .dataframe thead th {\n",
              "        text-align: right;\n",
              "    }\n",
              "</style>\n",
              "<table border=\"1\" class=\"dataframe\">\n",
              "  <thead>\n",
              "    <tr style=\"text-align: right;\">\n",
              "      <th></th>\n",
              "      <th></th>\n",
              "      <th>Self-defined ethnicity</th>\n",
              "    </tr>\n",
              "    <tr>\n",
              "      <th>Outcome</th>\n",
              "      <th>Removal of more than just outer clothing</th>\n",
              "      <th></th>\n",
              "    </tr>\n",
              "  </thead>\n",
              "  <tbody>\n",
              "    <tr>\n",
              "      <th rowspan=\"2\" valign=\"top\">A no further action disposal</th>\n",
              "      <th>False</th>\n",
              "      <td>9744</td>\n",
              "    </tr>\n",
              "    <tr>\n",
              "      <th>True</th>\n",
              "      <td>145</td>\n",
              "    </tr>\n",
              "    <tr>\n",
              "      <th rowspan=\"2\" valign=\"top\">Arrest</th>\n",
              "      <th>False</th>\n",
              "      <td>1149</td>\n",
              "    </tr>\n",
              "    <tr>\n",
              "      <th>True</th>\n",
              "      <td>41</td>\n",
              "    </tr>\n",
              "    <tr>\n",
              "      <th rowspan=\"2\" valign=\"top\">Caution (simple or conditional)</th>\n",
              "      <th>False</th>\n",
              "      <td>148</td>\n",
              "    </tr>\n",
              "    <tr>\n",
              "      <th>True</th>\n",
              "      <td>2</td>\n",
              "    </tr>\n",
              "    <tr>\n",
              "      <th rowspan=\"2\" valign=\"top\">Community resolution</th>\n",
              "      <th>False</th>\n",
              "      <td>632</td>\n",
              "    </tr>\n",
              "    <tr>\n",
              "      <th>True</th>\n",
              "      <td>7</td>\n",
              "    </tr>\n",
              "    <tr>\n",
              "      <th rowspan=\"2\" valign=\"top\">Khat or Cannabis warning</th>\n",
              "      <th>False</th>\n",
              "      <td>1035</td>\n",
              "    </tr>\n",
              "    <tr>\n",
              "      <th>True</th>\n",
              "      <td>19</td>\n",
              "    </tr>\n",
              "    <tr>\n",
              "      <th rowspan=\"2\" valign=\"top\">Penalty Notice for Disorder</th>\n",
              "      <th>False</th>\n",
              "      <td>2</td>\n",
              "    </tr>\n",
              "    <tr>\n",
              "      <th>True</th>\n",
              "      <td>1</td>\n",
              "    </tr>\n",
              "    <tr>\n",
              "      <th rowspan=\"2\" valign=\"top\">Summons / charged by post</th>\n",
              "      <th>False</th>\n",
              "      <td>52</td>\n",
              "    </tr>\n",
              "    <tr>\n",
              "      <th>True</th>\n",
              "      <td>4</td>\n",
              "    </tr>\n",
              "  </tbody>\n",
              "</table>\n",
              "</div>"
            ],
            "text/plain": [
              "                                                                          Self-defined ethnicity\n",
              "Outcome                         Removal of more than just outer clothing                        \n",
              "A no further action disposal    False                                                       9744\n",
              "                                True                                                         145\n",
              "Arrest                          False                                                       1149\n",
              "                                True                                                          41\n",
              "Caution (simple or conditional) False                                                        148\n",
              "                                True                                                           2\n",
              "Community resolution            False                                                        632\n",
              "                                True                                                           7\n",
              "Khat or Cannabis warning        False                                                       1035\n",
              "                                True                                                          19\n",
              "Penalty Notice for Disorder     False                                                          2\n",
              "                                True                                                           1\n",
              "Summons / charged by post       False                                                         52\n",
              "                                True                                                           4"
            ]
          },
          "metadata": {
            "tags": []
          },
          "execution_count": 36
        }
      ]
    },
    {
      "cell_type": "markdown",
      "metadata": {
        "id": "W-f0RFO90qG9"
      },
      "source": [
        "**From the Above figures we can see there are scenario when no action were taken by police but still they remove the clothes of certain Ethencity people**"
      ]
    },
    {
      "cell_type": "code",
      "metadata": {
        "scrolled": true,
        "colab": {
          "base_uri": "https://localhost:8080/",
          "height": 917
        },
        "id": "nkGqYoOu0qG-",
        "outputId": "d0b6380e-d380-4bc3-ef43-e8c467ee7581"
      },
      "source": [
        "privileged_group_1 =privileged_group.pivot_table(values='Gender', index=['Self-defined ethnicity','Outcome'],aggfunc='count')\n",
        "privileged_group_1"
      ],
      "execution_count": 37,
      "outputs": [
        {
          "output_type": "execute_result",
          "data": {
            "text/html": [
              "<div>\n",
              "<style scoped>\n",
              "    .dataframe tbody tr th:only-of-type {\n",
              "        vertical-align: middle;\n",
              "    }\n",
              "\n",
              "    .dataframe tbody tr th {\n",
              "        vertical-align: top;\n",
              "    }\n",
              "\n",
              "    .dataframe thead th {\n",
              "        text-align: right;\n",
              "    }\n",
              "</style>\n",
              "<table border=\"1\" class=\"dataframe\">\n",
              "  <thead>\n",
              "    <tr style=\"text-align: right;\">\n",
              "      <th></th>\n",
              "      <th></th>\n",
              "      <th>Gender</th>\n",
              "    </tr>\n",
              "    <tr>\n",
              "      <th>Self-defined ethnicity</th>\n",
              "      <th>Outcome</th>\n",
              "      <th></th>\n",
              "    </tr>\n",
              "  </thead>\n",
              "  <tbody>\n",
              "    <tr>\n",
              "      <th rowspan=\"3\" valign=\"top\">Asian</th>\n",
              "      <th>A no further action disposal</th>\n",
              "      <td>3</td>\n",
              "    </tr>\n",
              "    <tr>\n",
              "      <th>Arrest</th>\n",
              "      <td>1</td>\n",
              "    </tr>\n",
              "    <tr>\n",
              "      <th>Khat or Cannabis warning</th>\n",
              "      <td>2</td>\n",
              "    </tr>\n",
              "    <tr>\n",
              "      <th rowspan=\"4\" valign=\"top\">Black</th>\n",
              "      <th>A no further action disposal</th>\n",
              "      <td>22</td>\n",
              "    </tr>\n",
              "    <tr>\n",
              "      <th>Arrest</th>\n",
              "      <td>2</td>\n",
              "    </tr>\n",
              "    <tr>\n",
              "      <th>Community resolution</th>\n",
              "      <td>3</td>\n",
              "    </tr>\n",
              "    <tr>\n",
              "      <th>Khat or Cannabis warning</th>\n",
              "      <td>3</td>\n",
              "    </tr>\n",
              "    <tr>\n",
              "      <th rowspan=\"4\" valign=\"top\">Mixed/Multiple ethnic groups - Any other Mixed/Multiple ethnic background</th>\n",
              "      <th>A no further action disposal</th>\n",
              "      <td>10</td>\n",
              "    </tr>\n",
              "    <tr>\n",
              "      <th>Arrest</th>\n",
              "      <td>2</td>\n",
              "    </tr>\n",
              "    <tr>\n",
              "      <th>Khat or Cannabis warning</th>\n",
              "      <td>1</td>\n",
              "    </tr>\n",
              "    <tr>\n",
              "      <th>Summons / charged by post</th>\n",
              "      <td>1</td>\n",
              "    </tr>\n",
              "    <tr>\n",
              "      <th>Mixed/Multiple ethnic groups - White and Asian</th>\n",
              "      <th>A no further action disposal</th>\n",
              "      <td>2</td>\n",
              "    </tr>\n",
              "    <tr>\n",
              "      <th>Mixed/Multiple ethnic groups - White and Black Caribbean</th>\n",
              "      <th>A no further action disposal</th>\n",
              "      <td>1</td>\n",
              "    </tr>\n",
              "    <tr>\n",
              "      <th rowspan=\"6\" valign=\"top\">Other</th>\n",
              "      <th>A no further action disposal</th>\n",
              "      <td>693</td>\n",
              "    </tr>\n",
              "    <tr>\n",
              "      <th>Arrest</th>\n",
              "      <td>65</td>\n",
              "    </tr>\n",
              "    <tr>\n",
              "      <th>Caution (simple or conditional)</th>\n",
              "      <td>4</td>\n",
              "    </tr>\n",
              "    <tr>\n",
              "      <th>Community resolution</th>\n",
              "      <td>23</td>\n",
              "    </tr>\n",
              "    <tr>\n",
              "      <th>Khat or Cannabis warning</th>\n",
              "      <td>68</td>\n",
              "    </tr>\n",
              "    <tr>\n",
              "      <th>Summons / charged by post</th>\n",
              "      <td>5</td>\n",
              "    </tr>\n",
              "    <tr>\n",
              "      <th>Other ethnic group - Any other ethnic group</th>\n",
              "      <th>A no further action disposal</th>\n",
              "      <td>1</td>\n",
              "    </tr>\n",
              "    <tr>\n",
              "      <th rowspan=\"7\" valign=\"top\">White</th>\n",
              "      <th>A no further action disposal</th>\n",
              "      <td>9157</td>\n",
              "    </tr>\n",
              "    <tr>\n",
              "      <th>Arrest</th>\n",
              "      <td>1120</td>\n",
              "    </tr>\n",
              "    <tr>\n",
              "      <th>Caution (simple or conditional)</th>\n",
              "      <td>146</td>\n",
              "    </tr>\n",
              "    <tr>\n",
              "      <th>Community resolution</th>\n",
              "      <td>613</td>\n",
              "    </tr>\n",
              "    <tr>\n",
              "      <th>Khat or Cannabis warning</th>\n",
              "      <td>980</td>\n",
              "    </tr>\n",
              "    <tr>\n",
              "      <th>Penalty Notice for Disorder</th>\n",
              "      <td>3</td>\n",
              "    </tr>\n",
              "    <tr>\n",
              "      <th>Summons / charged by post</th>\n",
              "      <td>50</td>\n",
              "    </tr>\n",
              "  </tbody>\n",
              "</table>\n",
              "</div>"
            ],
            "text/plain": [
              "                                                                                    Gender\n",
              "Self-defined ethnicity                             Outcome                                \n",
              "Asian                                              A no further action disposal          3\n",
              "                                                   Arrest                                1\n",
              "                                                   Khat or Cannabis warning              2\n",
              "Black                                              A no further action disposal         22\n",
              "                                                   Arrest                                2\n",
              "                                                   Community resolution                  3\n",
              "                                                   Khat or Cannabis warning              3\n",
              "Mixed/Multiple ethnic groups - Any other Mixed/... A no further action disposal         10\n",
              "                                                   Arrest                                2\n",
              "                                                   Khat or Cannabis warning              1\n",
              "                                                   Summons / charged by post             1\n",
              "Mixed/Multiple ethnic groups - White and Asian     A no further action disposal          2\n",
              "Mixed/Multiple ethnic groups - White and Black ... A no further action disposal          1\n",
              "Other                                              A no further action disposal        693\n",
              "                                                   Arrest                               65\n",
              "                                                   Caution (simple or conditional)       4\n",
              "                                                   Community resolution                 23\n",
              "                                                   Khat or Cannabis warning             68\n",
              "                                                   Summons / charged by post             5\n",
              "Other ethnic group - Any other ethnic group        A no further action disposal          1\n",
              "White                                              A no further action disposal       9157\n",
              "                                                   Arrest                             1120\n",
              "                                                   Caution (simple or conditional)     146\n",
              "                                                   Community resolution                613\n",
              "                                                   Khat or Cannabis warning            980\n",
              "                                                   Penalty Notice for Disorder           3\n",
              "                                                   Summons / charged by post            50"
            ]
          },
          "metadata": {
            "tags": []
          },
          "execution_count": 37
        }
      ]
    },
    {
      "cell_type": "markdown",
      "metadata": {
        "id": "_FJAHQvd0qG-"
      },
      "source": [
        "**From the Above Analysis we can see police stop and search people with no ethencity mention where no action is taken by police.**"
      ]
    },
    {
      "cell_type": "code",
      "metadata": {
        "colab": {
          "base_uri": "https://localhost:8080/",
          "height": 855
        },
        "id": "OkSkD5Up0qG_",
        "outputId": "0eb33ff2-c1c8-44dd-9737-4a3f5616220b"
      },
      "source": [
        "privileged_group_1 =privileged_group.pivot_table(values='Self-defined ethnicity', index=['Gender','Outcome','Removal of more than just outer clothing'],aggfunc='count')\n",
        "privileged_group_1"
      ],
      "execution_count": 38,
      "outputs": [
        {
          "output_type": "execute_result",
          "data": {
            "text/html": [
              "<div>\n",
              "<style scoped>\n",
              "    .dataframe tbody tr th:only-of-type {\n",
              "        vertical-align: middle;\n",
              "    }\n",
              "\n",
              "    .dataframe tbody tr th {\n",
              "        vertical-align: top;\n",
              "    }\n",
              "\n",
              "    .dataframe thead th {\n",
              "        text-align: right;\n",
              "    }\n",
              "</style>\n",
              "<table border=\"1\" class=\"dataframe\">\n",
              "  <thead>\n",
              "    <tr style=\"text-align: right;\">\n",
              "      <th></th>\n",
              "      <th></th>\n",
              "      <th></th>\n",
              "      <th>Self-defined ethnicity</th>\n",
              "    </tr>\n",
              "    <tr>\n",
              "      <th>Gender</th>\n",
              "      <th>Outcome</th>\n",
              "      <th>Removal of more than just outer clothing</th>\n",
              "      <th></th>\n",
              "    </tr>\n",
              "  </thead>\n",
              "  <tbody>\n",
              "    <tr>\n",
              "      <th rowspan=\"11\" valign=\"top\">Female</th>\n",
              "      <th rowspan=\"2\" valign=\"top\">A no further action disposal</th>\n",
              "      <th>False</th>\n",
              "      <td>1374</td>\n",
              "    </tr>\n",
              "    <tr>\n",
              "      <th>True</th>\n",
              "      <td>13</td>\n",
              "    </tr>\n",
              "    <tr>\n",
              "      <th rowspan=\"2\" valign=\"top\">Arrest</th>\n",
              "      <th>False</th>\n",
              "      <td>100</td>\n",
              "    </tr>\n",
              "    <tr>\n",
              "      <th>True</th>\n",
              "      <td>1</td>\n",
              "    </tr>\n",
              "    <tr>\n",
              "      <th rowspan=\"2\" valign=\"top\">Caution (simple or conditional)</th>\n",
              "      <th>False</th>\n",
              "      <td>18</td>\n",
              "    </tr>\n",
              "    <tr>\n",
              "      <th>True</th>\n",
              "      <td>1</td>\n",
              "    </tr>\n",
              "    <tr>\n",
              "      <th rowspan=\"2\" valign=\"top\">Community resolution</th>\n",
              "      <th>False</th>\n",
              "      <td>66</td>\n",
              "    </tr>\n",
              "    <tr>\n",
              "      <th>True</th>\n",
              "      <td>1</td>\n",
              "    </tr>\n",
              "    <tr>\n",
              "      <th>Khat or Cannabis warning</th>\n",
              "      <th>False</th>\n",
              "      <td>109</td>\n",
              "    </tr>\n",
              "    <tr>\n",
              "      <th rowspan=\"2\" valign=\"top\">Summons / charged by post</th>\n",
              "      <th>False</th>\n",
              "      <td>4</td>\n",
              "    </tr>\n",
              "    <tr>\n",
              "      <th>True</th>\n",
              "      <td>1</td>\n",
              "    </tr>\n",
              "    <tr>\n",
              "      <th rowspan=\"14\" valign=\"top\">Male</th>\n",
              "      <th rowspan=\"2\" valign=\"top\">A no further action disposal</th>\n",
              "      <th>False</th>\n",
              "      <td>8370</td>\n",
              "    </tr>\n",
              "    <tr>\n",
              "      <th>True</th>\n",
              "      <td>132</td>\n",
              "    </tr>\n",
              "    <tr>\n",
              "      <th rowspan=\"2\" valign=\"top\">Arrest</th>\n",
              "      <th>False</th>\n",
              "      <td>1049</td>\n",
              "    </tr>\n",
              "    <tr>\n",
              "      <th>True</th>\n",
              "      <td>40</td>\n",
              "    </tr>\n",
              "    <tr>\n",
              "      <th rowspan=\"2\" valign=\"top\">Caution (simple or conditional)</th>\n",
              "      <th>False</th>\n",
              "      <td>130</td>\n",
              "    </tr>\n",
              "    <tr>\n",
              "      <th>True</th>\n",
              "      <td>1</td>\n",
              "    </tr>\n",
              "    <tr>\n",
              "      <th rowspan=\"2\" valign=\"top\">Community resolution</th>\n",
              "      <th>False</th>\n",
              "      <td>566</td>\n",
              "    </tr>\n",
              "    <tr>\n",
              "      <th>True</th>\n",
              "      <td>6</td>\n",
              "    </tr>\n",
              "    <tr>\n",
              "      <th rowspan=\"2\" valign=\"top\">Khat or Cannabis warning</th>\n",
              "      <th>False</th>\n",
              "      <td>926</td>\n",
              "    </tr>\n",
              "    <tr>\n",
              "      <th>True</th>\n",
              "      <td>19</td>\n",
              "    </tr>\n",
              "    <tr>\n",
              "      <th rowspan=\"2\" valign=\"top\">Penalty Notice for Disorder</th>\n",
              "      <th>False</th>\n",
              "      <td>2</td>\n",
              "    </tr>\n",
              "    <tr>\n",
              "      <th>True</th>\n",
              "      <td>1</td>\n",
              "    </tr>\n",
              "    <tr>\n",
              "      <th rowspan=\"2\" valign=\"top\">Summons / charged by post</th>\n",
              "      <th>False</th>\n",
              "      <td>48</td>\n",
              "    </tr>\n",
              "    <tr>\n",
              "      <th>True</th>\n",
              "      <td>3</td>\n",
              "    </tr>\n",
              "  </tbody>\n",
              "</table>\n",
              "</div>"
            ],
            "text/plain": [
              "                                                                                 Self-defined ethnicity\n",
              "Gender Outcome                         Removal of more than just outer clothing                        \n",
              "Female A no further action disposal    False                                                       1374\n",
              "                                       True                                                          13\n",
              "       Arrest                          False                                                        100\n",
              "                                       True                                                           1\n",
              "       Caution (simple or conditional) False                                                         18\n",
              "                                       True                                                           1\n",
              "       Community resolution            False                                                         66\n",
              "                                       True                                                           1\n",
              "       Khat or Cannabis warning        False                                                        109\n",
              "       Summons / charged by post       False                                                          4\n",
              "                                       True                                                           1\n",
              "Male   A no further action disposal    False                                                       8370\n",
              "                                       True                                                         132\n",
              "       Arrest                          False                                                       1049\n",
              "                                       True                                                          40\n",
              "       Caution (simple or conditional) False                                                        130\n",
              "                                       True                                                           1\n",
              "       Community resolution            False                                                        566\n",
              "                                       True                                                           6\n",
              "       Khat or Cannabis warning        False                                                        926\n",
              "                                       True                                                          19\n",
              "       Penalty Notice for Disorder     False                                                          2\n",
              "                                       True                                                           1\n",
              "       Summons / charged by post       False                                                         48\n",
              "                                       True                                                           3"
            ]
          },
          "metadata": {
            "tags": []
          },
          "execution_count": 38
        }
      ]
    },
    {
      "cell_type": "markdown",
      "metadata": {
        "id": "vkdpRA9G0qG_"
      },
      "source": [
        "**The Above figures shhows that police stop and search and do clothes removal for Male and Female even when they do not require any further action on. They were stop as suspects**"
      ]
    },
    {
      "cell_type": "code",
      "metadata": {
        "colab": {
          "base_uri": "https://localhost:8080/",
          "height": 328
        },
        "id": "kHBh95s40qHA",
        "outputId": "6274cfd8-3fdf-4a3d-e008-5683dcc74c8a"
      },
      "source": [
        "privileged_group_1 =privileged_group.pivot_table(values='Outcome', index=['Self-defined ethnicity'],aggfunc='count')\n",
        "privileged_group_1"
      ],
      "execution_count": 39,
      "outputs": [
        {
          "output_type": "execute_result",
          "data": {
            "text/html": [
              "<div>\n",
              "<style scoped>\n",
              "    .dataframe tbody tr th:only-of-type {\n",
              "        vertical-align: middle;\n",
              "    }\n",
              "\n",
              "    .dataframe tbody tr th {\n",
              "        vertical-align: top;\n",
              "    }\n",
              "\n",
              "    .dataframe thead th {\n",
              "        text-align: right;\n",
              "    }\n",
              "</style>\n",
              "<table border=\"1\" class=\"dataframe\">\n",
              "  <thead>\n",
              "    <tr style=\"text-align: right;\">\n",
              "      <th></th>\n",
              "      <th>Outcome</th>\n",
              "    </tr>\n",
              "    <tr>\n",
              "      <th>Self-defined ethnicity</th>\n",
              "      <th></th>\n",
              "    </tr>\n",
              "  </thead>\n",
              "  <tbody>\n",
              "    <tr>\n",
              "      <th>Asian</th>\n",
              "      <td>6</td>\n",
              "    </tr>\n",
              "    <tr>\n",
              "      <th>Black</th>\n",
              "      <td>30</td>\n",
              "    </tr>\n",
              "    <tr>\n",
              "      <th>Mixed/Multiple ethnic groups - Any other Mixed/Multiple ethnic background</th>\n",
              "      <td>14</td>\n",
              "    </tr>\n",
              "    <tr>\n",
              "      <th>Mixed/Multiple ethnic groups - White and Asian</th>\n",
              "      <td>2</td>\n",
              "    </tr>\n",
              "    <tr>\n",
              "      <th>Mixed/Multiple ethnic groups - White and Black Caribbean</th>\n",
              "      <td>1</td>\n",
              "    </tr>\n",
              "    <tr>\n",
              "      <th>Other</th>\n",
              "      <td>858</td>\n",
              "    </tr>\n",
              "    <tr>\n",
              "      <th>Other ethnic group - Any other ethnic group</th>\n",
              "      <td>1</td>\n",
              "    </tr>\n",
              "    <tr>\n",
              "      <th>White</th>\n",
              "      <td>12069</td>\n",
              "    </tr>\n",
              "  </tbody>\n",
              "</table>\n",
              "</div>"
            ],
            "text/plain": [
              "                                                    Outcome\n",
              "Self-defined ethnicity                                     \n",
              "Asian                                                     6\n",
              "Black                                                    30\n",
              "Mixed/Multiple ethnic groups - Any other Mixed/...       14\n",
              "Mixed/Multiple ethnic groups - White and Asian            2\n",
              "Mixed/Multiple ethnic groups - White and Black ...        1\n",
              "Other                                                   858\n",
              "Other ethnic group - Any other ethnic group               1\n",
              "White                                                 12069"
            ]
          },
          "metadata": {
            "tags": []
          },
          "execution_count": 39
        }
      ]
    },
    {
      "cell_type": "markdown",
      "metadata": {
        "id": "zWuxTLB60qHB"
      },
      "source": [
        "### Analysis of Under Priviledge Officers"
      ]
    },
    {
      "cell_type": "code",
      "metadata": {
        "colab": {
          "base_uri": "https://localhost:8080/",
          "height": 207
        },
        "id": "lp85i2ag0qHC",
        "outputId": "787dcb2b-a4ec-45f9-b905-ba7af0306481"
      },
      "source": [
        "underprivileged_group.describe()"
      ],
      "execution_count": 40,
      "outputs": [
        {
          "output_type": "execute_result",
          "data": {
            "text/html": [
              "<div>\n",
              "<style scoped>\n",
              "    .dataframe tbody tr th:only-of-type {\n",
              "        vertical-align: middle;\n",
              "    }\n",
              "\n",
              "    .dataframe tbody tr th {\n",
              "        vertical-align: top;\n",
              "    }\n",
              "\n",
              "    .dataframe thead th {\n",
              "        text-align: right;\n",
              "    }\n",
              "</style>\n",
              "<table border=\"1\" class=\"dataframe\">\n",
              "  <thead>\n",
              "    <tr style=\"text-align: right;\">\n",
              "      <th></th>\n",
              "      <th>Type</th>\n",
              "      <th>Date</th>\n",
              "      <th>City</th>\n",
              "      <th>Officer-defined ethnicity</th>\n",
              "      <th>Self-defined ethnicity</th>\n",
              "      <th>Gender</th>\n",
              "      <th>Age range</th>\n",
              "      <th>Removal of more than just outer clothing</th>\n",
              "      <th>Outcome</th>\n",
              "    </tr>\n",
              "  </thead>\n",
              "  <tbody>\n",
              "    <tr>\n",
              "      <th>count</th>\n",
              "      <td>2891</td>\n",
              "      <td>2891</td>\n",
              "      <td>2891</td>\n",
              "      <td>2891</td>\n",
              "      <td>2891</td>\n",
              "      <td>2891</td>\n",
              "      <td>2891</td>\n",
              "      <td>2891</td>\n",
              "      <td>2891</td>\n",
              "    </tr>\n",
              "    <tr>\n",
              "      <th>unique</th>\n",
              "      <td>2</td>\n",
              "      <td>8</td>\n",
              "      <td>1</td>\n",
              "      <td>3</td>\n",
              "      <td>9</td>\n",
              "      <td>2</td>\n",
              "      <td>4</td>\n",
              "      <td>2</td>\n",
              "      <td>7</td>\n",
              "    </tr>\n",
              "    <tr>\n",
              "      <th>top</th>\n",
              "      <td>Person search</td>\n",
              "      <td>2020-05</td>\n",
              "      <td>Colchester</td>\n",
              "      <td>Black</td>\n",
              "      <td>Black</td>\n",
              "      <td>Male</td>\n",
              "      <td>18-24</td>\n",
              "      <td>False</td>\n",
              "      <td>A no further action disposal</td>\n",
              "    </tr>\n",
              "    <tr>\n",
              "      <th>freq</th>\n",
              "      <td>1895</td>\n",
              "      <td>547</td>\n",
              "      <td>2891</td>\n",
              "      <td>1512</td>\n",
              "      <td>1246</td>\n",
              "      <td>2672</td>\n",
              "      <td>1424</td>\n",
              "      <td>2757</td>\n",
              "      <td>2140</td>\n",
              "    </tr>\n",
              "  </tbody>\n",
              "</table>\n",
              "</div>"
            ],
            "text/plain": [
              "                 Type  ...                       Outcome\n",
              "count            2891  ...                          2891\n",
              "unique              2  ...                             7\n",
              "top     Person search  ...  A no further action disposal\n",
              "freq             1895  ...                          2140\n",
              "\n",
              "[4 rows x 9 columns]"
            ]
          },
          "metadata": {
            "tags": []
          },
          "execution_count": 40
        }
      ]
    },
    {
      "cell_type": "code",
      "metadata": {
        "colab": {
          "base_uri": "https://localhost:8080/",
          "height": 827
        },
        "id": "uTV39oix0qHD",
        "outputId": "26083788-56db-479e-ea8d-a834dd5ebcc7"
      },
      "source": [
        "cx = underprivileged_group['Self-defined ethnicity'].value_counts().plot(kind='bar', figsize=(10,7));\n",
        "cx.set_alpha(0.8)\n",
        "cx.set_title(\"Stop for Search\", fontsize=12)\n",
        "cx.set_ylabel('Ethnicity of people who was searched', fontsize=12)\n",
        "cx.set_xlabel('Ethnicity of searched', fontsize=12)\n",
        "# create a list to collect the plt.patches data\n",
        "y = []\n",
        "# find the values and append to list\n",
        "for i in cx.patches:\n",
        "    y.append(i.get_height())\n",
        "# set individual bar lables using above list\n",
        "y = sum(y)"
      ],
      "execution_count": 41,
      "outputs": [
        {
          "output_type": "display_data",
          "data": {
            "image/png": "[encoded data removed]",
            "text/plain": [
              "<Figure size 720x504 with 1 Axes>"
            ]
          },
          "metadata": {
            "tags": [],
            "needs_background": "light"
          }
        }
      ]
    },
    {
      "cell_type": "markdown",
      "metadata": {
        "id": "U2e_B_ml0qHE"
      },
      "source": [
        "**The above plot shows the officers with ethenticity other white were the one who stops or search people of other race than White's.**"
      ]
    },
    {
      "cell_type": "code",
      "metadata": {
        "colab": {
          "base_uri": "https://localhost:8080/",
          "height": 452
        },
        "id": "WiGQ2fCz0qHF",
        "outputId": "7eb629a4-23be-4f39-e382-c70ea13f8fa5"
      },
      "source": [
        "underprivileged_group_1 =underprivileged_group.pivot_table(values='Outcome', index=['Officer-defined ethnicity','Age range'],aggfunc='count')\n",
        "underprivileged_group_1"
      ],
      "execution_count": 42,
      "outputs": [
        {
          "output_type": "execute_result",
          "data": {
            "text/html": [
              "<div>\n",
              "<style scoped>\n",
              "    .dataframe tbody tr th:only-of-type {\n",
              "        vertical-align: middle;\n",
              "    }\n",
              "\n",
              "    .dataframe tbody tr th {\n",
              "        vertical-align: top;\n",
              "    }\n",
              "\n",
              "    .dataframe thead th {\n",
              "        text-align: right;\n",
              "    }\n",
              "</style>\n",
              "<table border=\"1\" class=\"dataframe\">\n",
              "  <thead>\n",
              "    <tr style=\"text-align: right;\">\n",
              "      <th></th>\n",
              "      <th></th>\n",
              "      <th>Outcome</th>\n",
              "    </tr>\n",
              "    <tr>\n",
              "      <th>Officer-defined ethnicity</th>\n",
              "      <th>Age range</th>\n",
              "      <th></th>\n",
              "    </tr>\n",
              "  </thead>\n",
              "  <tbody>\n",
              "    <tr>\n",
              "      <th rowspan=\"4\" valign=\"top\">Asian</th>\n",
              "      <th>10-17</th>\n",
              "      <td>76</td>\n",
              "    </tr>\n",
              "    <tr>\n",
              "      <th>18-24</th>\n",
              "      <td>412</td>\n",
              "    </tr>\n",
              "    <tr>\n",
              "      <th>25-34</th>\n",
              "      <td>212</td>\n",
              "    </tr>\n",
              "    <tr>\n",
              "      <th>over 34</th>\n",
              "      <td>81</td>\n",
              "    </tr>\n",
              "    <tr>\n",
              "      <th rowspan=\"4\" valign=\"top\">Black</th>\n",
              "      <th>10-17</th>\n",
              "      <td>226</td>\n",
              "    </tr>\n",
              "    <tr>\n",
              "      <th>18-24</th>\n",
              "      <td>761</td>\n",
              "    </tr>\n",
              "    <tr>\n",
              "      <th>25-34</th>\n",
              "      <td>359</td>\n",
              "    </tr>\n",
              "    <tr>\n",
              "      <th>over 34</th>\n",
              "      <td>166</td>\n",
              "    </tr>\n",
              "    <tr>\n",
              "      <th rowspan=\"4\" valign=\"top\">Other</th>\n",
              "      <th>10-17</th>\n",
              "      <td>171</td>\n",
              "    </tr>\n",
              "    <tr>\n",
              "      <th>18-24</th>\n",
              "      <td>251</td>\n",
              "    </tr>\n",
              "    <tr>\n",
              "      <th>25-34</th>\n",
              "      <td>109</td>\n",
              "    </tr>\n",
              "    <tr>\n",
              "      <th>over 34</th>\n",
              "      <td>67</td>\n",
              "    </tr>\n",
              "  </tbody>\n",
              "</table>\n",
              "</div>"
            ],
            "text/plain": [
              "                                     Outcome\n",
              "Officer-defined ethnicity Age range         \n",
              "Asian                     10-17           76\n",
              "                          18-24          412\n",
              "                          25-34          212\n",
              "                          over 34         81\n",
              "Black                     10-17          226\n",
              "                          18-24          761\n",
              "                          25-34          359\n",
              "                          over 34        166\n",
              "Other                     10-17          171\n",
              "                          18-24          251\n",
              "                          25-34          109\n",
              "                          over 34         67"
            ]
          },
          "metadata": {
            "tags": []
          },
          "execution_count": 42
        }
      ]
    },
    {
      "cell_type": "code",
      "metadata": {
        "colab": {
          "base_uri": "https://localhost:8080/",
          "height": 297
        },
        "id": "J8xgvX_C0qHF",
        "outputId": "c95210a9-3a27-4b14-aa02-ea43646771e6"
      },
      "source": [
        "underprivileged_group_1 =underprivileged_group.pivot_table(values='Self-defined ethnicity', index=['Outcome'],aggfunc='count')\n",
        "underprivileged_group_1"
      ],
      "execution_count": 43,
      "outputs": [
        {
          "output_type": "execute_result",
          "data": {
            "text/html": [
              "<div>\n",
              "<style scoped>\n",
              "    .dataframe tbody tr th:only-of-type {\n",
              "        vertical-align: middle;\n",
              "    }\n",
              "\n",
              "    .dataframe tbody tr th {\n",
              "        vertical-align: top;\n",
              "    }\n",
              "\n",
              "    .dataframe thead th {\n",
              "        text-align: right;\n",
              "    }\n",
              "</style>\n",
              "<table border=\"1\" class=\"dataframe\">\n",
              "  <thead>\n",
              "    <tr style=\"text-align: right;\">\n",
              "      <th></th>\n",
              "      <th>Self-defined ethnicity</th>\n",
              "    </tr>\n",
              "    <tr>\n",
              "      <th>Outcome</th>\n",
              "      <th></th>\n",
              "    </tr>\n",
              "  </thead>\n",
              "  <tbody>\n",
              "    <tr>\n",
              "      <th>A no further action disposal</th>\n",
              "      <td>2140</td>\n",
              "    </tr>\n",
              "    <tr>\n",
              "      <th>Arrest</th>\n",
              "      <td>346</td>\n",
              "    </tr>\n",
              "    <tr>\n",
              "      <th>Caution (simple or conditional)</th>\n",
              "      <td>35</td>\n",
              "    </tr>\n",
              "    <tr>\n",
              "      <th>Community resolution</th>\n",
              "      <td>111</td>\n",
              "    </tr>\n",
              "    <tr>\n",
              "      <th>Khat or Cannabis warning</th>\n",
              "      <td>245</td>\n",
              "    </tr>\n",
              "    <tr>\n",
              "      <th>Penalty Notice for Disorder</th>\n",
              "      <td>1</td>\n",
              "    </tr>\n",
              "    <tr>\n",
              "      <th>Summons / charged by post</th>\n",
              "      <td>13</td>\n",
              "    </tr>\n",
              "  </tbody>\n",
              "</table>\n",
              "</div>"
            ],
            "text/plain": [
              "                                 Self-defined ethnicity\n",
              "Outcome                                                \n",
              "A no further action disposal                       2140\n",
              "Arrest                                              346\n",
              "Caution (simple or conditional)                      35\n",
              "Community resolution                                111\n",
              "Khat or Cannabis warning                            245\n",
              "Penalty Notice for Disorder                           1\n",
              "Summons / charged by post                            13"
            ]
          },
          "metadata": {
            "tags": []
          },
          "execution_count": 43
        }
      ]
    },
    {
      "cell_type": "code",
      "metadata": {
        "colab": {
          "base_uri": "https://localhost:8080/",
          "height": 483
        },
        "id": "PkpTrON-0qHG",
        "outputId": "efefb66e-ff7b-4783-a7ac-89cd9d6c7532"
      },
      "source": [
        "underprivileged_group_1 =underprivileged_group.pivot_table(values='Self-defined ethnicity', index=['Outcome','Removal of more than just outer clothing'],aggfunc='count')\n",
        "underprivileged_group_1"
      ],
      "execution_count": 44,
      "outputs": [
        {
          "output_type": "execute_result",
          "data": {
            "text/html": [
              "<div>\n",
              "<style scoped>\n",
              "    .dataframe tbody tr th:only-of-type {\n",
              "        vertical-align: middle;\n",
              "    }\n",
              "\n",
              "    .dataframe tbody tr th {\n",
              "        vertical-align: top;\n",
              "    }\n",
              "\n",
              "    .dataframe thead th {\n",
              "        text-align: right;\n",
              "    }\n",
              "</style>\n",
              "<table border=\"1\" class=\"dataframe\">\n",
              "  <thead>\n",
              "    <tr style=\"text-align: right;\">\n",
              "      <th></th>\n",
              "      <th></th>\n",
              "      <th>Self-defined ethnicity</th>\n",
              "    </tr>\n",
              "    <tr>\n",
              "      <th>Outcome</th>\n",
              "      <th>Removal of more than just outer clothing</th>\n",
              "      <th></th>\n",
              "    </tr>\n",
              "  </thead>\n",
              "  <tbody>\n",
              "    <tr>\n",
              "      <th rowspan=\"2\" valign=\"top\">A no further action disposal</th>\n",
              "      <th>False</th>\n",
              "      <td>2057</td>\n",
              "    </tr>\n",
              "    <tr>\n",
              "      <th>True</th>\n",
              "      <td>83</td>\n",
              "    </tr>\n",
              "    <tr>\n",
              "      <th rowspan=\"2\" valign=\"top\">Arrest</th>\n",
              "      <th>False</th>\n",
              "      <td>314</td>\n",
              "    </tr>\n",
              "    <tr>\n",
              "      <th>True</th>\n",
              "      <td>32</td>\n",
              "    </tr>\n",
              "    <tr>\n",
              "      <th rowspan=\"2\" valign=\"top\">Caution (simple or conditional)</th>\n",
              "      <th>False</th>\n",
              "      <td>32</td>\n",
              "    </tr>\n",
              "    <tr>\n",
              "      <th>True</th>\n",
              "      <td>3</td>\n",
              "    </tr>\n",
              "    <tr>\n",
              "      <th rowspan=\"2\" valign=\"top\">Community resolution</th>\n",
              "      <th>False</th>\n",
              "      <td>107</td>\n",
              "    </tr>\n",
              "    <tr>\n",
              "      <th>True</th>\n",
              "      <td>4</td>\n",
              "    </tr>\n",
              "    <tr>\n",
              "      <th rowspan=\"2\" valign=\"top\">Khat or Cannabis warning</th>\n",
              "      <th>False</th>\n",
              "      <td>234</td>\n",
              "    </tr>\n",
              "    <tr>\n",
              "      <th>True</th>\n",
              "      <td>11</td>\n",
              "    </tr>\n",
              "    <tr>\n",
              "      <th>Penalty Notice for Disorder</th>\n",
              "      <th>False</th>\n",
              "      <td>1</td>\n",
              "    </tr>\n",
              "    <tr>\n",
              "      <th rowspan=\"2\" valign=\"top\">Summons / charged by post</th>\n",
              "      <th>False</th>\n",
              "      <td>12</td>\n",
              "    </tr>\n",
              "    <tr>\n",
              "      <th>True</th>\n",
              "      <td>1</td>\n",
              "    </tr>\n",
              "  </tbody>\n",
              "</table>\n",
              "</div>"
            ],
            "text/plain": [
              "                                                                          Self-defined ethnicity\n",
              "Outcome                         Removal of more than just outer clothing                        \n",
              "A no further action disposal    False                                                       2057\n",
              "                                True                                                          83\n",
              "Arrest                          False                                                        314\n",
              "                                True                                                          32\n",
              "Caution (simple or conditional) False                                                         32\n",
              "                                True                                                           3\n",
              "Community resolution            False                                                        107\n",
              "                                True                                                           4\n",
              "Khat or Cannabis warning        False                                                        234\n",
              "                                True                                                          11\n",
              "Penalty Notice for Disorder     False                                                          1\n",
              "Summons / charged by post       False                                                         12\n",
              "                                True                                                           1"
            ]
          },
          "metadata": {
            "tags": []
          },
          "execution_count": 44
        }
      ]
    },
    {
      "cell_type": "code",
      "metadata": {
        "colab": {
          "base_uri": "https://localhost:8080/",
          "height": 1000
        },
        "id": "RQ0iqMsl0qHH",
        "outputId": "8cc60eda-f051-4d5b-b06b-98cca18859e3"
      },
      "source": [
        "underprivileged_group_1 =underprivileged_group.pivot_table(values='Gender', index=['Self-defined ethnicity','Outcome'],aggfunc='count')\n",
        "underprivileged_group_1"
      ],
      "execution_count": 45,
      "outputs": [
        {
          "output_type": "execute_result",
          "data": {
            "text/html": [
              "<div>\n",
              "<style scoped>\n",
              "    .dataframe tbody tr th:only-of-type {\n",
              "        vertical-align: middle;\n",
              "    }\n",
              "\n",
              "    .dataframe tbody tr th {\n",
              "        vertical-align: top;\n",
              "    }\n",
              "\n",
              "    .dataframe thead th {\n",
              "        text-align: right;\n",
              "    }\n",
              "</style>\n",
              "<table border=\"1\" class=\"dataframe\">\n",
              "  <thead>\n",
              "    <tr style=\"text-align: right;\">\n",
              "      <th></th>\n",
              "      <th></th>\n",
              "      <th>Gender</th>\n",
              "    </tr>\n",
              "    <tr>\n",
              "      <th>Self-defined ethnicity</th>\n",
              "      <th>Outcome</th>\n",
              "      <th></th>\n",
              "    </tr>\n",
              "  </thead>\n",
              "  <tbody>\n",
              "    <tr>\n",
              "      <th rowspan=\"6\" valign=\"top\">Asian</th>\n",
              "      <th>A no further action disposal</th>\n",
              "      <td>479</td>\n",
              "    </tr>\n",
              "    <tr>\n",
              "      <th>Arrest</th>\n",
              "      <td>83</td>\n",
              "    </tr>\n",
              "    <tr>\n",
              "      <th>Caution (simple or conditional)</th>\n",
              "      <td>14</td>\n",
              "    </tr>\n",
              "    <tr>\n",
              "      <th>Community resolution</th>\n",
              "      <td>23</td>\n",
              "    </tr>\n",
              "    <tr>\n",
              "      <th>Khat or Cannabis warning</th>\n",
              "      <td>66</td>\n",
              "    </tr>\n",
              "    <tr>\n",
              "      <th>Summons / charged by post</th>\n",
              "      <td>1</td>\n",
              "    </tr>\n",
              "    <tr>\n",
              "      <th rowspan=\"7\" valign=\"top\">Black</th>\n",
              "      <th>A no further action disposal</th>\n",
              "      <td>885</td>\n",
              "    </tr>\n",
              "    <tr>\n",
              "      <th>Arrest</th>\n",
              "      <td>181</td>\n",
              "    </tr>\n",
              "    <tr>\n",
              "      <th>Caution (simple or conditional)</th>\n",
              "      <td>14</td>\n",
              "    </tr>\n",
              "    <tr>\n",
              "      <th>Community resolution</th>\n",
              "      <td>50</td>\n",
              "    </tr>\n",
              "    <tr>\n",
              "      <th>Khat or Cannabis warning</th>\n",
              "      <td>108</td>\n",
              "    </tr>\n",
              "    <tr>\n",
              "      <th>Penalty Notice for Disorder</th>\n",
              "      <td>1</td>\n",
              "    </tr>\n",
              "    <tr>\n",
              "      <th>Summons / charged by post</th>\n",
              "      <td>7</td>\n",
              "    </tr>\n",
              "    <tr>\n",
              "      <th rowspan=\"6\" valign=\"top\">Mixed/Multiple ethnic groups - Any other Mixed/Multiple ethnic background</th>\n",
              "      <th>A no further action disposal</th>\n",
              "      <td>146</td>\n",
              "    </tr>\n",
              "    <tr>\n",
              "      <th>Arrest</th>\n",
              "      <td>18</td>\n",
              "    </tr>\n",
              "    <tr>\n",
              "      <th>Caution (simple or conditional)</th>\n",
              "      <td>2</td>\n",
              "    </tr>\n",
              "    <tr>\n",
              "      <th>Community resolution</th>\n",
              "      <td>17</td>\n",
              "    </tr>\n",
              "    <tr>\n",
              "      <th>Khat or Cannabis warning</th>\n",
              "      <td>13</td>\n",
              "    </tr>\n",
              "    <tr>\n",
              "      <th>Summons / charged by post</th>\n",
              "      <td>2</td>\n",
              "    </tr>\n",
              "    <tr>\n",
              "      <th rowspan=\"3\" valign=\"top\">Mixed/Multiple ethnic groups - White and Asian</th>\n",
              "      <th>A no further action disposal</th>\n",
              "      <td>24</td>\n",
              "    </tr>\n",
              "    <tr>\n",
              "      <th>Arrest</th>\n",
              "      <td>4</td>\n",
              "    </tr>\n",
              "    <tr>\n",
              "      <th>Khat or Cannabis warning</th>\n",
              "      <td>7</td>\n",
              "    </tr>\n",
              "    <tr>\n",
              "      <th rowspan=\"6\" valign=\"top\">Mixed/Multiple ethnic groups - White and Black African</th>\n",
              "      <th>A no further action disposal</th>\n",
              "      <td>34</td>\n",
              "    </tr>\n",
              "    <tr>\n",
              "      <th>Arrest</th>\n",
              "      <td>4</td>\n",
              "    </tr>\n",
              "    <tr>\n",
              "      <th>Caution (simple or conditional)</th>\n",
              "      <td>1</td>\n",
              "    </tr>\n",
              "    <tr>\n",
              "      <th>Community resolution</th>\n",
              "      <td>1</td>\n",
              "    </tr>\n",
              "    <tr>\n",
              "      <th>Khat or Cannabis warning</th>\n",
              "      <td>2</td>\n",
              "    </tr>\n",
              "    <tr>\n",
              "      <th>Summons / charged by post</th>\n",
              "      <td>1</td>\n",
              "    </tr>\n",
              "    <tr>\n",
              "      <th rowspan=\"5\" valign=\"top\">Mixed/Multiple ethnic groups - White and Black Caribbean</th>\n",
              "      <th>A no further action disposal</th>\n",
              "      <td>84</td>\n",
              "    </tr>\n",
              "    <tr>\n",
              "      <th>Arrest</th>\n",
              "      <td>17</td>\n",
              "    </tr>\n",
              "    <tr>\n",
              "      <th>Caution (simple or conditional)</th>\n",
              "      <td>2</td>\n",
              "    </tr>\n",
              "    <tr>\n",
              "      <th>Community resolution</th>\n",
              "      <td>4</td>\n",
              "    </tr>\n",
              "    <tr>\n",
              "      <th>Khat or Cannabis warning</th>\n",
              "      <td>10</td>\n",
              "    </tr>\n",
              "    <tr>\n",
              "      <th rowspan=\"6\" valign=\"top\">Other</th>\n",
              "      <th>A no further action disposal</th>\n",
              "      <td>436</td>\n",
              "    </tr>\n",
              "    <tr>\n",
              "      <th>Arrest</th>\n",
              "      <td>34</td>\n",
              "    </tr>\n",
              "    <tr>\n",
              "      <th>Caution (simple or conditional)</th>\n",
              "      <td>2</td>\n",
              "    </tr>\n",
              "    <tr>\n",
              "      <th>Community resolution</th>\n",
              "      <td>12</td>\n",
              "    </tr>\n",
              "    <tr>\n",
              "      <th>Khat or Cannabis warning</th>\n",
              "      <td>34</td>\n",
              "    </tr>\n",
              "    <tr>\n",
              "      <th>Summons / charged by post</th>\n",
              "      <td>2</td>\n",
              "    </tr>\n",
              "    <tr>\n",
              "      <th rowspan=\"4\" valign=\"top\">Other ethnic group - Any other ethnic group</th>\n",
              "      <th>A no further action disposal</th>\n",
              "      <td>32</td>\n",
              "    </tr>\n",
              "    <tr>\n",
              "      <th>Arrest</th>\n",
              "      <td>3</td>\n",
              "    </tr>\n",
              "    <tr>\n",
              "      <th>Community resolution</th>\n",
              "      <td>4</td>\n",
              "    </tr>\n",
              "    <tr>\n",
              "      <th>Khat or Cannabis warning</th>\n",
              "      <td>3</td>\n",
              "    </tr>\n",
              "    <tr>\n",
              "      <th rowspan=\"3\" valign=\"top\">White</th>\n",
              "      <th>A no further action disposal</th>\n",
              "      <td>20</td>\n",
              "    </tr>\n",
              "    <tr>\n",
              "      <th>Arrest</th>\n",
              "      <td>2</td>\n",
              "    </tr>\n",
              "    <tr>\n",
              "      <th>Khat or Cannabis warning</th>\n",
              "      <td>2</td>\n",
              "    </tr>\n",
              "  </tbody>\n",
              "</table>\n",
              "</div>"
            ],
            "text/plain": [
              "                                                                                    Gender\n",
              "Self-defined ethnicity                             Outcome                                \n",
              "Asian                                              A no further action disposal        479\n",
              "                                                   Arrest                               83\n",
              "                                                   Caution (simple or conditional)      14\n",
              "                                                   Community resolution                 23\n",
              "                                                   Khat or Cannabis warning             66\n",
              "                                                   Summons / charged by post             1\n",
              "Black                                              A no further action disposal        885\n",
              "                                                   Arrest                              181\n",
              "                                                   Caution (simple or conditional)      14\n",
              "                                                   Community resolution                 50\n",
              "                                                   Khat or Cannabis warning            108\n",
              "                                                   Penalty Notice for Disorder           1\n",
              "                                                   Summons / charged by post             7\n",
              "Mixed/Multiple ethnic groups - Any other Mixed/... A no further action disposal        146\n",
              "                                                   Arrest                               18\n",
              "                                                   Caution (simple or conditional)       2\n",
              "                                                   Community resolution                 17\n",
              "                                                   Khat or Cannabis warning             13\n",
              "                                                   Summons / charged by post             2\n",
              "Mixed/Multiple ethnic groups - White and Asian     A no further action disposal         24\n",
              "                                                   Arrest                                4\n",
              "                                                   Khat or Cannabis warning              7\n",
              "Mixed/Multiple ethnic groups - White and Black ... A no further action disposal         34\n",
              "                                                   Arrest                                4\n",
              "                                                   Caution (simple or conditional)       1\n",
              "                                                   Community resolution                  1\n",
              "                                                   Khat or Cannabis warning              2\n",
              "                                                   Summons / charged by post             1\n",
              "Mixed/Multiple ethnic groups - White and Black ... A no further action disposal         84\n",
              "                                                   Arrest                               17\n",
              "                                                   Caution (simple or conditional)       2\n",
              "                                                   Community resolution                  4\n",
              "                                                   Khat or Cannabis warning             10\n",
              "Other                                              A no further action disposal        436\n",
              "                                                   Arrest                               34\n",
              "                                                   Caution (simple or conditional)       2\n",
              "                                                   Community resolution                 12\n",
              "                                                   Khat or Cannabis warning             34\n",
              "                                                   Summons / charged by post             2\n",
              "Other ethnic group - Any other ethnic group        A no further action disposal         32\n",
              "                                                   Arrest                                3\n",
              "                                                   Community resolution                  4\n",
              "                                                   Khat or Cannabis warning              3\n",
              "White                                              A no further action disposal         20\n",
              "                                                   Arrest                                2\n",
              "                                                   Khat or Cannabis warning              2"
            ]
          },
          "metadata": {
            "tags": []
          },
          "execution_count": 45
        }
      ]
    },
    {
      "cell_type": "code",
      "metadata": {
        "colab": {
          "base_uri": "https://localhost:8080/",
          "height": 762
        },
        "id": "O4tM3CfT0qHH",
        "outputId": "7ad67ac0-e6c6-4e4f-f911-a77ec8f5f21f"
      },
      "source": [
        "underprivileged_group_1 =underprivileged_group.pivot_table(values='Self-defined ethnicity', index=['Gender','Outcome','Removal of more than just outer clothing'],aggfunc='count')\n",
        "underprivileged_group_1"
      ],
      "execution_count": 46,
      "outputs": [
        {
          "output_type": "execute_result",
          "data": {
            "text/html": [
              "<div>\n",
              "<style scoped>\n",
              "    .dataframe tbody tr th:only-of-type {\n",
              "        vertical-align: middle;\n",
              "    }\n",
              "\n",
              "    .dataframe tbody tr th {\n",
              "        vertical-align: top;\n",
              "    }\n",
              "\n",
              "    .dataframe thead th {\n",
              "        text-align: right;\n",
              "    }\n",
              "</style>\n",
              "<table border=\"1\" class=\"dataframe\">\n",
              "  <thead>\n",
              "    <tr style=\"text-align: right;\">\n",
              "      <th></th>\n",
              "      <th></th>\n",
              "      <th></th>\n",
              "      <th>Self-defined ethnicity</th>\n",
              "    </tr>\n",
              "    <tr>\n",
              "      <th>Gender</th>\n",
              "      <th>Outcome</th>\n",
              "      <th>Removal of more than just outer clothing</th>\n",
              "      <th></th>\n",
              "    </tr>\n",
              "  </thead>\n",
              "  <tbody>\n",
              "    <tr>\n",
              "      <th rowspan=\"9\" valign=\"top\">Female</th>\n",
              "      <th rowspan=\"2\" valign=\"top\">A no further action disposal</th>\n",
              "      <th>False</th>\n",
              "      <td>159</td>\n",
              "    </tr>\n",
              "    <tr>\n",
              "      <th>True</th>\n",
              "      <td>3</td>\n",
              "    </tr>\n",
              "    <tr>\n",
              "      <th rowspan=\"2\" valign=\"top\">Arrest</th>\n",
              "      <th>False</th>\n",
              "      <td>14</td>\n",
              "    </tr>\n",
              "    <tr>\n",
              "      <th>True</th>\n",
              "      <td>1</td>\n",
              "    </tr>\n",
              "    <tr>\n",
              "      <th>Caution (simple or conditional)</th>\n",
              "      <th>False</th>\n",
              "      <td>4</td>\n",
              "    </tr>\n",
              "    <tr>\n",
              "      <th rowspan=\"2\" valign=\"top\">Community resolution</th>\n",
              "      <th>False</th>\n",
              "      <td>17</td>\n",
              "    </tr>\n",
              "    <tr>\n",
              "      <th>True</th>\n",
              "      <td>1</td>\n",
              "    </tr>\n",
              "    <tr>\n",
              "      <th rowspan=\"2\" valign=\"top\">Khat or Cannabis warning</th>\n",
              "      <th>False</th>\n",
              "      <td>19</td>\n",
              "    </tr>\n",
              "    <tr>\n",
              "      <th>True</th>\n",
              "      <td>1</td>\n",
              "    </tr>\n",
              "    <tr>\n",
              "      <th rowspan=\"13\" valign=\"top\">Male</th>\n",
              "      <th rowspan=\"2\" valign=\"top\">A no further action disposal</th>\n",
              "      <th>False</th>\n",
              "      <td>1898</td>\n",
              "    </tr>\n",
              "    <tr>\n",
              "      <th>True</th>\n",
              "      <td>80</td>\n",
              "    </tr>\n",
              "    <tr>\n",
              "      <th rowspan=\"2\" valign=\"top\">Arrest</th>\n",
              "      <th>False</th>\n",
              "      <td>300</td>\n",
              "    </tr>\n",
              "    <tr>\n",
              "      <th>True</th>\n",
              "      <td>31</td>\n",
              "    </tr>\n",
              "    <tr>\n",
              "      <th rowspan=\"2\" valign=\"top\">Caution (simple or conditional)</th>\n",
              "      <th>False</th>\n",
              "      <td>28</td>\n",
              "    </tr>\n",
              "    <tr>\n",
              "      <th>True</th>\n",
              "      <td>3</td>\n",
              "    </tr>\n",
              "    <tr>\n",
              "      <th rowspan=\"2\" valign=\"top\">Community resolution</th>\n",
              "      <th>False</th>\n",
              "      <td>90</td>\n",
              "    </tr>\n",
              "    <tr>\n",
              "      <th>True</th>\n",
              "      <td>3</td>\n",
              "    </tr>\n",
              "    <tr>\n",
              "      <th rowspan=\"2\" valign=\"top\">Khat or Cannabis warning</th>\n",
              "      <th>False</th>\n",
              "      <td>215</td>\n",
              "    </tr>\n",
              "    <tr>\n",
              "      <th>True</th>\n",
              "      <td>10</td>\n",
              "    </tr>\n",
              "    <tr>\n",
              "      <th>Penalty Notice for Disorder</th>\n",
              "      <th>False</th>\n",
              "      <td>1</td>\n",
              "    </tr>\n",
              "    <tr>\n",
              "      <th rowspan=\"2\" valign=\"top\">Summons / charged by post</th>\n",
              "      <th>False</th>\n",
              "      <td>12</td>\n",
              "    </tr>\n",
              "    <tr>\n",
              "      <th>True</th>\n",
              "      <td>1</td>\n",
              "    </tr>\n",
              "  </tbody>\n",
              "</table>\n",
              "</div>"
            ],
            "text/plain": [
              "                                                                                 Self-defined ethnicity\n",
              "Gender Outcome                         Removal of more than just outer clothing                        \n",
              "Female A no further action disposal    False                                                        159\n",
              "                                       True                                                           3\n",
              "       Arrest                          False                                                         14\n",
              "                                       True                                                           1\n",
              "       Caution (simple or conditional) False                                                          4\n",
              "       Community resolution            False                                                         17\n",
              "                                       True                                                           1\n",
              "       Khat or Cannabis warning        False                                                         19\n",
              "                                       True                                                           1\n",
              "Male   A no further action disposal    False                                                       1898\n",
              "                                       True                                                          80\n",
              "       Arrest                          False                                                        300\n",
              "                                       True                                                          31\n",
              "       Caution (simple or conditional) False                                                         28\n",
              "                                       True                                                           3\n",
              "       Community resolution            False                                                         90\n",
              "                                       True                                                           3\n",
              "       Khat or Cannabis warning        False                                                        215\n",
              "                                       True                                                          10\n",
              "       Penalty Notice for Disorder     False                                                          1\n",
              "       Summons / charged by post       False                                                         12\n",
              "                                       True                                                           1"
            ]
          },
          "metadata": {
            "tags": []
          },
          "execution_count": 46
        }
      ]
    },
    {
      "cell_type": "code",
      "metadata": {
        "colab": {
          "base_uri": "https://localhost:8080/",
          "height": 359
        },
        "id": "T_V9dOQM0qHI",
        "outputId": "342fa3a1-1ed7-4469-c484-3362d100f48a"
      },
      "source": [
        "underprivileged_group_1 =underprivileged_group.pivot_table(values='Outcome', index=['Self-defined ethnicity'],aggfunc='count')\n",
        "underprivileged_group_1"
      ],
      "execution_count": 47,
      "outputs": [
        {
          "output_type": "execute_result",
          "data": {
            "text/html": [
              "<div>\n",
              "<style scoped>\n",
              "    .dataframe tbody tr th:only-of-type {\n",
              "        vertical-align: middle;\n",
              "    }\n",
              "\n",
              "    .dataframe tbody tr th {\n",
              "        vertical-align: top;\n",
              "    }\n",
              "\n",
              "    .dataframe thead th {\n",
              "        text-align: right;\n",
              "    }\n",
              "</style>\n",
              "<table border=\"1\" class=\"dataframe\">\n",
              "  <thead>\n",
              "    <tr style=\"text-align: right;\">\n",
              "      <th></th>\n",
              "      <th>Outcome</th>\n",
              "    </tr>\n",
              "    <tr>\n",
              "      <th>Self-defined ethnicity</th>\n",
              "      <th></th>\n",
              "    </tr>\n",
              "  </thead>\n",
              "  <tbody>\n",
              "    <tr>\n",
              "      <th>Asian</th>\n",
              "      <td>666</td>\n",
              "    </tr>\n",
              "    <tr>\n",
              "      <th>Black</th>\n",
              "      <td>1246</td>\n",
              "    </tr>\n",
              "    <tr>\n",
              "      <th>Mixed/Multiple ethnic groups - Any other Mixed/Multiple ethnic background</th>\n",
              "      <td>198</td>\n",
              "    </tr>\n",
              "    <tr>\n",
              "      <th>Mixed/Multiple ethnic groups - White and Asian</th>\n",
              "      <td>35</td>\n",
              "    </tr>\n",
              "    <tr>\n",
              "      <th>Mixed/Multiple ethnic groups - White and Black African</th>\n",
              "      <td>43</td>\n",
              "    </tr>\n",
              "    <tr>\n",
              "      <th>Mixed/Multiple ethnic groups - White and Black Caribbean</th>\n",
              "      <td>117</td>\n",
              "    </tr>\n",
              "    <tr>\n",
              "      <th>Other</th>\n",
              "      <td>520</td>\n",
              "    </tr>\n",
              "    <tr>\n",
              "      <th>Other ethnic group - Any other ethnic group</th>\n",
              "      <td>42</td>\n",
              "    </tr>\n",
              "    <tr>\n",
              "      <th>White</th>\n",
              "      <td>24</td>\n",
              "    </tr>\n",
              "  </tbody>\n",
              "</table>\n",
              "</div>"
            ],
            "text/plain": [
              "                                                    Outcome\n",
              "Self-defined ethnicity                                     \n",
              "Asian                                                   666\n",
              "Black                                                  1246\n",
              "Mixed/Multiple ethnic groups - Any other Mixed/...      198\n",
              "Mixed/Multiple ethnic groups - White and Asian           35\n",
              "Mixed/Multiple ethnic groups - White and Black ...       43\n",
              "Mixed/Multiple ethnic groups - White and Black ...      117\n",
              "Other                                                   520\n",
              "Other ethnic group - Any other ethnic group              42\n",
              "White                                                    24"
            ]
          },
          "metadata": {
            "tags": []
          },
          "execution_count": 47
        }
      ]
    },
    {
      "cell_type": "markdown",
      "metadata": {
        "id": "Yk8kYbhA0qHI"
      },
      "source": [
        "### Analysis based on Gender for privileged Gender (Female)"
      ]
    },
    {
      "cell_type": "code",
      "metadata": {
        "colab": {
          "base_uri": "https://localhost:8080/",
          "height": 207
        },
        "id": "5paxjixw0qHJ",
        "outputId": "eeef2ad1-0bcd-4d28-c575-16dc7f0515d1"
      },
      "source": [
        "privileged_group_Female.describe()"
      ],
      "execution_count": 48,
      "outputs": [
        {
          "output_type": "execute_result",
          "data": {
            "text/html": [
              "<div>\n",
              "<style scoped>\n",
              "    .dataframe tbody tr th:only-of-type {\n",
              "        vertical-align: middle;\n",
              "    }\n",
              "\n",
              "    .dataframe tbody tr th {\n",
              "        vertical-align: top;\n",
              "    }\n",
              "\n",
              "    .dataframe thead th {\n",
              "        text-align: right;\n",
              "    }\n",
              "</style>\n",
              "<table border=\"1\" class=\"dataframe\">\n",
              "  <thead>\n",
              "    <tr style=\"text-align: right;\">\n",
              "      <th></th>\n",
              "      <th>Type</th>\n",
              "      <th>Date</th>\n",
              "      <th>City</th>\n",
              "      <th>Officer-defined ethnicity</th>\n",
              "      <th>Self-defined ethnicity</th>\n",
              "      <th>Gender</th>\n",
              "      <th>Age range</th>\n",
              "      <th>Removal of more than just outer clothing</th>\n",
              "      <th>Outcome</th>\n",
              "    </tr>\n",
              "  </thead>\n",
              "  <tbody>\n",
              "    <tr>\n",
              "      <th>count</th>\n",
              "      <td>1907</td>\n",
              "      <td>1907</td>\n",
              "      <td>1907</td>\n",
              "      <td>1907</td>\n",
              "      <td>1907</td>\n",
              "      <td>1907</td>\n",
              "      <td>1907</td>\n",
              "      <td>1907</td>\n",
              "      <td>1907</td>\n",
              "    </tr>\n",
              "    <tr>\n",
              "      <th>unique</th>\n",
              "      <td>2</td>\n",
              "      <td>8</td>\n",
              "      <td>1</td>\n",
              "      <td>4</td>\n",
              "      <td>9</td>\n",
              "      <td>1</td>\n",
              "      <td>5</td>\n",
              "      <td>2</td>\n",
              "      <td>6</td>\n",
              "    </tr>\n",
              "    <tr>\n",
              "      <th>top</th>\n",
              "      <td>Person search</td>\n",
              "      <td>2020-05</td>\n",
              "      <td>Colchester</td>\n",
              "      <td>White</td>\n",
              "      <td>White</td>\n",
              "      <td>Female</td>\n",
              "      <td>18-24</td>\n",
              "      <td>False</td>\n",
              "      <td>A no further action disposal</td>\n",
              "    </tr>\n",
              "    <tr>\n",
              "      <th>freq</th>\n",
              "      <td>1445</td>\n",
              "      <td>356</td>\n",
              "      <td>1907</td>\n",
              "      <td>1688</td>\n",
              "      <td>1589</td>\n",
              "      <td>1907</td>\n",
              "      <td>762</td>\n",
              "      <td>1884</td>\n",
              "      <td>1549</td>\n",
              "    </tr>\n",
              "  </tbody>\n",
              "</table>\n",
              "</div>"
            ],
            "text/plain": [
              "                 Type  ...                       Outcome\n",
              "count            1907  ...                          1907\n",
              "unique              2  ...                             6\n",
              "top     Person search  ...  A no further action disposal\n",
              "freq             1445  ...                          1549\n",
              "\n",
              "[4 rows x 9 columns]"
            ]
          },
          "metadata": {
            "tags": []
          },
          "execution_count": 48
        }
      ]
    },
    {
      "cell_type": "code",
      "metadata": {
        "colab": {
          "base_uri": "https://localhost:8080/",
          "height": 827
        },
        "id": "8xPOwb-K0qHJ",
        "outputId": "67529b43-4fcc-40ff-bbd6-1d985ea55c2f"
      },
      "source": [
        "cx = privileged_group_Female['Self-defined ethnicity'].value_counts().plot(kind='bar', figsize=(10,7));\n",
        "cx.set_alpha(0.8)\n",
        "cx.set_title(\"Stop for Search\", fontsize=12)\n",
        "cx.set_ylabel('Ethnicity of people who was searched', fontsize=12)\n",
        "cx.set_xlabel('Ethnicity of searched', fontsize=12)\n",
        "# create a list to collect the plt.patches data\n",
        "y = []\n",
        "# find the values and append to list\n",
        "for i in cx.patches:\n",
        "    y.append(i.get_height())\n",
        "# set individual bar lables using above list\n",
        "y = sum(y)"
      ],
      "execution_count": 49,
      "outputs": [
        {
          "output_type": "display_data",
          "data": {
            "image/png": "[encoded data removed]",
            "text/plain": [
              "<Figure size 720x504 with 1 Axes>"
            ]
          },
          "metadata": {
            "tags": [],
            "needs_background": "light"
          }
        }
      ]
    },
    {
      "cell_type": "markdown",
      "metadata": {
        "id": "3hNIJd1w0qHK"
      },
      "source": [
        "**The Above plot clearly shows that Female police officers stop and search the people with white enthenticity.**"
      ]
    },
    {
      "cell_type": "code",
      "metadata": {
        "colab": {
          "base_uri": "https://localhost:8080/",
          "height": 607
        },
        "id": "u5E8M7Do0qHK",
        "outputId": "655a0127-aa45-48fc-f9b0-33874d34180c"
      },
      "source": [
        "privileged_group_Female_1 =privileged_group_Female.pivot_table(values='Outcome', index=['Officer-defined ethnicity','Age range'],aggfunc='count')\n",
        "privileged_group_Female_1"
      ],
      "execution_count": 50,
      "outputs": [
        {
          "output_type": "execute_result",
          "data": {
            "text/html": [
              "<div>\n",
              "<style scoped>\n",
              "    .dataframe tbody tr th:only-of-type {\n",
              "        vertical-align: middle;\n",
              "    }\n",
              "\n",
              "    .dataframe tbody tr th {\n",
              "        vertical-align: top;\n",
              "    }\n",
              "\n",
              "    .dataframe thead th {\n",
              "        text-align: right;\n",
              "    }\n",
              "</style>\n",
              "<table border=\"1\" class=\"dataframe\">\n",
              "  <thead>\n",
              "    <tr style=\"text-align: right;\">\n",
              "      <th></th>\n",
              "      <th></th>\n",
              "      <th>Outcome</th>\n",
              "    </tr>\n",
              "    <tr>\n",
              "      <th>Officer-defined ethnicity</th>\n",
              "      <th>Age range</th>\n",
              "      <th></th>\n",
              "    </tr>\n",
              "  </thead>\n",
              "  <tbody>\n",
              "    <tr>\n",
              "      <th rowspan=\"4\" valign=\"top\">Asian</th>\n",
              "      <th>10-17</th>\n",
              "      <td>5</td>\n",
              "    </tr>\n",
              "    <tr>\n",
              "      <th>18-24</th>\n",
              "      <td>20</td>\n",
              "    </tr>\n",
              "    <tr>\n",
              "      <th>25-34</th>\n",
              "      <td>6</td>\n",
              "    </tr>\n",
              "    <tr>\n",
              "      <th>over 34</th>\n",
              "      <td>3</td>\n",
              "    </tr>\n",
              "    <tr>\n",
              "      <th rowspan=\"4\" valign=\"top\">Black</th>\n",
              "      <th>10-17</th>\n",
              "      <td>17</td>\n",
              "    </tr>\n",
              "    <tr>\n",
              "      <th>18-24</th>\n",
              "      <td>52</td>\n",
              "    </tr>\n",
              "    <tr>\n",
              "      <th>25-34</th>\n",
              "      <td>14</td>\n",
              "    </tr>\n",
              "    <tr>\n",
              "      <th>over 34</th>\n",
              "      <td>14</td>\n",
              "    </tr>\n",
              "    <tr>\n",
              "      <th rowspan=\"4\" valign=\"top\">Other</th>\n",
              "      <th>10-17</th>\n",
              "      <td>23</td>\n",
              "    </tr>\n",
              "    <tr>\n",
              "      <th>18-24</th>\n",
              "      <td>49</td>\n",
              "    </tr>\n",
              "    <tr>\n",
              "      <th>25-34</th>\n",
              "      <td>15</td>\n",
              "    </tr>\n",
              "    <tr>\n",
              "      <th>over 34</th>\n",
              "      <td>1</td>\n",
              "    </tr>\n",
              "    <tr>\n",
              "      <th rowspan=\"5\" valign=\"top\">White</th>\n",
              "      <th>10-17</th>\n",
              "      <td>419</td>\n",
              "    </tr>\n",
              "    <tr>\n",
              "      <th>18-24</th>\n",
              "      <td>641</td>\n",
              "    </tr>\n",
              "    <tr>\n",
              "      <th>25-34</th>\n",
              "      <td>282</td>\n",
              "    </tr>\n",
              "    <tr>\n",
              "      <th>over 34</th>\n",
              "      <td>345</td>\n",
              "    </tr>\n",
              "    <tr>\n",
              "      <th>under 10</th>\n",
              "      <td>1</td>\n",
              "    </tr>\n",
              "  </tbody>\n",
              "</table>\n",
              "</div>"
            ],
            "text/plain": [
              "                                     Outcome\n",
              "Officer-defined ethnicity Age range         \n",
              "Asian                     10-17            5\n",
              "                          18-24           20\n",
              "                          25-34            6\n",
              "                          over 34          3\n",
              "Black                     10-17           17\n",
              "                          18-24           52\n",
              "                          25-34           14\n",
              "                          over 34         14\n",
              "Other                     10-17           23\n",
              "                          18-24           49\n",
              "                          25-34           15\n",
              "                          over 34          1\n",
              "White                     10-17          419\n",
              "                          18-24          641\n",
              "                          25-34          282\n",
              "                          over 34        345\n",
              "                          under 10         1"
            ]
          },
          "metadata": {
            "tags": []
          },
          "execution_count": 50
        }
      ]
    },
    {
      "cell_type": "code",
      "metadata": {
        "colab": {
          "base_uri": "https://localhost:8080/",
          "height": 266
        },
        "id": "bKYXKgmI0qHL",
        "outputId": "7547cd6a-8aa3-48de-a430-6ca6198ec83d"
      },
      "source": [
        "privileged_group_Female_1 =privileged_group_Female.pivot_table(values='Self-defined ethnicity', index=['Outcome'],aggfunc='count')\n",
        "privileged_group_Female_1"
      ],
      "execution_count": 51,
      "outputs": [
        {
          "output_type": "execute_result",
          "data": {
            "text/html": [
              "<div>\n",
              "<style scoped>\n",
              "    .dataframe tbody tr th:only-of-type {\n",
              "        vertical-align: middle;\n",
              "    }\n",
              "\n",
              "    .dataframe tbody tr th {\n",
              "        vertical-align: top;\n",
              "    }\n",
              "\n",
              "    .dataframe thead th {\n",
              "        text-align: right;\n",
              "    }\n",
              "</style>\n",
              "<table border=\"1\" class=\"dataframe\">\n",
              "  <thead>\n",
              "    <tr style=\"text-align: right;\">\n",
              "      <th></th>\n",
              "      <th>Self-defined ethnicity</th>\n",
              "    </tr>\n",
              "    <tr>\n",
              "      <th>Outcome</th>\n",
              "      <th></th>\n",
              "    </tr>\n",
              "  </thead>\n",
              "  <tbody>\n",
              "    <tr>\n",
              "      <th>A no further action disposal</th>\n",
              "      <td>1549</td>\n",
              "    </tr>\n",
              "    <tr>\n",
              "      <th>Arrest</th>\n",
              "      <td>116</td>\n",
              "    </tr>\n",
              "    <tr>\n",
              "      <th>Caution (simple or conditional)</th>\n",
              "      <td>23</td>\n",
              "    </tr>\n",
              "    <tr>\n",
              "      <th>Community resolution</th>\n",
              "      <td>85</td>\n",
              "    </tr>\n",
              "    <tr>\n",
              "      <th>Khat or Cannabis warning</th>\n",
              "      <td>129</td>\n",
              "    </tr>\n",
              "    <tr>\n",
              "      <th>Summons / charged by post</th>\n",
              "      <td>5</td>\n",
              "    </tr>\n",
              "  </tbody>\n",
              "</table>\n",
              "</div>"
            ],
            "text/plain": [
              "                                 Self-defined ethnicity\n",
              "Outcome                                                \n",
              "A no further action disposal                       1549\n",
              "Arrest                                              116\n",
              "Caution (simple or conditional)                      23\n",
              "Community resolution                                 85\n",
              "Khat or Cannabis warning                            129\n",
              "Summons / charged by post                             5"
            ]
          },
          "metadata": {
            "tags": []
          },
          "execution_count": 51
        }
      ]
    },
    {
      "cell_type": "code",
      "metadata": {
        "colab": {
          "base_uri": "https://localhost:8080/",
          "height": 452
        },
        "id": "3feYqX_Y0qHL",
        "outputId": "86b07bb3-af42-4c62-dbef-b34e027a4cb2"
      },
      "source": [
        "privileged_group_Female_1 =privileged_group_Female.pivot_table(values='Self-defined ethnicity', index=['Outcome','Removal of more than just outer clothing'],aggfunc='count')\n",
        "privileged_group_Female_1"
      ],
      "execution_count": 52,
      "outputs": [
        {
          "output_type": "execute_result",
          "data": {
            "text/html": [
              "<div>\n",
              "<style scoped>\n",
              "    .dataframe tbody tr th:only-of-type {\n",
              "        vertical-align: middle;\n",
              "    }\n",
              "\n",
              "    .dataframe tbody tr th {\n",
              "        vertical-align: top;\n",
              "    }\n",
              "\n",
              "    .dataframe thead th {\n",
              "        text-align: right;\n",
              "    }\n",
              "</style>\n",
              "<table border=\"1\" class=\"dataframe\">\n",
              "  <thead>\n",
              "    <tr style=\"text-align: right;\">\n",
              "      <th></th>\n",
              "      <th></th>\n",
              "      <th>Self-defined ethnicity</th>\n",
              "    </tr>\n",
              "    <tr>\n",
              "      <th>Outcome</th>\n",
              "      <th>Removal of more than just outer clothing</th>\n",
              "      <th></th>\n",
              "    </tr>\n",
              "  </thead>\n",
              "  <tbody>\n",
              "    <tr>\n",
              "      <th rowspan=\"2\" valign=\"top\">A no further action disposal</th>\n",
              "      <th>False</th>\n",
              "      <td>1533</td>\n",
              "    </tr>\n",
              "    <tr>\n",
              "      <th>True</th>\n",
              "      <td>16</td>\n",
              "    </tr>\n",
              "    <tr>\n",
              "      <th rowspan=\"2\" valign=\"top\">Arrest</th>\n",
              "      <th>False</th>\n",
              "      <td>114</td>\n",
              "    </tr>\n",
              "    <tr>\n",
              "      <th>True</th>\n",
              "      <td>2</td>\n",
              "    </tr>\n",
              "    <tr>\n",
              "      <th rowspan=\"2\" valign=\"top\">Caution (simple or conditional)</th>\n",
              "      <th>False</th>\n",
              "      <td>22</td>\n",
              "    </tr>\n",
              "    <tr>\n",
              "      <th>True</th>\n",
              "      <td>1</td>\n",
              "    </tr>\n",
              "    <tr>\n",
              "      <th rowspan=\"2\" valign=\"top\">Community resolution</th>\n",
              "      <th>False</th>\n",
              "      <td>83</td>\n",
              "    </tr>\n",
              "    <tr>\n",
              "      <th>True</th>\n",
              "      <td>2</td>\n",
              "    </tr>\n",
              "    <tr>\n",
              "      <th rowspan=\"2\" valign=\"top\">Khat or Cannabis warning</th>\n",
              "      <th>False</th>\n",
              "      <td>128</td>\n",
              "    </tr>\n",
              "    <tr>\n",
              "      <th>True</th>\n",
              "      <td>1</td>\n",
              "    </tr>\n",
              "    <tr>\n",
              "      <th rowspan=\"2\" valign=\"top\">Summons / charged by post</th>\n",
              "      <th>False</th>\n",
              "      <td>4</td>\n",
              "    </tr>\n",
              "    <tr>\n",
              "      <th>True</th>\n",
              "      <td>1</td>\n",
              "    </tr>\n",
              "  </tbody>\n",
              "</table>\n",
              "</div>"
            ],
            "text/plain": [
              "                                                                          Self-defined ethnicity\n",
              "Outcome                         Removal of more than just outer clothing                        \n",
              "A no further action disposal    False                                                       1533\n",
              "                                True                                                          16\n",
              "Arrest                          False                                                        114\n",
              "                                True                                                           2\n",
              "Caution (simple or conditional) False                                                         22\n",
              "                                True                                                           1\n",
              "Community resolution            False                                                         83\n",
              "                                True                                                           2\n",
              "Khat or Cannabis warning        False                                                        128\n",
              "                                True                                                           1\n",
              "Summons / charged by post       False                                                          4\n",
              "                                True                                                           1"
            ]
          },
          "metadata": {
            "tags": []
          },
          "execution_count": 52
        }
      ]
    },
    {
      "cell_type": "code",
      "metadata": {
        "colab": {
          "base_uri": "https://localhost:8080/",
          "height": 1000
        },
        "id": "9W-erW2N0qHL",
        "outputId": "265f614c-a007-4845-d1c3-513a2702b0dc"
      },
      "source": [
        "privileged_group_Female_1 =privileged_group_Female.pivot_table(values='Gender', index=['Self-defined ethnicity','Outcome'],aggfunc='count')\n",
        "privileged_group_Female_1"
      ],
      "execution_count": 53,
      "outputs": [
        {
          "output_type": "execute_result",
          "data": {
            "text/html": [
              "<div>\n",
              "<style scoped>\n",
              "    .dataframe tbody tr th:only-of-type {\n",
              "        vertical-align: middle;\n",
              "    }\n",
              "\n",
              "    .dataframe tbody tr th {\n",
              "        vertical-align: top;\n",
              "    }\n",
              "\n",
              "    .dataframe thead th {\n",
              "        text-align: right;\n",
              "    }\n",
              "</style>\n",
              "<table border=\"1\" class=\"dataframe\">\n",
              "  <thead>\n",
              "    <tr style=\"text-align: right;\">\n",
              "      <th></th>\n",
              "      <th></th>\n",
              "      <th>Gender</th>\n",
              "    </tr>\n",
              "    <tr>\n",
              "      <th>Self-defined ethnicity</th>\n",
              "      <th>Outcome</th>\n",
              "      <th></th>\n",
              "    </tr>\n",
              "  </thead>\n",
              "  <tbody>\n",
              "    <tr>\n",
              "      <th rowspan=\"5\" valign=\"top\">Asian</th>\n",
              "      <th>A no further action disposal</th>\n",
              "      <td>17</td>\n",
              "    </tr>\n",
              "    <tr>\n",
              "      <th>Arrest</th>\n",
              "      <td>1</td>\n",
              "    </tr>\n",
              "    <tr>\n",
              "      <th>Caution (simple or conditional)</th>\n",
              "      <td>4</td>\n",
              "    </tr>\n",
              "    <tr>\n",
              "      <th>Community resolution</th>\n",
              "      <td>4</td>\n",
              "    </tr>\n",
              "    <tr>\n",
              "      <th>Khat or Cannabis warning</th>\n",
              "      <td>4</td>\n",
              "    </tr>\n",
              "    <tr>\n",
              "      <th rowspan=\"4\" valign=\"top\">Black</th>\n",
              "      <th>A no further action disposal</th>\n",
              "      <td>65</td>\n",
              "    </tr>\n",
              "    <tr>\n",
              "      <th>Arrest</th>\n",
              "      <td>12</td>\n",
              "    </tr>\n",
              "    <tr>\n",
              "      <th>Community resolution</th>\n",
              "      <td>7</td>\n",
              "    </tr>\n",
              "    <tr>\n",
              "      <th>Khat or Cannabis warning</th>\n",
              "      <td>9</td>\n",
              "    </tr>\n",
              "    <tr>\n",
              "      <th rowspan=\"4\" valign=\"top\">Mixed/Multiple ethnic groups - Any other Mixed/Multiple ethnic background</th>\n",
              "      <th>A no further action disposal</th>\n",
              "      <td>19</td>\n",
              "    </tr>\n",
              "    <tr>\n",
              "      <th>Arrest</th>\n",
              "      <td>1</td>\n",
              "    </tr>\n",
              "    <tr>\n",
              "      <th>Community resolution</th>\n",
              "      <td>6</td>\n",
              "    </tr>\n",
              "    <tr>\n",
              "      <th>Khat or Cannabis warning</th>\n",
              "      <td>3</td>\n",
              "    </tr>\n",
              "    <tr>\n",
              "      <th rowspan=\"2\" valign=\"top\">Mixed/Multiple ethnic groups - White and Asian</th>\n",
              "      <th>A no further action disposal</th>\n",
              "      <td>4</td>\n",
              "    </tr>\n",
              "    <tr>\n",
              "      <th>Arrest</th>\n",
              "      <td>1</td>\n",
              "    </tr>\n",
              "    <tr>\n",
              "      <th>Mixed/Multiple ethnic groups - White and Black African</th>\n",
              "      <th>A no further action disposal</th>\n",
              "      <td>4</td>\n",
              "    </tr>\n",
              "    <tr>\n",
              "      <th rowspan=\"2\" valign=\"top\">Mixed/Multiple ethnic groups - White and Black Caribbean</th>\n",
              "      <th>A no further action disposal</th>\n",
              "      <td>17</td>\n",
              "    </tr>\n",
              "    <tr>\n",
              "      <th>Khat or Cannabis warning</th>\n",
              "      <td>3</td>\n",
              "    </tr>\n",
              "    <tr>\n",
              "      <th rowspan=\"6\" valign=\"top\">Other</th>\n",
              "      <th>A no further action disposal</th>\n",
              "      <td>114</td>\n",
              "    </tr>\n",
              "    <tr>\n",
              "      <th>Arrest</th>\n",
              "      <td>3</td>\n",
              "    </tr>\n",
              "    <tr>\n",
              "      <th>Caution (simple or conditional)</th>\n",
              "      <td>2</td>\n",
              "    </tr>\n",
              "    <tr>\n",
              "      <th>Community resolution</th>\n",
              "      <td>5</td>\n",
              "    </tr>\n",
              "    <tr>\n",
              "      <th>Khat or Cannabis warning</th>\n",
              "      <td>7</td>\n",
              "    </tr>\n",
              "    <tr>\n",
              "      <th>Summons / charged by post</th>\n",
              "      <td>1</td>\n",
              "    </tr>\n",
              "    <tr>\n",
              "      <th rowspan=\"2\" valign=\"top\">Other ethnic group - Any other ethnic group</th>\n",
              "      <th>A no further action disposal</th>\n",
              "      <td>3</td>\n",
              "    </tr>\n",
              "    <tr>\n",
              "      <th>Community resolution</th>\n",
              "      <td>2</td>\n",
              "    </tr>\n",
              "    <tr>\n",
              "      <th rowspan=\"6\" valign=\"top\">White</th>\n",
              "      <th>A no further action disposal</th>\n",
              "      <td>1306</td>\n",
              "    </tr>\n",
              "    <tr>\n",
              "      <th>Arrest</th>\n",
              "      <td>98</td>\n",
              "    </tr>\n",
              "    <tr>\n",
              "      <th>Caution (simple or conditional)</th>\n",
              "      <td>17</td>\n",
              "    </tr>\n",
              "    <tr>\n",
              "      <th>Community resolution</th>\n",
              "      <td>61</td>\n",
              "    </tr>\n",
              "    <tr>\n",
              "      <th>Khat or Cannabis warning</th>\n",
              "      <td>103</td>\n",
              "    </tr>\n",
              "    <tr>\n",
              "      <th>Summons / charged by post</th>\n",
              "      <td>4</td>\n",
              "    </tr>\n",
              "  </tbody>\n",
              "</table>\n",
              "</div>"
            ],
            "text/plain": [
              "                                                                                    Gender\n",
              "Self-defined ethnicity                             Outcome                                \n",
              "Asian                                              A no further action disposal         17\n",
              "                                                   Arrest                                1\n",
              "                                                   Caution (simple or conditional)       4\n",
              "                                                   Community resolution                  4\n",
              "                                                   Khat or Cannabis warning              4\n",
              "Black                                              A no further action disposal         65\n",
              "                                                   Arrest                               12\n",
              "                                                   Community resolution                  7\n",
              "                                                   Khat or Cannabis warning              9\n",
              "Mixed/Multiple ethnic groups - Any other Mixed/... A no further action disposal         19\n",
              "                                                   Arrest                                1\n",
              "                                                   Community resolution                  6\n",
              "                                                   Khat or Cannabis warning              3\n",
              "Mixed/Multiple ethnic groups - White and Asian     A no further action disposal          4\n",
              "                                                   Arrest                                1\n",
              "Mixed/Multiple ethnic groups - White and Black ... A no further action disposal          4\n",
              "Mixed/Multiple ethnic groups - White and Black ... A no further action disposal         17\n",
              "                                                   Khat or Cannabis warning              3\n",
              "Other                                              A no further action disposal        114\n",
              "                                                   Arrest                                3\n",
              "                                                   Caution (simple or conditional)       2\n",
              "                                                   Community resolution                  5\n",
              "                                                   Khat or Cannabis warning              7\n",
              "                                                   Summons / charged by post             1\n",
              "Other ethnic group - Any other ethnic group        A no further action disposal          3\n",
              "                                                   Community resolution                  2\n",
              "White                                              A no further action disposal       1306\n",
              "                                                   Arrest                               98\n",
              "                                                   Caution (simple or conditional)      17\n",
              "                                                   Community resolution                 61\n",
              "                                                   Khat or Cannabis warning            103\n",
              "                                                   Summons / charged by post             4"
            ]
          },
          "metadata": {
            "tags": []
          },
          "execution_count": 53
        }
      ]
    },
    {
      "cell_type": "code",
      "metadata": {
        "colab": {
          "base_uri": "https://localhost:8080/",
          "height": 359
        },
        "id": "-5bqTmND0qHM",
        "outputId": "a5df61dd-9061-4458-ddfa-5e31d56ab8f4"
      },
      "source": [
        "privileged_group_Female_1 =privileged_group_Female.pivot_table(values='Self-defined ethnicity', index=['Gender','Outcome','Removal of more than just outer clothing'],aggfunc='count')\n",
        "underprivileged_group_1"
      ],
      "execution_count": 54,
      "outputs": [
        {
          "output_type": "execute_result",
          "data": {
            "text/html": [
              "<div>\n",
              "<style scoped>\n",
              "    .dataframe tbody tr th:only-of-type {\n",
              "        vertical-align: middle;\n",
              "    }\n",
              "\n",
              "    .dataframe tbody tr th {\n",
              "        vertical-align: top;\n",
              "    }\n",
              "\n",
              "    .dataframe thead th {\n",
              "        text-align: right;\n",
              "    }\n",
              "</style>\n",
              "<table border=\"1\" class=\"dataframe\">\n",
              "  <thead>\n",
              "    <tr style=\"text-align: right;\">\n",
              "      <th></th>\n",
              "      <th>Outcome</th>\n",
              "    </tr>\n",
              "    <tr>\n",
              "      <th>Self-defined ethnicity</th>\n",
              "      <th></th>\n",
              "    </tr>\n",
              "  </thead>\n",
              "  <tbody>\n",
              "    <tr>\n",
              "      <th>Asian</th>\n",
              "      <td>666</td>\n",
              "    </tr>\n",
              "    <tr>\n",
              "      <th>Black</th>\n",
              "      <td>1246</td>\n",
              "    </tr>\n",
              "    <tr>\n",
              "      <th>Mixed/Multiple ethnic groups - Any other Mixed/Multiple ethnic background</th>\n",
              "      <td>198</td>\n",
              "    </tr>\n",
              "    <tr>\n",
              "      <th>Mixed/Multiple ethnic groups - White and Asian</th>\n",
              "      <td>35</td>\n",
              "    </tr>\n",
              "    <tr>\n",
              "      <th>Mixed/Multiple ethnic groups - White and Black African</th>\n",
              "      <td>43</td>\n",
              "    </tr>\n",
              "    <tr>\n",
              "      <th>Mixed/Multiple ethnic groups - White and Black Caribbean</th>\n",
              "      <td>117</td>\n",
              "    </tr>\n",
              "    <tr>\n",
              "      <th>Other</th>\n",
              "      <td>520</td>\n",
              "    </tr>\n",
              "    <tr>\n",
              "      <th>Other ethnic group - Any other ethnic group</th>\n",
              "      <td>42</td>\n",
              "    </tr>\n",
              "    <tr>\n",
              "      <th>White</th>\n",
              "      <td>24</td>\n",
              "    </tr>\n",
              "  </tbody>\n",
              "</table>\n",
              "</div>"
            ],
            "text/plain": [
              "                                                    Outcome\n",
              "Self-defined ethnicity                                     \n",
              "Asian                                                   666\n",
              "Black                                                  1246\n",
              "Mixed/Multiple ethnic groups - Any other Mixed/...      198\n",
              "Mixed/Multiple ethnic groups - White and Asian           35\n",
              "Mixed/Multiple ethnic groups - White and Black ...       43\n",
              "Mixed/Multiple ethnic groups - White and Black ...      117\n",
              "Other                                                   520\n",
              "Other ethnic group - Any other ethnic group              42\n",
              "White                                                    24"
            ]
          },
          "metadata": {
            "tags": []
          },
          "execution_count": 54
        }
      ]
    },
    {
      "cell_type": "code",
      "metadata": {
        "colab": {
          "base_uri": "https://localhost:8080/",
          "height": 359
        },
        "id": "kek5hCZW0qHM",
        "outputId": "e97bb520-7056-4785-f5b4-b36a204a1864"
      },
      "source": [
        "privileged_group_Female_1 =privileged_group_Female.pivot_table(values='Outcome', index=['Self-defined ethnicity'],aggfunc='count')\n",
        "privileged_group_Female_1"
      ],
      "execution_count": 55,
      "outputs": [
        {
          "output_type": "execute_result",
          "data": {
            "text/html": [
              "<div>\n",
              "<style scoped>\n",
              "    .dataframe tbody tr th:only-of-type {\n",
              "        vertical-align: middle;\n",
              "    }\n",
              "\n",
              "    .dataframe tbody tr th {\n",
              "        vertical-align: top;\n",
              "    }\n",
              "\n",
              "    .dataframe thead th {\n",
              "        text-align: right;\n",
              "    }\n",
              "</style>\n",
              "<table border=\"1\" class=\"dataframe\">\n",
              "  <thead>\n",
              "    <tr style=\"text-align: right;\">\n",
              "      <th></th>\n",
              "      <th>Outcome</th>\n",
              "    </tr>\n",
              "    <tr>\n",
              "      <th>Self-defined ethnicity</th>\n",
              "      <th></th>\n",
              "    </tr>\n",
              "  </thead>\n",
              "  <tbody>\n",
              "    <tr>\n",
              "      <th>Asian</th>\n",
              "      <td>30</td>\n",
              "    </tr>\n",
              "    <tr>\n",
              "      <th>Black</th>\n",
              "      <td>93</td>\n",
              "    </tr>\n",
              "    <tr>\n",
              "      <th>Mixed/Multiple ethnic groups - Any other Mixed/Multiple ethnic background</th>\n",
              "      <td>29</td>\n",
              "    </tr>\n",
              "    <tr>\n",
              "      <th>Mixed/Multiple ethnic groups - White and Asian</th>\n",
              "      <td>5</td>\n",
              "    </tr>\n",
              "    <tr>\n",
              "      <th>Mixed/Multiple ethnic groups - White and Black African</th>\n",
              "      <td>4</td>\n",
              "    </tr>\n",
              "    <tr>\n",
              "      <th>Mixed/Multiple ethnic groups - White and Black Caribbean</th>\n",
              "      <td>20</td>\n",
              "    </tr>\n",
              "    <tr>\n",
              "      <th>Other</th>\n",
              "      <td>132</td>\n",
              "    </tr>\n",
              "    <tr>\n",
              "      <th>Other ethnic group - Any other ethnic group</th>\n",
              "      <td>5</td>\n",
              "    </tr>\n",
              "    <tr>\n",
              "      <th>White</th>\n",
              "      <td>1589</td>\n",
              "    </tr>\n",
              "  </tbody>\n",
              "</table>\n",
              "</div>"
            ],
            "text/plain": [
              "                                                    Outcome\n",
              "Self-defined ethnicity                                     \n",
              "Asian                                                    30\n",
              "Black                                                    93\n",
              "Mixed/Multiple ethnic groups - Any other Mixed/...       29\n",
              "Mixed/Multiple ethnic groups - White and Asian            5\n",
              "Mixed/Multiple ethnic groups - White and Black ...        4\n",
              "Mixed/Multiple ethnic groups - White and Black ...       20\n",
              "Other                                                   132\n",
              "Other ethnic group - Any other ethnic group               5\n",
              "White                                                  1589"
            ]
          },
          "metadata": {
            "tags": []
          },
          "execution_count": 55
        }
      ]
    },
    {
      "cell_type": "markdown",
      "metadata": {
        "id": "myrDN_VO0qHM"
      },
      "source": [
        "### Analysis based on Gender for privileged Gender (Male)"
      ]
    },
    {
      "cell_type": "code",
      "metadata": {
        "colab": {
          "base_uri": "https://localhost:8080/",
          "height": 207
        },
        "id": "kCld-5zU0qHN",
        "outputId": "29d3a0dc-7bfb-403b-f99e-71c78c617348"
      },
      "source": [
        "underprivileged_group_Male.describe()"
      ],
      "execution_count": 56,
      "outputs": [
        {
          "output_type": "execute_result",
          "data": {
            "text/html": [
              "<div>\n",
              "<style scoped>\n",
              "    .dataframe tbody tr th:only-of-type {\n",
              "        vertical-align: middle;\n",
              "    }\n",
              "\n",
              "    .dataframe tbody tr th {\n",
              "        vertical-align: top;\n",
              "    }\n",
              "\n",
              "    .dataframe thead th {\n",
              "        text-align: right;\n",
              "    }\n",
              "</style>\n",
              "<table border=\"1\" class=\"dataframe\">\n",
              "  <thead>\n",
              "    <tr style=\"text-align: right;\">\n",
              "      <th></th>\n",
              "      <th>Type</th>\n",
              "      <th>Date</th>\n",
              "      <th>City</th>\n",
              "      <th>Officer-defined ethnicity</th>\n",
              "      <th>Self-defined ethnicity</th>\n",
              "      <th>Gender</th>\n",
              "      <th>Age range</th>\n",
              "      <th>Removal of more than just outer clothing</th>\n",
              "      <th>Outcome</th>\n",
              "    </tr>\n",
              "  </thead>\n",
              "  <tbody>\n",
              "    <tr>\n",
              "      <th>count</th>\n",
              "      <td>13965</td>\n",
              "      <td>13965</td>\n",
              "      <td>13965</td>\n",
              "      <td>13965</td>\n",
              "      <td>13965</td>\n",
              "      <td>13965</td>\n",
              "      <td>13965</td>\n",
              "      <td>13965</td>\n",
              "      <td>13965</td>\n",
              "    </tr>\n",
              "    <tr>\n",
              "      <th>unique</th>\n",
              "      <td>2</td>\n",
              "      <td>8</td>\n",
              "      <td>1</td>\n",
              "      <td>4</td>\n",
              "      <td>9</td>\n",
              "      <td>1</td>\n",
              "      <td>5</td>\n",
              "      <td>2</td>\n",
              "      <td>7</td>\n",
              "    </tr>\n",
              "    <tr>\n",
              "      <th>top</th>\n",
              "      <td>Person search</td>\n",
              "      <td>2020-05</td>\n",
              "      <td>Colchester</td>\n",
              "      <td>White</td>\n",
              "      <td>White</td>\n",
              "      <td>Male</td>\n",
              "      <td>18-24</td>\n",
              "      <td>False</td>\n",
              "      <td>A no further action disposal</td>\n",
              "    </tr>\n",
              "    <tr>\n",
              "      <th>freq</th>\n",
              "      <td>10401</td>\n",
              "      <td>2617</td>\n",
              "      <td>13965</td>\n",
              "      <td>11293</td>\n",
              "      <td>10504</td>\n",
              "      <td>13965</td>\n",
              "      <td>5520</td>\n",
              "      <td>13635</td>\n",
              "      <td>10480</td>\n",
              "    </tr>\n",
              "  </tbody>\n",
              "</table>\n",
              "</div>"
            ],
            "text/plain": [
              "                 Type  ...                       Outcome\n",
              "count           13965  ...                         13965\n",
              "unique              2  ...                             7\n",
              "top     Person search  ...  A no further action disposal\n",
              "freq            10401  ...                         10480\n",
              "\n",
              "[4 rows x 9 columns]"
            ]
          },
          "metadata": {
            "tags": []
          },
          "execution_count": 56
        }
      ]
    },
    {
      "cell_type": "code",
      "metadata": {
        "colab": {
          "base_uri": "https://localhost:8080/",
          "height": 827
        },
        "id": "hGjCvnpE0qHN",
        "outputId": "09cd5deb-d7ce-41a7-c30e-0147ad92bb2f"
      },
      "source": [
        "cx = underprivileged_group_Male['Self-defined ethnicity'].value_counts().plot(kind='bar', figsize=(10,7));\n",
        "cx.set_alpha(0.8)\n",
        "cx.set_title(\"Stop for Search\", fontsize=12)\n",
        "cx.set_ylabel('Ethnicity of people who was searched', fontsize=12)\n",
        "cx.set_xlabel('Ethnicity of searched', fontsize=12)\n",
        "# create a list to collect the plt.patches data\n",
        "y = []\n",
        "# find the values and append to list\n",
        "for i in cx.patches:\n",
        "    y.append(i.get_height())\n",
        "# set individual bar lables using above list\n",
        "y = sum(y)"
      ],
      "execution_count": 57,
      "outputs": [
        {
          "output_type": "display_data",
          "data": {
            "image/png": "[encoded data removed]",
            "text/plain": [
              "<Figure size 720x504 with 1 Axes>"
            ]
          },
          "metadata": {
            "tags": [],
            "needs_background": "light"
          }
        }
      ]
    },
    {
      "cell_type": "code",
      "metadata": {
        "colab": {
          "base_uri": "https://localhost:8080/",
          "height": 607
        },
        "id": "RfGG5S6_0qHN",
        "outputId": "88c7e4d1-fd9c-476a-9580-8787df5ea071"
      },
      "source": [
        "underprivileged_group_Male_1 =underprivileged_group_Male.pivot_table(values='Outcome', index=['Officer-defined ethnicity','Age range'],aggfunc='count')\n",
        "underprivileged_group_Male_1"
      ],
      "execution_count": 58,
      "outputs": [
        {
          "output_type": "execute_result",
          "data": {
            "text/html": [
              "<div>\n",
              "<style scoped>\n",
              "    .dataframe tbody tr th:only-of-type {\n",
              "        vertical-align: middle;\n",
              "    }\n",
              "\n",
              "    .dataframe tbody tr th {\n",
              "        vertical-align: top;\n",
              "    }\n",
              "\n",
              "    .dataframe thead th {\n",
              "        text-align: right;\n",
              "    }\n",
              "</style>\n",
              "<table border=\"1\" class=\"dataframe\">\n",
              "  <thead>\n",
              "    <tr style=\"text-align: right;\">\n",
              "      <th></th>\n",
              "      <th></th>\n",
              "      <th>Outcome</th>\n",
              "    </tr>\n",
              "    <tr>\n",
              "      <th>Officer-defined ethnicity</th>\n",
              "      <th>Age range</th>\n",
              "      <th></th>\n",
              "    </tr>\n",
              "  </thead>\n",
              "  <tbody>\n",
              "    <tr>\n",
              "      <th rowspan=\"4\" valign=\"top\">Asian</th>\n",
              "      <th>10-17</th>\n",
              "      <td>71</td>\n",
              "    </tr>\n",
              "    <tr>\n",
              "      <th>18-24</th>\n",
              "      <td>392</td>\n",
              "    </tr>\n",
              "    <tr>\n",
              "      <th>25-34</th>\n",
              "      <td>206</td>\n",
              "    </tr>\n",
              "    <tr>\n",
              "      <th>over 34</th>\n",
              "      <td>78</td>\n",
              "    </tr>\n",
              "    <tr>\n",
              "      <th rowspan=\"4\" valign=\"top\">Black</th>\n",
              "      <th>10-17</th>\n",
              "      <td>209</td>\n",
              "    </tr>\n",
              "    <tr>\n",
              "      <th>18-24</th>\n",
              "      <td>709</td>\n",
              "    </tr>\n",
              "    <tr>\n",
              "      <th>25-34</th>\n",
              "      <td>345</td>\n",
              "    </tr>\n",
              "    <tr>\n",
              "      <th>over 34</th>\n",
              "      <td>152</td>\n",
              "    </tr>\n",
              "    <tr>\n",
              "      <th rowspan=\"4\" valign=\"top\">Other</th>\n",
              "      <th>10-17</th>\n",
              "      <td>148</td>\n",
              "    </tr>\n",
              "    <tr>\n",
              "      <th>18-24</th>\n",
              "      <td>202</td>\n",
              "    </tr>\n",
              "    <tr>\n",
              "      <th>25-34</th>\n",
              "      <td>94</td>\n",
              "    </tr>\n",
              "    <tr>\n",
              "      <th>over 34</th>\n",
              "      <td>66</td>\n",
              "    </tr>\n",
              "    <tr>\n",
              "      <th rowspan=\"5\" valign=\"top\">White</th>\n",
              "      <th>10-17</th>\n",
              "      <td>2616</td>\n",
              "    </tr>\n",
              "    <tr>\n",
              "      <th>18-24</th>\n",
              "      <td>4217</td>\n",
              "    </tr>\n",
              "    <tr>\n",
              "      <th>25-34</th>\n",
              "      <td>2361</td>\n",
              "    </tr>\n",
              "    <tr>\n",
              "      <th>over 34</th>\n",
              "      <td>2098</td>\n",
              "    </tr>\n",
              "    <tr>\n",
              "      <th>under 10</th>\n",
              "      <td>1</td>\n",
              "    </tr>\n",
              "  </tbody>\n",
              "</table>\n",
              "</div>"
            ],
            "text/plain": [
              "                                     Outcome\n",
              "Officer-defined ethnicity Age range         \n",
              "Asian                     10-17           71\n",
              "                          18-24          392\n",
              "                          25-34          206\n",
              "                          over 34         78\n",
              "Black                     10-17          209\n",
              "                          18-24          709\n",
              "                          25-34          345\n",
              "                          over 34        152\n",
              "Other                     10-17          148\n",
              "                          18-24          202\n",
              "                          25-34           94\n",
              "                          over 34         66\n",
              "White                     10-17         2616\n",
              "                          18-24         4217\n",
              "                          25-34         2361\n",
              "                          over 34       2098\n",
              "                          under 10         1"
            ]
          },
          "metadata": {
            "tags": []
          },
          "execution_count": 58
        }
      ]
    },
    {
      "cell_type": "code",
      "metadata": {
        "colab": {
          "base_uri": "https://localhost:8080/",
          "height": 297
        },
        "id": "ze9t-ge20qHN",
        "outputId": "97512499-5c3b-4f3a-bc38-98bfa5a8d17f"
      },
      "source": [
        "underprivileged_group_Male_1 =underprivileged_group_Male.pivot_table(values='Self-defined ethnicity', index=['Outcome'],aggfunc='count')\n",
        "underprivileged_group_Male_1"
      ],
      "execution_count": 59,
      "outputs": [
        {
          "output_type": "execute_result",
          "data": {
            "text/html": [
              "<div>\n",
              "<style scoped>\n",
              "    .dataframe tbody tr th:only-of-type {\n",
              "        vertical-align: middle;\n",
              "    }\n",
              "\n",
              "    .dataframe tbody tr th {\n",
              "        vertical-align: top;\n",
              "    }\n",
              "\n",
              "    .dataframe thead th {\n",
              "        text-align: right;\n",
              "    }\n",
              "</style>\n",
              "<table border=\"1\" class=\"dataframe\">\n",
              "  <thead>\n",
              "    <tr style=\"text-align: right;\">\n",
              "      <th></th>\n",
              "      <th>Self-defined ethnicity</th>\n",
              "    </tr>\n",
              "    <tr>\n",
              "      <th>Outcome</th>\n",
              "      <th></th>\n",
              "    </tr>\n",
              "  </thead>\n",
              "  <tbody>\n",
              "    <tr>\n",
              "      <th>A no further action disposal</th>\n",
              "      <td>10480</td>\n",
              "    </tr>\n",
              "    <tr>\n",
              "      <th>Arrest</th>\n",
              "      <td>1420</td>\n",
              "    </tr>\n",
              "    <tr>\n",
              "      <th>Caution (simple or conditional)</th>\n",
              "      <td>162</td>\n",
              "    </tr>\n",
              "    <tr>\n",
              "      <th>Community resolution</th>\n",
              "      <td>665</td>\n",
              "    </tr>\n",
              "    <tr>\n",
              "      <th>Khat or Cannabis warning</th>\n",
              "      <td>1170</td>\n",
              "    </tr>\n",
              "    <tr>\n",
              "      <th>Penalty Notice for Disorder</th>\n",
              "      <td>4</td>\n",
              "    </tr>\n",
              "    <tr>\n",
              "      <th>Summons / charged by post</th>\n",
              "      <td>64</td>\n",
              "    </tr>\n",
              "  </tbody>\n",
              "</table>\n",
              "</div>"
            ],
            "text/plain": [
              "                                 Self-defined ethnicity\n",
              "Outcome                                                \n",
              "A no further action disposal                      10480\n",
              "Arrest                                             1420\n",
              "Caution (simple or conditional)                     162\n",
              "Community resolution                                665\n",
              "Khat or Cannabis warning                           1170\n",
              "Penalty Notice for Disorder                           4\n",
              "Summons / charged by post                            64"
            ]
          },
          "metadata": {
            "tags": []
          },
          "execution_count": 59
        }
      ]
    },
    {
      "cell_type": "code",
      "metadata": {
        "colab": {
          "base_uri": "https://localhost:8080/",
          "height": 514
        },
        "id": "Z4Yb3eZl0qHO",
        "outputId": "9fc52623-7d90-492c-f424-91f6de2c6cfa"
      },
      "source": [
        "underprivileged_group_Male_1 =underprivileged_group_Male.pivot_table(values='Self-defined ethnicity', index=['Outcome','Removal of more than just outer clothing'],aggfunc='count')\n",
        "underprivileged_group_Male_1"
      ],
      "execution_count": 60,
      "outputs": [
        {
          "output_type": "execute_result",
          "data": {
            "text/html": [
              "<div>\n",
              "<style scoped>\n",
              "    .dataframe tbody tr th:only-of-type {\n",
              "        vertical-align: middle;\n",
              "    }\n",
              "\n",
              "    .dataframe tbody tr th {\n",
              "        vertical-align: top;\n",
              "    }\n",
              "\n",
              "    .dataframe thead th {\n",
              "        text-align: right;\n",
              "    }\n",
              "</style>\n",
              "<table border=\"1\" class=\"dataframe\">\n",
              "  <thead>\n",
              "    <tr style=\"text-align: right;\">\n",
              "      <th></th>\n",
              "      <th></th>\n",
              "      <th>Self-defined ethnicity</th>\n",
              "    </tr>\n",
              "    <tr>\n",
              "      <th>Outcome</th>\n",
              "      <th>Removal of more than just outer clothing</th>\n",
              "      <th></th>\n",
              "    </tr>\n",
              "  </thead>\n",
              "  <tbody>\n",
              "    <tr>\n",
              "      <th rowspan=\"2\" valign=\"top\">A no further action disposal</th>\n",
              "      <th>False</th>\n",
              "      <td>10268</td>\n",
              "    </tr>\n",
              "    <tr>\n",
              "      <th>True</th>\n",
              "      <td>212</td>\n",
              "    </tr>\n",
              "    <tr>\n",
              "      <th rowspan=\"2\" valign=\"top\">Arrest</th>\n",
              "      <th>False</th>\n",
              "      <td>1349</td>\n",
              "    </tr>\n",
              "    <tr>\n",
              "      <th>True</th>\n",
              "      <td>71</td>\n",
              "    </tr>\n",
              "    <tr>\n",
              "      <th rowspan=\"2\" valign=\"top\">Caution (simple or conditional)</th>\n",
              "      <th>False</th>\n",
              "      <td>158</td>\n",
              "    </tr>\n",
              "    <tr>\n",
              "      <th>True</th>\n",
              "      <td>4</td>\n",
              "    </tr>\n",
              "    <tr>\n",
              "      <th rowspan=\"2\" valign=\"top\">Community resolution</th>\n",
              "      <th>False</th>\n",
              "      <td>656</td>\n",
              "    </tr>\n",
              "    <tr>\n",
              "      <th>True</th>\n",
              "      <td>9</td>\n",
              "    </tr>\n",
              "    <tr>\n",
              "      <th rowspan=\"2\" valign=\"top\">Khat or Cannabis warning</th>\n",
              "      <th>False</th>\n",
              "      <td>1141</td>\n",
              "    </tr>\n",
              "    <tr>\n",
              "      <th>True</th>\n",
              "      <td>29</td>\n",
              "    </tr>\n",
              "    <tr>\n",
              "      <th rowspan=\"2\" valign=\"top\">Penalty Notice for Disorder</th>\n",
              "      <th>False</th>\n",
              "      <td>3</td>\n",
              "    </tr>\n",
              "    <tr>\n",
              "      <th>True</th>\n",
              "      <td>1</td>\n",
              "    </tr>\n",
              "    <tr>\n",
              "      <th rowspan=\"2\" valign=\"top\">Summons / charged by post</th>\n",
              "      <th>False</th>\n",
              "      <td>60</td>\n",
              "    </tr>\n",
              "    <tr>\n",
              "      <th>True</th>\n",
              "      <td>4</td>\n",
              "    </tr>\n",
              "  </tbody>\n",
              "</table>\n",
              "</div>"
            ],
            "text/plain": [
              "                                                                          Self-defined ethnicity\n",
              "Outcome                         Removal of more than just outer clothing                        \n",
              "A no further action disposal    False                                                      10268\n",
              "                                True                                                         212\n",
              "Arrest                          False                                                       1349\n",
              "                                True                                                          71\n",
              "Caution (simple or conditional) False                                                        158\n",
              "                                True                                                           4\n",
              "Community resolution            False                                                        656\n",
              "                                True                                                           9\n",
              "Khat or Cannabis warning        False                                                       1141\n",
              "                                True                                                          29\n",
              "Penalty Notice for Disorder     False                                                          3\n",
              "                                True                                                           1\n",
              "Summons / charged by post       False                                                         60\n",
              "                                True                                                           4"
            ]
          },
          "metadata": {
            "tags": []
          },
          "execution_count": 60
        }
      ]
    },
    {
      "cell_type": "code",
      "metadata": {
        "colab": {
          "base_uri": "https://localhost:8080/",
          "height": 1000
        },
        "id": "PdZNui5u0qHO",
        "outputId": "9efac8d6-c777-4122-be5b-773849d3cff1"
      },
      "source": [
        "underprivileged_group_Male_1 =underprivileged_group_Male.pivot_table(values='Gender', index=['Self-defined ethnicity','Outcome'],aggfunc='count')\n",
        "underprivileged_group_Male_1"
      ],
      "execution_count": 61,
      "outputs": [
        {
          "output_type": "execute_result",
          "data": {
            "text/html": [
              "<div>\n",
              "<style scoped>\n",
              "    .dataframe tbody tr th:only-of-type {\n",
              "        vertical-align: middle;\n",
              "    }\n",
              "\n",
              "    .dataframe tbody tr th {\n",
              "        vertical-align: top;\n",
              "    }\n",
              "\n",
              "    .dataframe thead th {\n",
              "        text-align: right;\n",
              "    }\n",
              "</style>\n",
              "<table border=\"1\" class=\"dataframe\">\n",
              "  <thead>\n",
              "    <tr style=\"text-align: right;\">\n",
              "      <th></th>\n",
              "      <th></th>\n",
              "      <th>Gender</th>\n",
              "    </tr>\n",
              "    <tr>\n",
              "      <th>Self-defined ethnicity</th>\n",
              "      <th>Outcome</th>\n",
              "      <th></th>\n",
              "    </tr>\n",
              "  </thead>\n",
              "  <tbody>\n",
              "    <tr>\n",
              "      <th rowspan=\"6\" valign=\"top\">Asian</th>\n",
              "      <th>A no further action disposal</th>\n",
              "      <td>465</td>\n",
              "    </tr>\n",
              "    <tr>\n",
              "      <th>Arrest</th>\n",
              "      <td>83</td>\n",
              "    </tr>\n",
              "    <tr>\n",
              "      <th>Caution (simple or conditional)</th>\n",
              "      <td>10</td>\n",
              "    </tr>\n",
              "    <tr>\n",
              "      <th>Community resolution</th>\n",
              "      <td>19</td>\n",
              "    </tr>\n",
              "    <tr>\n",
              "      <th>Khat or Cannabis warning</th>\n",
              "      <td>64</td>\n",
              "    </tr>\n",
              "    <tr>\n",
              "      <th>Summons / charged by post</th>\n",
              "      <td>1</td>\n",
              "    </tr>\n",
              "    <tr>\n",
              "      <th rowspan=\"7\" valign=\"top\">Black</th>\n",
              "      <th>A no further action disposal</th>\n",
              "      <td>842</td>\n",
              "    </tr>\n",
              "    <tr>\n",
              "      <th>Arrest</th>\n",
              "      <td>171</td>\n",
              "    </tr>\n",
              "    <tr>\n",
              "      <th>Caution (simple or conditional)</th>\n",
              "      <td>14</td>\n",
              "    </tr>\n",
              "    <tr>\n",
              "      <th>Community resolution</th>\n",
              "      <td>46</td>\n",
              "    </tr>\n",
              "    <tr>\n",
              "      <th>Khat or Cannabis warning</th>\n",
              "      <td>102</td>\n",
              "    </tr>\n",
              "    <tr>\n",
              "      <th>Penalty Notice for Disorder</th>\n",
              "      <td>1</td>\n",
              "    </tr>\n",
              "    <tr>\n",
              "      <th>Summons / charged by post</th>\n",
              "      <td>7</td>\n",
              "    </tr>\n",
              "    <tr>\n",
              "      <th rowspan=\"6\" valign=\"top\">Mixed/Multiple ethnic groups - Any other Mixed/Multiple ethnic background</th>\n",
              "      <th>A no further action disposal</th>\n",
              "      <td>137</td>\n",
              "    </tr>\n",
              "    <tr>\n",
              "      <th>Arrest</th>\n",
              "      <td>19</td>\n",
              "    </tr>\n",
              "    <tr>\n",
              "      <th>Caution (simple or conditional)</th>\n",
              "      <td>2</td>\n",
              "    </tr>\n",
              "    <tr>\n",
              "      <th>Community resolution</th>\n",
              "      <td>11</td>\n",
              "    </tr>\n",
              "    <tr>\n",
              "      <th>Khat or Cannabis warning</th>\n",
              "      <td>11</td>\n",
              "    </tr>\n",
              "    <tr>\n",
              "      <th>Summons / charged by post</th>\n",
              "      <td>3</td>\n",
              "    </tr>\n",
              "    <tr>\n",
              "      <th rowspan=\"3\" valign=\"top\">Mixed/Multiple ethnic groups - White and Asian</th>\n",
              "      <th>A no further action disposal</th>\n",
              "      <td>22</td>\n",
              "    </tr>\n",
              "    <tr>\n",
              "      <th>Arrest</th>\n",
              "      <td>3</td>\n",
              "    </tr>\n",
              "    <tr>\n",
              "      <th>Khat or Cannabis warning</th>\n",
              "      <td>7</td>\n",
              "    </tr>\n",
              "    <tr>\n",
              "      <th rowspan=\"6\" valign=\"top\">Mixed/Multiple ethnic groups - White and Black African</th>\n",
              "      <th>A no further action disposal</th>\n",
              "      <td>30</td>\n",
              "    </tr>\n",
              "    <tr>\n",
              "      <th>Arrest</th>\n",
              "      <td>4</td>\n",
              "    </tr>\n",
              "    <tr>\n",
              "      <th>Caution (simple or conditional)</th>\n",
              "      <td>1</td>\n",
              "    </tr>\n",
              "    <tr>\n",
              "      <th>Community resolution</th>\n",
              "      <td>1</td>\n",
              "    </tr>\n",
              "    <tr>\n",
              "      <th>Khat or Cannabis warning</th>\n",
              "      <td>2</td>\n",
              "    </tr>\n",
              "    <tr>\n",
              "      <th>Summons / charged by post</th>\n",
              "      <td>1</td>\n",
              "    </tr>\n",
              "    <tr>\n",
              "      <th rowspan=\"5\" valign=\"top\">Mixed/Multiple ethnic groups - White and Black Caribbean</th>\n",
              "      <th>A no further action disposal</th>\n",
              "      <td>68</td>\n",
              "    </tr>\n",
              "    <tr>\n",
              "      <th>Arrest</th>\n",
              "      <td>17</td>\n",
              "    </tr>\n",
              "    <tr>\n",
              "      <th>Caution (simple or conditional)</th>\n",
              "      <td>2</td>\n",
              "    </tr>\n",
              "    <tr>\n",
              "      <th>Community resolution</th>\n",
              "      <td>4</td>\n",
              "    </tr>\n",
              "    <tr>\n",
              "      <th>Khat or Cannabis warning</th>\n",
              "      <td>7</td>\n",
              "    </tr>\n",
              "    <tr>\n",
              "      <th rowspan=\"6\" valign=\"top\">Other</th>\n",
              "      <th>A no further action disposal</th>\n",
              "      <td>1015</td>\n",
              "    </tr>\n",
              "    <tr>\n",
              "      <th>Arrest</th>\n",
              "      <td>96</td>\n",
              "    </tr>\n",
              "    <tr>\n",
              "      <th>Caution (simple or conditional)</th>\n",
              "      <td>4</td>\n",
              "    </tr>\n",
              "    <tr>\n",
              "      <th>Community resolution</th>\n",
              "      <td>30</td>\n",
              "    </tr>\n",
              "    <tr>\n",
              "      <th>Khat or Cannabis warning</th>\n",
              "      <td>95</td>\n",
              "    </tr>\n",
              "    <tr>\n",
              "      <th>Summons / charged by post</th>\n",
              "      <td>6</td>\n",
              "    </tr>\n",
              "    <tr>\n",
              "      <th rowspan=\"4\" valign=\"top\">Other ethnic group - Any other ethnic group</th>\n",
              "      <th>A no further action disposal</th>\n",
              "      <td>30</td>\n",
              "    </tr>\n",
              "    <tr>\n",
              "      <th>Arrest</th>\n",
              "      <td>3</td>\n",
              "    </tr>\n",
              "    <tr>\n",
              "      <th>Community resolution</th>\n",
              "      <td>2</td>\n",
              "    </tr>\n",
              "    <tr>\n",
              "      <th>Khat or Cannabis warning</th>\n",
              "      <td>3</td>\n",
              "    </tr>\n",
              "    <tr>\n",
              "      <th rowspan=\"7\" valign=\"top\">White</th>\n",
              "      <th>A no further action disposal</th>\n",
              "      <td>7871</td>\n",
              "    </tr>\n",
              "    <tr>\n",
              "      <th>Arrest</th>\n",
              "      <td>1024</td>\n",
              "    </tr>\n",
              "    <tr>\n",
              "      <th>Caution (simple or conditional)</th>\n",
              "      <td>129</td>\n",
              "    </tr>\n",
              "    <tr>\n",
              "      <th>Community resolution</th>\n",
              "      <td>552</td>\n",
              "    </tr>\n",
              "    <tr>\n",
              "      <th>Khat or Cannabis warning</th>\n",
              "      <td>879</td>\n",
              "    </tr>\n",
              "    <tr>\n",
              "      <th>Penalty Notice for Disorder</th>\n",
              "      <td>3</td>\n",
              "    </tr>\n",
              "    <tr>\n",
              "      <th>Summons / charged by post</th>\n",
              "      <td>46</td>\n",
              "    </tr>\n",
              "  </tbody>\n",
              "</table>\n",
              "</div>"
            ],
            "text/plain": [
              "                                                                                    Gender\n",
              "Self-defined ethnicity                             Outcome                                \n",
              "Asian                                              A no further action disposal        465\n",
              "                                                   Arrest                               83\n",
              "                                                   Caution (simple or conditional)      10\n",
              "                                                   Community resolution                 19\n",
              "                                                   Khat or Cannabis warning             64\n",
              "                                                   Summons / charged by post             1\n",
              "Black                                              A no further action disposal        842\n",
              "                                                   Arrest                              171\n",
              "                                                   Caution (simple or conditional)      14\n",
              "                                                   Community resolution                 46\n",
              "                                                   Khat or Cannabis warning            102\n",
              "                                                   Penalty Notice for Disorder           1\n",
              "                                                   Summons / charged by post             7\n",
              "Mixed/Multiple ethnic groups - Any other Mixed/... A no further action disposal        137\n",
              "                                                   Arrest                               19\n",
              "                                                   Caution (simple or conditional)       2\n",
              "                                                   Community resolution                 11\n",
              "                                                   Khat or Cannabis warning             11\n",
              "                                                   Summons / charged by post             3\n",
              "Mixed/Multiple ethnic groups - White and Asian     A no further action disposal         22\n",
              "                                                   Arrest                                3\n",
              "                                                   Khat or Cannabis warning              7\n",
              "Mixed/Multiple ethnic groups - White and Black ... A no further action disposal         30\n",
              "                                                   Arrest                                4\n",
              "                                                   Caution (simple or conditional)       1\n",
              "                                                   Community resolution                  1\n",
              "                                                   Khat or Cannabis warning              2\n",
              "                                                   Summons / charged by post             1\n",
              "Mixed/Multiple ethnic groups - White and Black ... A no further action disposal         68\n",
              "                                                   Arrest                               17\n",
              "                                                   Caution (simple or conditional)       2\n",
              "                                                   Community resolution                  4\n",
              "                                                   Khat or Cannabis warning              7\n",
              "Other                                              A no further action disposal       1015\n",
              "                                                   Arrest                               96\n",
              "                                                   Caution (simple or conditional)       4\n",
              "                                                   Community resolution                 30\n",
              "                                                   Khat or Cannabis warning             95\n",
              "                                                   Summons / charged by post             6\n",
              "Other ethnic group - Any other ethnic group        A no further action disposal         30\n",
              "                                                   Arrest                                3\n",
              "                                                   Community resolution                  2\n",
              "                                                   Khat or Cannabis warning              3\n",
              "White                                              A no further action disposal       7871\n",
              "                                                   Arrest                             1024\n",
              "                                                   Caution (simple or conditional)     129\n",
              "                                                   Community resolution                552\n",
              "                                                   Khat or Cannabis warning            879\n",
              "                                                   Penalty Notice for Disorder           3\n",
              "                                                   Summons / charged by post            46"
            ]
          },
          "metadata": {
            "tags": []
          },
          "execution_count": 61
        }
      ]
    },
    {
      "cell_type": "code",
      "metadata": {
        "colab": {
          "base_uri": "https://localhost:8080/",
          "height": 514
        },
        "id": "fmiP6Hi10qHO",
        "outputId": "211e9b0e-b9fd-404e-8cd4-b60523bf2944"
      },
      "source": [
        "underprivileged_group_Male_1 =underprivileged_group_Male.pivot_table(values='Self-defined ethnicity', index=['Gender','Outcome','Removal of more than just outer clothing'],aggfunc='count')\n",
        "underprivileged_group_Male_1"
      ],
      "execution_count": 62,
      "outputs": [
        {
          "output_type": "execute_result",
          "data": {
            "text/html": [
              "<div>\n",
              "<style scoped>\n",
              "    .dataframe tbody tr th:only-of-type {\n",
              "        vertical-align: middle;\n",
              "    }\n",
              "\n",
              "    .dataframe tbody tr th {\n",
              "        vertical-align: top;\n",
              "    }\n",
              "\n",
              "    .dataframe thead th {\n",
              "        text-align: right;\n",
              "    }\n",
              "</style>\n",
              "<table border=\"1\" class=\"dataframe\">\n",
              "  <thead>\n",
              "    <tr style=\"text-align: right;\">\n",
              "      <th></th>\n",
              "      <th></th>\n",
              "      <th></th>\n",
              "      <th>Self-defined ethnicity</th>\n",
              "    </tr>\n",
              "    <tr>\n",
              "      <th>Gender</th>\n",
              "      <th>Outcome</th>\n",
              "      <th>Removal of more than just outer clothing</th>\n",
              "      <th></th>\n",
              "    </tr>\n",
              "  </thead>\n",
              "  <tbody>\n",
              "    <tr>\n",
              "      <th rowspan=\"14\" valign=\"top\">Male</th>\n",
              "      <th rowspan=\"2\" valign=\"top\">A no further action disposal</th>\n",
              "      <th>False</th>\n",
              "      <td>10268</td>\n",
              "    </tr>\n",
              "    <tr>\n",
              "      <th>True</th>\n",
              "      <td>212</td>\n",
              "    </tr>\n",
              "    <tr>\n",
              "      <th rowspan=\"2\" valign=\"top\">Arrest</th>\n",
              "      <th>False</th>\n",
              "      <td>1349</td>\n",
              "    </tr>\n",
              "    <tr>\n",
              "      <th>True</th>\n",
              "      <td>71</td>\n",
              "    </tr>\n",
              "    <tr>\n",
              "      <th rowspan=\"2\" valign=\"top\">Caution (simple or conditional)</th>\n",
              "      <th>False</th>\n",
              "      <td>158</td>\n",
              "    </tr>\n",
              "    <tr>\n",
              "      <th>True</th>\n",
              "      <td>4</td>\n",
              "    </tr>\n",
              "    <tr>\n",
              "      <th rowspan=\"2\" valign=\"top\">Community resolution</th>\n",
              "      <th>False</th>\n",
              "      <td>656</td>\n",
              "    </tr>\n",
              "    <tr>\n",
              "      <th>True</th>\n",
              "      <td>9</td>\n",
              "    </tr>\n",
              "    <tr>\n",
              "      <th rowspan=\"2\" valign=\"top\">Khat or Cannabis warning</th>\n",
              "      <th>False</th>\n",
              "      <td>1141</td>\n",
              "    </tr>\n",
              "    <tr>\n",
              "      <th>True</th>\n",
              "      <td>29</td>\n",
              "    </tr>\n",
              "    <tr>\n",
              "      <th rowspan=\"2\" valign=\"top\">Penalty Notice for Disorder</th>\n",
              "      <th>False</th>\n",
              "      <td>3</td>\n",
              "    </tr>\n",
              "    <tr>\n",
              "      <th>True</th>\n",
              "      <td>1</td>\n",
              "    </tr>\n",
              "    <tr>\n",
              "      <th rowspan=\"2\" valign=\"top\">Summons / charged by post</th>\n",
              "      <th>False</th>\n",
              "      <td>60</td>\n",
              "    </tr>\n",
              "    <tr>\n",
              "      <th>True</th>\n",
              "      <td>4</td>\n",
              "    </tr>\n",
              "  </tbody>\n",
              "</table>\n",
              "</div>"
            ],
            "text/plain": [
              "                                                                                 Self-defined ethnicity\n",
              "Gender Outcome                         Removal of more than just outer clothing                        \n",
              "Male   A no further action disposal    False                                                      10268\n",
              "                                       True                                                         212\n",
              "       Arrest                          False                                                       1349\n",
              "                                       True                                                          71\n",
              "       Caution (simple or conditional) False                                                        158\n",
              "                                       True                                                           4\n",
              "       Community resolution            False                                                        656\n",
              "                                       True                                                           9\n",
              "       Khat or Cannabis warning        False                                                       1141\n",
              "                                       True                                                          29\n",
              "       Penalty Notice for Disorder     False                                                          3\n",
              "                                       True                                                           1\n",
              "       Summons / charged by post       False                                                         60\n",
              "                                       True                                                           4"
            ]
          },
          "metadata": {
            "tags": []
          },
          "execution_count": 62
        }
      ]
    },
    {
      "cell_type": "code",
      "metadata": {
        "colab": {
          "base_uri": "https://localhost:8080/",
          "height": 359
        },
        "id": "mldoDlhA0qHP",
        "outputId": "729af156-6b54-485b-8a48-2fd967f64256"
      },
      "source": [
        "underprivileged_group_Male_1 =underprivileged_group_Male.pivot_table(values='Outcome', index=['Self-defined ethnicity'],aggfunc='count')\n",
        "underprivileged_group_Male_1"
      ],
      "execution_count": 63,
      "outputs": [
        {
          "output_type": "execute_result",
          "data": {
            "text/html": [
              "<div>\n",
              "<style scoped>\n",
              "    .dataframe tbody tr th:only-of-type {\n",
              "        vertical-align: middle;\n",
              "    }\n",
              "\n",
              "    .dataframe tbody tr th {\n",
              "        vertical-align: top;\n",
              "    }\n",
              "\n",
              "    .dataframe thead th {\n",
              "        text-align: right;\n",
              "    }\n",
              "</style>\n",
              "<table border=\"1\" class=\"dataframe\">\n",
              "  <thead>\n",
              "    <tr style=\"text-align: right;\">\n",
              "      <th></th>\n",
              "      <th>Outcome</th>\n",
              "    </tr>\n",
              "    <tr>\n",
              "      <th>Self-defined ethnicity</th>\n",
              "      <th></th>\n",
              "    </tr>\n",
              "  </thead>\n",
              "  <tbody>\n",
              "    <tr>\n",
              "      <th>Asian</th>\n",
              "      <td>642</td>\n",
              "    </tr>\n",
              "    <tr>\n",
              "      <th>Black</th>\n",
              "      <td>1183</td>\n",
              "    </tr>\n",
              "    <tr>\n",
              "      <th>Mixed/Multiple ethnic groups - Any other Mixed/Multiple ethnic background</th>\n",
              "      <td>183</td>\n",
              "    </tr>\n",
              "    <tr>\n",
              "      <th>Mixed/Multiple ethnic groups - White and Asian</th>\n",
              "      <td>32</td>\n",
              "    </tr>\n",
              "    <tr>\n",
              "      <th>Mixed/Multiple ethnic groups - White and Black African</th>\n",
              "      <td>39</td>\n",
              "    </tr>\n",
              "    <tr>\n",
              "      <th>Mixed/Multiple ethnic groups - White and Black Caribbean</th>\n",
              "      <td>98</td>\n",
              "    </tr>\n",
              "    <tr>\n",
              "      <th>Other</th>\n",
              "      <td>1246</td>\n",
              "    </tr>\n",
              "    <tr>\n",
              "      <th>Other ethnic group - Any other ethnic group</th>\n",
              "      <td>38</td>\n",
              "    </tr>\n",
              "    <tr>\n",
              "      <th>White</th>\n",
              "      <td>10504</td>\n",
              "    </tr>\n",
              "  </tbody>\n",
              "</table>\n",
              "</div>"
            ],
            "text/plain": [
              "                                                    Outcome\n",
              "Self-defined ethnicity                                     \n",
              "Asian                                                   642\n",
              "Black                                                  1183\n",
              "Mixed/Multiple ethnic groups - Any other Mixed/...      183\n",
              "Mixed/Multiple ethnic groups - White and Asian           32\n",
              "Mixed/Multiple ethnic groups - White and Black ...       39\n",
              "Mixed/Multiple ethnic groups - White and Black ...       98\n",
              "Other                                                  1246\n",
              "Other ethnic group - Any other ethnic group              38\n",
              "White                                                 10504"
            ]
          },
          "metadata": {
            "tags": []
          },
          "execution_count": 63
        }
      ]
    },
    {
      "cell_type": "markdown",
      "metadata": {
        "id": "C_PV2DyX0qHQ"
      },
      "source": [
        "## Conclusion\n",
        "\n",
        "1. Police has larger group of Whites Male as compare to other Race and Gender.\n",
        "2. Police do a lot Clothes removal search even for Female gender, when they even dont find anything on them.\n",
        "3. Most of the arrests are made for the people with Black race, they are even fined by white officers.\n",
        "4. Illegal substance are most of the time is found with people Black/Asian Ethenticity."
      ]
    }
  ]
}