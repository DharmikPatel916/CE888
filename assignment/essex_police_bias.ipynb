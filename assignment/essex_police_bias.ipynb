{
  "nbformat": 4,
  "nbformat_minor": 0,
  "metadata": {
    "colab": {
      "name": "essex_police_bais.ipynb",
      "provenance": [],
      "collapsed_sections": [],
      "authorship_tag": "ABX9TyMBw4A42fNI5YogHlEotoZn",
      "include_colab_link": true
    },
    "kernelspec": {
      "name": "python3",
      "display_name": "Python 3"
    }
  },
  "cells": [
    {
      "cell_type": "markdown",
      "metadata": {
        "id": "view-in-github",
        "colab_type": "text"
      },
      "source": [
        "<a href=\"https://colab.research.google.com/github/DharmikPatel916/CE888/blob/main/assignment/essex_police_bias.ipynb\" target=\"_parent\"><img src=\"https://colab.research.google.com/assets/colab-badge.svg\" alt=\"Open In Colab\"/></a>"
      ]
    },
    {
      "cell_type": "code",
      "metadata": {
        "id": "4J6xPV-eGoSb"
      },
      "source": [
        "import numpy as np\n",
        "import pandas as pd\n",
        "from google.colab import drive\n",
        "from sklearn.preprocessing import LabelEncoder\n",
        "import warnings\n",
        "warnings.filterwarnings(\"ignore\")"
      ],
      "execution_count": 5,
      "outputs": []
    },
    {
      "cell_type": "code",
      "metadata": {
        "colab": {
          "base_uri": "https://localhost:8080/"
        },
        "id": "CzHdxke6kq6Z",
        "outputId": "a502ee2a-c937-4cae-e589-4461aad6734a"
      },
      "source": [
        "#drive mount\n",
        "drive.mount('/content/drive')"
      ],
      "execution_count": 6,
      "outputs": [
        {
          "output_type": "stream",
          "text": [
            "Drive already mounted at /content/drive; to attempt to forcibly remount, call drive.mount(\"/content/drive\", force_remount=True).\n"
          ],
          "name": "stdout"
        }
      ]
    },
    {
      "cell_type": "code",
      "metadata": {
        "colab": {
          "base_uri": "https://localhost:8080/",
          "height": 581
        },
        "id": "f8LGQGPXG9fU",
        "outputId": "11a488e5-c20e-40da-9a39-2ac08fa597a1"
      },
      "source": [
        "#Load the Data\n",
        "\n",
        "essex20_1 = pd.read_csv('/content/drive/MyDrive/Essex Police Data/2020-01/2020-01-essex-stop-and-search.csv')\n",
        "essex20_2 = pd.read_csv('/content/drive/MyDrive/Essex Police Data/2020-02/2020-02-essex-stop-and-search.csv')\n",
        "essex20_3 = pd.read_csv('/content/drive/MyDrive/Essex Police Data/2020-03/2020-03-essex-stop-and-search.csv')\n",
        "essex20_4 = pd.read_csv('/content/drive/MyDrive/Essex Police Data/2020-04/2020-04-essex-stop-and-search.csv')\n",
        "essex20_5 = pd.read_csv('/content/drive/MyDrive/Essex Police Data/2020-05/2020-05-essex-stop-and-search.csv')\n",
        "essex20_6 = pd.read_csv('/content/drive/MyDrive/Essex Police Data/2020-06/2020-06-essex-stop-and-search.csv')\n",
        "essex20_7 = pd.read_csv('/content/drive/MyDrive/Essex Police Data/2020-07/2020-07-essex-stop-and-search.csv')\n",
        "essex20_8 = pd.read_csv('/content/drive/MyDrive/Essex Police Data/2020-08/2020-08-essex-stop-and-search.csv')\n",
        "essex20_9 = pd.read_csv('/content/drive/MyDrive/Essex Police Data/2020-09/2020-09-essex-stop-and-search.csv')\n",
        "essex20_10 = pd.read_csv('/content/drive/MyDrive/Essex Police Data/2020-10/2020-10-essex-stop-and-search.csv')\n",
        "essex20_11 = pd.read_csv('/content/drive/MyDrive/Essex Police Data/2020-11/2020-11-essex-stop-and-search.csv')\n",
        "essex20_12 = pd.read_csv('/content/drive/MyDrive/Essex Police Data/2020-12/2020-12-essex-stop-and-search.csv')\n",
        "\n",
        "#select the date format\n",
        "essex20_1[\"Date\"] = \"2020-01\"\n",
        "essex20_2[\"Date\"] = \"2020-02\"\n",
        "essex20_3[\"Date\"] = \"2020-03\"\n",
        "essex20_4[\"Date\"] = \"2020-04\"\n",
        "essex20_5[\"Date\"] = \"2020-05\"\n",
        "essex20_6[\"Date\"] = \"2020-06\"\n",
        "essex20_7[\"Date\"] = \"2020-07\"\n",
        "essex20_8[\"Date\"] = \"2020-08\"\n",
        "essex20_9[\"Date\"] = \"2020-09\"\n",
        "essex20_10[\"Date\"] = \"2020-11\"\n",
        "essex20_11[\"Date\"] = \"2020-11\"\n",
        "essex20_12[\"Date\"] = \"2020-12\"\n",
        "\n",
        "essex2020 = pd.concat([essex20_1,essex20_2,essex20_3,essex20_4,essex20_5,essex20_6,essex20_7,essex20_8,essex20_9,essex20_10,essex20_11,essex20_12])\n",
        "essex = pd.concat([essex2020])\n",
        "essex[\"City\"] = \"Colchester\"\n",
        "essex= pd.DataFrame(essex)\n",
        "essex.head()"
      ],
      "execution_count": 7,
      "outputs": [
        {
          "output_type": "execute_result",
          "data": {
            "text/html": [
              "<div>\n",
              "<style scoped>\n",
              "    .dataframe tbody tr th:only-of-type {\n",
              "        vertical-align: middle;\n",
              "    }\n",
              "\n",
              "    .dataframe tbody tr th {\n",
              "        vertical-align: top;\n",
              "    }\n",
              "\n",
              "    .dataframe thead th {\n",
              "        text-align: right;\n",
              "    }\n",
              "</style>\n",
              "<table border=\"1\" class=\"dataframe\">\n",
              "  <thead>\n",
              "    <tr style=\"text-align: right;\">\n",
              "      <th></th>\n",
              "      <th>Type</th>\n",
              "      <th>Date</th>\n",
              "      <th>Part of a policing operation</th>\n",
              "      <th>Policing operation</th>\n",
              "      <th>Latitude</th>\n",
              "      <th>Longitude</th>\n",
              "      <th>Gender</th>\n",
              "      <th>Age range</th>\n",
              "      <th>Self-defined ethnicity</th>\n",
              "      <th>Officer-defined ethnicity</th>\n",
              "      <th>Legislation</th>\n",
              "      <th>Object of search</th>\n",
              "      <th>Outcome</th>\n",
              "      <th>Outcome linked to object of search</th>\n",
              "      <th>Removal of more than just outer clothing</th>\n",
              "      <th>City</th>\n",
              "    </tr>\n",
              "  </thead>\n",
              "  <tbody>\n",
              "    <tr>\n",
              "      <th>0</th>\n",
              "      <td>Person search</td>\n",
              "      <td>2020-01</td>\n",
              "      <td>False</td>\n",
              "      <td>NaN</td>\n",
              "      <td>51.842625</td>\n",
              "      <td>0.785231</td>\n",
              "      <td>Male</td>\n",
              "      <td>10-17</td>\n",
              "      <td>White - English/Welsh/Scottish/Northern Irish/...</td>\n",
              "      <td>White</td>\n",
              "      <td>Misuse of Drugs Act 1971 (section 23)</td>\n",
              "      <td>Controlled drugs</td>\n",
              "      <td>Community resolution</td>\n",
              "      <td>1.0</td>\n",
              "      <td>False</td>\n",
              "      <td>Colchester</td>\n",
              "    </tr>\n",
              "    <tr>\n",
              "      <th>1</th>\n",
              "      <td>Person search</td>\n",
              "      <td>2020-01</td>\n",
              "      <td>False</td>\n",
              "      <td>NaN</td>\n",
              "      <td>51.842625</td>\n",
              "      <td>0.785231</td>\n",
              "      <td>Male</td>\n",
              "      <td>10-17</td>\n",
              "      <td>White - English/Welsh/Scottish/Northern Irish/...</td>\n",
              "      <td>White</td>\n",
              "      <td>Misuse of Drugs Act 1971 (section 23)</td>\n",
              "      <td>Controlled drugs</td>\n",
              "      <td>Community resolution</td>\n",
              "      <td>1.0</td>\n",
              "      <td>False</td>\n",
              "      <td>Colchester</td>\n",
              "    </tr>\n",
              "    <tr>\n",
              "      <th>2</th>\n",
              "      <td>Person search</td>\n",
              "      <td>2020-01</td>\n",
              "      <td>False</td>\n",
              "      <td>NaN</td>\n",
              "      <td>51.842625</td>\n",
              "      <td>0.785231</td>\n",
              "      <td>Male</td>\n",
              "      <td>10-17</td>\n",
              "      <td>White - English/Welsh/Scottish/Northern Irish/...</td>\n",
              "      <td>White</td>\n",
              "      <td>Misuse of Drugs Act 1971 (section 23)</td>\n",
              "      <td>Controlled drugs</td>\n",
              "      <td>Community resolution</td>\n",
              "      <td>1.0</td>\n",
              "      <td>False</td>\n",
              "      <td>Colchester</td>\n",
              "    </tr>\n",
              "    <tr>\n",
              "      <th>3</th>\n",
              "      <td>Vehicle search</td>\n",
              "      <td>2020-01</td>\n",
              "      <td>False</td>\n",
              "      <td>NaN</td>\n",
              "      <td>51.842625</td>\n",
              "      <td>0.785231</td>\n",
              "      <td>NaN</td>\n",
              "      <td>NaN</td>\n",
              "      <td>NaN</td>\n",
              "      <td>NaN</td>\n",
              "      <td>Misuse of Drugs Act 1971 (section 23)</td>\n",
              "      <td>Controlled drugs</td>\n",
              "      <td>Community resolution</td>\n",
              "      <td>1.0</td>\n",
              "      <td>NaN</td>\n",
              "      <td>Colchester</td>\n",
              "    </tr>\n",
              "    <tr>\n",
              "      <th>4</th>\n",
              "      <td>Person search</td>\n",
              "      <td>2020-01</td>\n",
              "      <td>False</td>\n",
              "      <td>NaN</td>\n",
              "      <td>51.537024</td>\n",
              "      <td>0.686069</td>\n",
              "      <td>Male</td>\n",
              "      <td>over 34</td>\n",
              "      <td>White - Any other White background</td>\n",
              "      <td>White</td>\n",
              "      <td>Police and Criminal Evidence Act 1984 (section 1)</td>\n",
              "      <td>Stolen goods</td>\n",
              "      <td>NaN</td>\n",
              "      <td>1.0</td>\n",
              "      <td>False</td>\n",
              "      <td>Colchester</td>\n",
              "    </tr>\n",
              "  </tbody>\n",
              "</table>\n",
              "</div>"
            ],
            "text/plain": [
              "             Type     Date  ...  Removal of more than just outer clothing        City\n",
              "0   Person search  2020-01  ...                                     False  Colchester\n",
              "1   Person search  2020-01  ...                                     False  Colchester\n",
              "2   Person search  2020-01  ...                                     False  Colchester\n",
              "3  Vehicle search  2020-01  ...                                       NaN  Colchester\n",
              "4   Person search  2020-01  ...                                     False  Colchester\n",
              "\n",
              "[5 rows x 16 columns]"
            ]
          },
          "metadata": {
            "tags": []
          },
          "execution_count": 7
        }
      ]
    },
    {
      "cell_type": "code",
      "metadata": {
        "colab": {
          "base_uri": "https://localhost:8080/",
          "height": 391
        },
        "id": "o8bCekocM_Gh",
        "outputId": "b0f39b78-418d-48eb-851d-2a8422710218"
      },
      "source": [
        "#Getting subset and remove nan row\n",
        "df= pd.concat([essex])\n",
        "new = df[['Type','Date','City','Officer-defined ethnicity','Self-defined ethnicity','Gender','Age range','Removal of more than just outer clothing','Outcome']]\n",
        "new_df = new.dropna()\n",
        "new_df = new_df.reset_index(drop=True)\n",
        "new_df.head()"
      ],
      "execution_count": 13,
      "outputs": [
        {
          "output_type": "execute_result",
          "data": {
            "text/html": [
              "<div>\n",
              "<style scoped>\n",
              "    .dataframe tbody tr th:only-of-type {\n",
              "        vertical-align: middle;\n",
              "    }\n",
              "\n",
              "    .dataframe tbody tr th {\n",
              "        vertical-align: top;\n",
              "    }\n",
              "\n",
              "    .dataframe thead th {\n",
              "        text-align: right;\n",
              "    }\n",
              "</style>\n",
              "<table border=\"1\" class=\"dataframe\">\n",
              "  <thead>\n",
              "    <tr style=\"text-align: right;\">\n",
              "      <th></th>\n",
              "      <th>Type</th>\n",
              "      <th>Date</th>\n",
              "      <th>City</th>\n",
              "      <th>Officer-defined ethnicity</th>\n",
              "      <th>Self-defined ethnicity</th>\n",
              "      <th>Gender</th>\n",
              "      <th>Age range</th>\n",
              "      <th>Removal of more than just outer clothing</th>\n",
              "      <th>Outcome</th>\n",
              "    </tr>\n",
              "  </thead>\n",
              "  <tbody>\n",
              "    <tr>\n",
              "      <th>0</th>\n",
              "      <td>Person search</td>\n",
              "      <td>2020-01</td>\n",
              "      <td>Colchester</td>\n",
              "      <td>White</td>\n",
              "      <td>White - English/Welsh/Scottish/Northern Irish/...</td>\n",
              "      <td>Male</td>\n",
              "      <td>10-17</td>\n",
              "      <td>False</td>\n",
              "      <td>Community resolution</td>\n",
              "    </tr>\n",
              "    <tr>\n",
              "      <th>1</th>\n",
              "      <td>Person search</td>\n",
              "      <td>2020-01</td>\n",
              "      <td>Colchester</td>\n",
              "      <td>White</td>\n",
              "      <td>White - English/Welsh/Scottish/Northern Irish/...</td>\n",
              "      <td>Male</td>\n",
              "      <td>10-17</td>\n",
              "      <td>False</td>\n",
              "      <td>Community resolution</td>\n",
              "    </tr>\n",
              "    <tr>\n",
              "      <th>2</th>\n",
              "      <td>Person search</td>\n",
              "      <td>2020-01</td>\n",
              "      <td>Colchester</td>\n",
              "      <td>White</td>\n",
              "      <td>White - English/Welsh/Scottish/Northern Irish/...</td>\n",
              "      <td>Male</td>\n",
              "      <td>10-17</td>\n",
              "      <td>False</td>\n",
              "      <td>Community resolution</td>\n",
              "    </tr>\n",
              "    <tr>\n",
              "      <th>3</th>\n",
              "      <td>Person search</td>\n",
              "      <td>2020-01</td>\n",
              "      <td>Colchester</td>\n",
              "      <td>White</td>\n",
              "      <td>White - English/Welsh/Scottish/Northern Irish/...</td>\n",
              "      <td>Male</td>\n",
              "      <td>18-24</td>\n",
              "      <td>False</td>\n",
              "      <td>Khat or Cannabis warning</td>\n",
              "    </tr>\n",
              "    <tr>\n",
              "      <th>4</th>\n",
              "      <td>Person search</td>\n",
              "      <td>2020-01</td>\n",
              "      <td>Colchester</td>\n",
              "      <td>White</td>\n",
              "      <td>White - English/Welsh/Scottish/Northern Irish/...</td>\n",
              "      <td>Male</td>\n",
              "      <td>25-34</td>\n",
              "      <td>False</td>\n",
              "      <td>Khat or Cannabis warning</td>\n",
              "    </tr>\n",
              "  </tbody>\n",
              "</table>\n",
              "</div>"
            ],
            "text/plain": [
              "            Type  ...                   Outcome\n",
              "0  Person search  ...      Community resolution\n",
              "1  Person search  ...      Community resolution\n",
              "2  Person search  ...      Community resolution\n",
              "3  Person search  ...  Khat or Cannabis warning\n",
              "4  Person search  ...  Khat or Cannabis warning\n",
              "\n",
              "[5 rows x 9 columns]"
            ]
          },
          "metadata": {
            "tags": []
          },
          "execution_count": 13
        }
      ]
    },
    {
      "cell_type": "code",
      "metadata": {
        "colab": {
          "base_uri": "https://localhost:8080/"
        },
        "id": "r66sjYhkPOFp",
        "outputId": "6fab6b43-293e-48a6-b473-5840b7b38570"
      },
      "source": [
        "#shape of New data\n",
        "new_df.shape"
      ],
      "execution_count": 14,
      "outputs": [
        {
          "output_type": "execute_result",
          "data": {
            "text/plain": [
              "(15872, 9)"
            ]
          },
          "metadata": {
            "tags": []
          },
          "execution_count": 14
        }
      ]
    },
    {
      "cell_type": "markdown",
      "metadata": {
        "id": "eNp1dZEAQH2s"
      },
      "source": [
        "Data Transformation and Sensitive Features:"
      ]
    },
    {
      "cell_type": "code",
      "metadata": {
        "colab": {
          "base_uri": "https://localhost:8080/"
        },
        "id": "Ux7t-9LAP_j0",
        "outputId": "193fcdd8-453d-47d8-b219-88872faa4f87"
      },
      "source": [
        "#By Age\n",
        "df['Age range'].value_counts()"
      ],
      "execution_count": 15,
      "outputs": [
        {
          "output_type": "execute_result",
          "data": {
            "text/plain": [
              "18-24       7852\n",
              "25-34       4284\n",
              "10-17       4275\n",
              "over 34     3427\n",
              "under 10       3\n",
              "Name: Age range, dtype: int64"
            ]
          },
          "metadata": {
            "tags": []
          },
          "execution_count": 15
        }
      ]
    },
    {
      "cell_type": "code",
      "metadata": {
        "colab": {
          "base_uri": "https://localhost:8080/"
        },
        "id": "_I_rBjqfQSrn",
        "outputId": "45794be3-994b-4047-fd61-9becc0b4fa03"
      },
      "source": [
        "#Stops By Race\n",
        "df[\"Officer-defined ethnicity\"].value_counts()"
      ],
      "execution_count": 16,
      "outputs": [
        {
          "output_type": "execute_result",
          "data": {
            "text/plain": [
              "White    16651\n",
              "Black     2024\n",
              "Asian     1037\n",
              "Other      726\n",
              "Mixed      107\n",
              "Name: Officer-defined ethnicity, dtype: int64"
            ]
          },
          "metadata": {
            "tags": []
          },
          "execution_count": 16
        }
      ]
    },
    {
      "cell_type": "code",
      "metadata": {
        "colab": {
          "base_uri": "https://localhost:8080/"
        },
        "id": "ikQF3flPQk7O",
        "outputId": "e1d5862a-c3d4-4293-e654-b75fe96d214d"
      },
      "source": [
        "#Stops By Gender\n",
        "df[\"Gender\"].value_counts()"
      ],
      "execution_count": 17,
      "outputs": [
        {
          "output_type": "execute_result",
          "data": {
            "text/plain": [
              "Male      18212\n",
              "Female     2473\n",
              "Other        12\n",
              "Name: Gender, dtype: int64"
            ]
          },
          "metadata": {
            "tags": []
          },
          "execution_count": 17
        }
      ]
    },
    {
      "cell_type": "code",
      "metadata": {
        "colab": {
          "base_uri": "https://localhost:8080/"
        },
        "id": "wqMOBWtCQr0p",
        "outputId": "fee091b2-2301-4a83-dfe8-ac9326e8d1f9"
      },
      "source": [
        "#frequency distribution of categorical data\n",
        "new_df['Self-defined ethnicity'].value_counts()"
      ],
      "execution_count": 18,
      "outputs": [
        {
          "output_type": "execute_result",
          "data": {
            "text/plain": [
              "White - English/Welsh/Scottish/Northern Irish/British                                   11278\n",
              "Other ethnic group - Not stated                                                          1378\n",
              "White - Any other White background                                                        732\n",
              "Black/African/Caribbean/Black British - African                                           524\n",
              "Black/African/Caribbean/Black British - Any other Black/African/Caribbean background      468\n",
              "Asian/Asian British - Any other Asian background                                          414\n",
              "Black/African/Caribbean/Black British - Caribbean                                         284\n",
              "Mixed/Multiple ethnic groups - Any other Mixed/Multiple ethnic background                 212\n",
              "Mixed/Multiple ethnic groups - White and Black Caribbean                                  118\n",
              "Asian/Asian British - Pakistani                                                            92\n",
              "Asian/Asian British - Indian                                                               84\n",
              "White - Irish                                                                              83\n",
              "Asian/Asian British - Bangladeshi                                                          68\n",
              "Other ethnic group - Any other ethnic group                                                43\n",
              "Mixed/Multiple ethnic groups - White and Black African                                     43\n",
              "Mixed/Multiple ethnic groups - White and Asian                                             37\n",
              "Asian/Asian British - Chinese                                                              14\n",
              "Name: Self-defined ethnicity, dtype: int64"
            ]
          },
          "metadata": {
            "tags": []
          },
          "execution_count": 18
        }
      ]
    },
    {
      "cell_type": "markdown",
      "metadata": {
        "id": "IPaZTg45Rjld"
      },
      "source": [
        "Data visualization and pre-processing:"
      ]
    },
    {
      "cell_type": "code",
      "metadata": {
        "colab": {
          "base_uri": "https://localhost:8080/",
          "height": 488
        },
        "id": "Dp-FQcr9RkiZ",
        "outputId": "bec64502-3259-4ace-8618-78758f9f489d"
      },
      "source": [
        "ax = new_df['Gender'].value_counts().plot(kind='bar', figsize=(10,7));\n",
        "ax.set_title(\"Frequency Distribution of Police Officers\", fontsize=12)\n",
        "ax.set_ylabel('Number of Occurrences in policing', fontsize=12)\n",
        "ax.set_xlabel('Police', fontsize=12)\n",
        "\n",
        "y = []\n",
        "\n",
        "# find the values and append to list\n",
        "for i in ax.patches:\n",
        "    y.append(i.get_height())\n",
        "\n",
        "# set individual bar lables using above list\n",
        "y = sum(y)"
      ],
      "execution_count": 19,
      "outputs": [
        {
          "output_type": "display_data",
          "data": {
            "image/png": "[encoded data removed]",
            "text/plain": [
              "<Figure size 720x504 with 1 Axes>"
            ]
          },
          "metadata": {
            "tags": [],
            "needs_background": "light"
          }
        }
      ]
    },
    {
      "cell_type": "code",
      "metadata": {
        "colab": {
          "base_uri": "https://localhost:8080/",
          "height": 497
        },
        "id": "jRmT80i4SMhI",
        "outputId": "0e01bb04-99bd-4fa6-a82b-e9181336310c"
      },
      "source": [
        "ax = new_df['Age range'].value_counts().plot(kind='bar', figsize=(10,7));\n",
        "\n",
        "ax.set_title(\"Frequency Distribution of Police Officers\", fontsize=12)\n",
        "ax.set_ylabel('Number of Occurrences in policing', fontsize=12)\n",
        "ax.set_xlabel('Police', fontsize=12)\n",
        "\n",
        "y = []\n",
        "\n",
        "# find the values and append to list\n",
        "for i in ax.patches:\n",
        "    y.append(i.get_height())\n",
        "\n",
        "# set individual bar lables using above list\n",
        "y = sum(y)"
      ],
      "execution_count": 20,
      "outputs": [
        {
          "output_type": "display_data",
          "data": {
            "image/png": "[encoded data removed]",
            "text/plain": [
              "<Figure size 720x504 with 1 Axes>"
            ]
          },
          "metadata": {
            "tags": [],
            "needs_background": "light"
          }
        }
      ]
    },
    {
      "cell_type": "code",
      "metadata": {
        "id": "_ZeQFKQQSahQ"
      },
      "source": [
        "ax = new_df['Officer-defined ethnicity'].value_counts().plot(kind='bar', figsize=(10,7));\n",
        "ax.set_title(\"Frequency Distribution of Police Officers\", fontsize=12)\n",
        "ax.set_ylabel('Number of Occurrences in policing', fontsize=12)\n",
        "ax.set_xlabel('Police', fontsize=12)\n",
        "\n",
        "y = []\n",
        "\n",
        "# find the values and append to list\n",
        "for i in ax.patches:\n",
        "    y.append(i.get_height())\n",
        "\n",
        "# set individual bar lables using above list\n",
        "y = sum(y)"
      ],
      "execution_count": null,
      "outputs": []
    },
    {
      "cell_type": "code",
      "metadata": {
        "colab": {
          "base_uri": "https://localhost:8080/",
          "height": 477
        },
        "id": "TlredavrS1B-",
        "outputId": "bca80282-648f-45fd-b361-e0de7fa90950"
      },
      "source": [
        "bx = new_df['Removal of more than just outer clothing'].value_counts().plot(kind='bar', figsize=(10,7));\n",
        "bx.set_title(\"Frequency Distribution of Arrests\", fontsize=12)\n",
        "bx.set_ylabel('Number of Occurrences in policing', fontsize=12)\n",
        "bx.set_xlabel('Arrests', fontsize=12)\n",
        "\n",
        "\n",
        "y = []\n",
        "\n",
        "# find the values and append to list\n",
        "for i in bx.patches:\n",
        "    y.append(i.get_height())\n",
        "\n",
        "# set individual bar lables using above list\n",
        "y = sum(y)"
      ],
      "execution_count": 22,
      "outputs": [
        {
          "output_type": "display_data",
          "data": {
            "image/png": "[encoded data removed]",
            "text/plain": [
              "<Figure size 720x504 with 1 Axes>"
            ]
          },
          "metadata": {
            "tags": [],
            "needs_background": "light"
          }
        }
      ]
    },
    {
      "cell_type": "code",
      "metadata": {
        "colab": {
          "base_uri": "https://localhost:8080/"
        },
        "id": "bvwndqG0TFDW",
        "outputId": "7c06b6cd-6a57-4cd0-dc72-a7725480f3ec"
      },
      "source": [
        "# set individual bar lables using above list\n",
        "print(\"percentage of while, black , asian and other police:\")\n",
        "for i in ax.patches:\n",
        "    # get_x pulls left or right; get_height pushes up or down\n",
        "    a = str(round((i.get_height()/y)*100, 2))\n",
        "    print(a)"
      ],
      "execution_count": 24,
      "outputs": [
        {
          "output_type": "stream",
          "text": [
            "percentage of while, black , asian and other police:\n",
            "81.79\n",
            "9.53\n",
            "4.92\n",
            "3.77\n"
          ],
          "name": "stdout"
        }
      ]
    },
    {
      "cell_type": "code",
      "metadata": {
        "colab": {
          "base_uri": "https://localhost:8080/",
          "height": 881
        },
        "id": "NIRcjcBeTMP8",
        "outputId": "c29f3ccc-dd83-4ee3-be8e-d46f369cb7f0"
      },
      "source": [
        "cx = new_df['Self-defined ethnicity'].value_counts().plot(kind='bar', figsize=(10,7));\n",
        "cx.set_alpha(0.8)\n",
        "cx.set_title(\"Arrests\", fontsize=12)\n",
        "cx.set_ylabel('Ethnicity of people who was searched', fontsize=12)\n",
        "cx.set_xlabel('Number of search', fontsize=12)\n",
        "\n",
        "# create a list to collect the plt.patches data\n",
        "y = []\n",
        "\n",
        "# find the values and append to list\n",
        "for i in cx.patches:\n",
        "    y.append(i.get_height())\n",
        "\n",
        "# set individual bar lables using above list\n",
        "y = sum(y)"
      ],
      "execution_count": 25,
      "outputs": [
        {
          "output_type": "display_data",
          "data": {
            "image/png": "[encoded data removed]",
            "text/plain": [
              "<Figure size 720x504 with 1 Axes>"
            ]
          },
          "metadata": {
            "tags": [],
            "needs_background": "light"
          }
        }
      ]
    },
    {
      "cell_type": "code",
      "metadata": {
        "colab": {
          "base_uri": "https://localhost:8080/",
          "height": 204
        },
        "id": "Ra2XgRWCTeB3",
        "outputId": "909a82ad-de6c-4488-d463-75c21062c8f3"
      },
      "source": [
        "df2 = new_df[[\"City\",\"Officer-defined ethnicity\",\"Self-defined ethnicity\",\"Removal of more than just outer clothing\"]]\n",
        "df2.head()"
      ],
      "execution_count": 26,
      "outputs": [
        {
          "output_type": "execute_result",
          "data": {
            "text/html": [
              "<div>\n",
              "<style scoped>\n",
              "    .dataframe tbody tr th:only-of-type {\n",
              "        vertical-align: middle;\n",
              "    }\n",
              "\n",
              "    .dataframe tbody tr th {\n",
              "        vertical-align: top;\n",
              "    }\n",
              "\n",
              "    .dataframe thead th {\n",
              "        text-align: right;\n",
              "    }\n",
              "</style>\n",
              "<table border=\"1\" class=\"dataframe\">\n",
              "  <thead>\n",
              "    <tr style=\"text-align: right;\">\n",
              "      <th></th>\n",
              "      <th>City</th>\n",
              "      <th>Officer-defined ethnicity</th>\n",
              "      <th>Self-defined ethnicity</th>\n",
              "      <th>Removal of more than just outer clothing</th>\n",
              "    </tr>\n",
              "  </thead>\n",
              "  <tbody>\n",
              "    <tr>\n",
              "      <th>0</th>\n",
              "      <td>Colchester</td>\n",
              "      <td>White</td>\n",
              "      <td>White - English/Welsh/Scottish/Northern Irish/...</td>\n",
              "      <td>False</td>\n",
              "    </tr>\n",
              "    <tr>\n",
              "      <th>1</th>\n",
              "      <td>Colchester</td>\n",
              "      <td>White</td>\n",
              "      <td>White - English/Welsh/Scottish/Northern Irish/...</td>\n",
              "      <td>False</td>\n",
              "    </tr>\n",
              "    <tr>\n",
              "      <th>2</th>\n",
              "      <td>Colchester</td>\n",
              "      <td>White</td>\n",
              "      <td>White - English/Welsh/Scottish/Northern Irish/...</td>\n",
              "      <td>False</td>\n",
              "    </tr>\n",
              "    <tr>\n",
              "      <th>3</th>\n",
              "      <td>Colchester</td>\n",
              "      <td>White</td>\n",
              "      <td>White - English/Welsh/Scottish/Northern Irish/...</td>\n",
              "      <td>False</td>\n",
              "    </tr>\n",
              "    <tr>\n",
              "      <th>4</th>\n",
              "      <td>Colchester</td>\n",
              "      <td>White</td>\n",
              "      <td>White - English/Welsh/Scottish/Northern Irish/...</td>\n",
              "      <td>False</td>\n",
              "    </tr>\n",
              "  </tbody>\n",
              "</table>\n",
              "</div>"
            ],
            "text/plain": [
              "         City  ... Removal of more than just outer clothing\n",
              "0  Colchester  ...                                    False\n",
              "1  Colchester  ...                                    False\n",
              "2  Colchester  ...                                    False\n",
              "3  Colchester  ...                                    False\n",
              "4  Colchester  ...                                    False\n",
              "\n",
              "[5 rows x 4 columns]"
            ]
          },
          "metadata": {
            "tags": []
          },
          "execution_count": 26
        }
      ]
    },
    {
      "cell_type": "code",
      "metadata": {
        "colab": {
          "base_uri": "https://localhost:8080/"
        },
        "id": "O8g0yVIST0aI",
        "outputId": "28c18ca7-2dd2-4b61-b788-84b00bad9800"
      },
      "source": [
        "labelencoder = LabelEncoder()\n",
        "df2['Removal of more than just outer clothing'] = labelencoder.fit_transform(df2['Removal of more than just outer clothing'])\n",
        "df2['City'] = labelencoder.fit_transform(df2['City'])\n",
        "df2 = pd.get_dummies(df2, columns=['Self-defined ethnicity'], prefix = ['self'])\n",
        "print(df2.head())"
      ],
      "execution_count": 27,
      "outputs": [
        {
          "output_type": "stream",
          "text": [
            "   City  ... self_White - Irish\n",
            "0     0  ...                  0\n",
            "1     0  ...                  0\n",
            "2     0  ...                  0\n",
            "3     0  ...                  0\n",
            "4     0  ...                  0\n",
            "\n",
            "[5 rows x 20 columns]\n"
          ],
          "name": "stdout"
        }
      ]
    },
    {
      "cell_type": "code",
      "metadata": {
        "colab": {
          "base_uri": "https://localhost:8080/"
        },
        "id": "yb_I1i8cT8lD",
        "outputId": "3d5a43a9-d096-4bd7-e6f5-f704e84786ba"
      },
      "source": [
        "#helper function\n",
        "def compute_outcome_stats(dfdf):\n",
        "    \"\"\"Compute statistics regarding the relative quanties of arrests, warnings, and citations\"\"\"\n",
        "    n_total = len(dfdf)\n",
        "    n_warnings = len(dfdf[dfdf['Outcome'] == 'Khat or Cannabis warning'])\n",
        "    n_penalty = len(dfdf[dfdf['Outcome'] == 'Penalty Notice for Disorder'])\n",
        "    n_arrests = len(dfdf[dfdf['Outcome'] == 'Arrest'])\n",
        "    penalty_per_warning = n_penalty / n_warnings\n",
        "    arrest_rate = n_arrests / n_total\n",
        "\n",
        "    return(pd.Series(data = {\n",
        "        'n_total': n_total,\n",
        "        'n_warnings': n_warnings,\n",
        "        'n_penalty': n_penalty,\n",
        "        'n_arrests': n_arrests,\n",
        "        'penalty_per_warning': penalty_per_warning,\n",
        "        'arrest_rate': arrest_rate\n",
        "    }))\n",
        "compute_outcome_stats(df)"
      ],
      "execution_count": 28,
      "outputs": [
        {
          "output_type": "execute_result",
          "data": {
            "text/plain": [
              "n_total                22257.000000\n",
              "n_warnings              1528.000000\n",
              "n_penalty                 12.000000\n",
              "n_arrests               2208.000000\n",
              "penalty_per_warning        0.007853\n",
              "arrest_rate                0.099205\n",
              "dtype: float64"
            ]
          },
          "metadata": {
            "tags": []
          },
          "execution_count": 28
        }
      ]
    },
    {
      "cell_type": "code",
      "metadata": {
        "colab": {
          "base_uri": "https://localhost:8080/",
          "height": 142
        },
        "id": "hS-RQ11dUCzv",
        "outputId": "91d40b2e-d7b5-4313-fd99-43cc1447d760"
      },
      "source": [
        "#breakdown by gender (using helper function)\n",
        "new_df.groupby('Gender').apply(compute_outcome_stats)"
      ],
      "execution_count": 29,
      "outputs": [
        {
          "output_type": "execute_result",
          "data": {
            "text/html": [
              "<div>\n",
              "<style scoped>\n",
              "    .dataframe tbody tr th:only-of-type {\n",
              "        vertical-align: middle;\n",
              "    }\n",
              "\n",
              "    .dataframe tbody tr th {\n",
              "        vertical-align: top;\n",
              "    }\n",
              "\n",
              "    .dataframe thead th {\n",
              "        text-align: right;\n",
              "    }\n",
              "</style>\n",
              "<table border=\"1\" class=\"dataframe\">\n",
              "  <thead>\n",
              "    <tr style=\"text-align: right;\">\n",
              "      <th></th>\n",
              "      <th>n_total</th>\n",
              "      <th>n_warnings</th>\n",
              "      <th>n_penalty</th>\n",
              "      <th>n_arrests</th>\n",
              "      <th>penalty_per_warning</th>\n",
              "      <th>arrest_rate</th>\n",
              "    </tr>\n",
              "    <tr>\n",
              "      <th>Gender</th>\n",
              "      <th></th>\n",
              "      <th></th>\n",
              "      <th></th>\n",
              "      <th></th>\n",
              "      <th></th>\n",
              "      <th></th>\n",
              "    </tr>\n",
              "  </thead>\n",
              "  <tbody>\n",
              "    <tr>\n",
              "      <th>Female</th>\n",
              "      <td>1907.0</td>\n",
              "      <td>129.0</td>\n",
              "      <td>0.0</td>\n",
              "      <td>116.0</td>\n",
              "      <td>0.000000</td>\n",
              "      <td>0.060829</td>\n",
              "    </tr>\n",
              "    <tr>\n",
              "      <th>Male</th>\n",
              "      <td>13965.0</td>\n",
              "      <td>1170.0</td>\n",
              "      <td>4.0</td>\n",
              "      <td>1420.0</td>\n",
              "      <td>0.003419</td>\n",
              "      <td>0.101683</td>\n",
              "    </tr>\n",
              "  </tbody>\n",
              "</table>\n",
              "</div>"
            ],
            "text/plain": [
              "        n_total  n_warnings  ...  penalty_per_warning  arrest_rate\n",
              "Gender                       ...                                  \n",
              "Female   1907.0       129.0  ...             0.000000     0.060829\n",
              "Male    13965.0      1170.0  ...             0.003419     0.101683\n",
              "\n",
              "[2 rows x 6 columns]"
            ]
          },
          "metadata": {
            "tags": []
          },
          "execution_count": 29
        }
      ]
    },
    {
      "cell_type": "code",
      "metadata": {
        "colab": {
          "base_uri": "https://localhost:8080/",
          "height": 204
        },
        "id": "xUYQQwEpVTtW",
        "outputId": "f6786057-6eee-4894-93db-1307a36652a7"
      },
      "source": [
        "#breakdown by race (using helper function)\n",
        "new_df.groupby('Officer-defined ethnicity').apply(compute_outcome_stats)"
      ],
      "execution_count": 30,
      "outputs": [
        {
          "output_type": "execute_result",
          "data": {
            "text/html": [
              "<div>\n",
              "<style scoped>\n",
              "    .dataframe tbody tr th:only-of-type {\n",
              "        vertical-align: middle;\n",
              "    }\n",
              "\n",
              "    .dataframe tbody tr th {\n",
              "        vertical-align: top;\n",
              "    }\n",
              "\n",
              "    .dataframe thead th {\n",
              "        text-align: right;\n",
              "    }\n",
              "</style>\n",
              "<table border=\"1\" class=\"dataframe\">\n",
              "  <thead>\n",
              "    <tr style=\"text-align: right;\">\n",
              "      <th></th>\n",
              "      <th>n_total</th>\n",
              "      <th>n_warnings</th>\n",
              "      <th>n_penalty</th>\n",
              "      <th>n_arrests</th>\n",
              "      <th>penalty_per_warning</th>\n",
              "      <th>arrest_rate</th>\n",
              "    </tr>\n",
              "    <tr>\n",
              "      <th>Officer-defined ethnicity</th>\n",
              "      <th></th>\n",
              "      <th></th>\n",
              "      <th></th>\n",
              "      <th></th>\n",
              "      <th></th>\n",
              "      <th></th>\n",
              "    </tr>\n",
              "  </thead>\n",
              "  <tbody>\n",
              "    <tr>\n",
              "      <th>Asian</th>\n",
              "      <td>781.0</td>\n",
              "      <td>72.0</td>\n",
              "      <td>0.0</td>\n",
              "      <td>90.0</td>\n",
              "      <td>0.000000</td>\n",
              "      <td>0.115237</td>\n",
              "    </tr>\n",
              "    <tr>\n",
              "      <th>Black</th>\n",
              "      <td>1512.0</td>\n",
              "      <td>129.0</td>\n",
              "      <td>1.0</td>\n",
              "      <td>202.0</td>\n",
              "      <td>0.007752</td>\n",
              "      <td>0.133598</td>\n",
              "    </tr>\n",
              "    <tr>\n",
              "      <th>Other</th>\n",
              "      <td>598.0</td>\n",
              "      <td>44.0</td>\n",
              "      <td>0.0</td>\n",
              "      <td>54.0</td>\n",
              "      <td>0.000000</td>\n",
              "      <td>0.090301</td>\n",
              "    </tr>\n",
              "    <tr>\n",
              "      <th>White</th>\n",
              "      <td>12981.0</td>\n",
              "      <td>1054.0</td>\n",
              "      <td>3.0</td>\n",
              "      <td>1190.0</td>\n",
              "      <td>0.002846</td>\n",
              "      <td>0.091672</td>\n",
              "    </tr>\n",
              "  </tbody>\n",
              "</table>\n",
              "</div>"
            ],
            "text/plain": [
              "                           n_total  ...  arrest_rate\n",
              "Officer-defined ethnicity           ...             \n",
              "Asian                        781.0  ...     0.115237\n",
              "Black                       1512.0  ...     0.133598\n",
              "Other                        598.0  ...     0.090301\n",
              "White                      12981.0  ...     0.091672\n",
              "\n",
              "[4 rows x 6 columns]"
            ]
          },
          "metadata": {
            "tags": []
          },
          "execution_count": 30
        }
      ]
    },
    {
      "cell_type": "code",
      "metadata": {
        "id": "c5d0TR4vVZfN"
      },
      "source": [
        "#Racial bias\n",
        "privileged_group = new_df[new_df[\"Officer-defined ethnicity\"] == \"Whites\"]\n",
        "underprivileged_group = new_df[new_df[\"Officer-defined ethnicity\"] == \"Non-Whites\"]"
      ],
      "execution_count": 31,
      "outputs": []
    },
    {
      "cell_type": "code",
      "metadata": {
        "id": "mcFMVr9XVcVx"
      },
      "source": [
        "#Gender bias\n",
        "privileged_group = new_df[new_df[\"Gender\"] == \"FEMALE\"]\n",
        "underprivileged_group = new_df[new_df[\"Gender\"] == \"MALE\"]"
      ],
      "execution_count": 33,
      "outputs": []
    }
  ]
}